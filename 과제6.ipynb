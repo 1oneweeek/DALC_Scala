{
  "nbformat": 4,
  "nbformat_minor": 0,
  "metadata": {
    "colab": {
      "name": "과제6.ipynb",
      "provenance": [],
      "authorship_tag": "ABX9TyN1sTyk/hZFAO5tUG0Mb3xt",
      "include_colab_link": true
    },
    "kernelspec": {
      "name": "python3",
      "display_name": "Python 3"
    },
    "language_info": {
      "name": "python"
    }
  },
  "cells": [
    {
      "cell_type": "markdown",
      "metadata": {
        "id": "view-in-github",
        "colab_type": "text"
      },
      "source": [
        "<a href=\"https://colab.research.google.com/github/1oneweeek/DALC_Scala/blob/main/%EA%B3%BC%EC%A0%9C6.ipynb\" target=\"_parent\"><img src=\"https://colab.research.google.com/assets/colab-badge.svg\" alt=\"Open In Colab\"/></a>"
      ]
    },
    {
      "cell_type": "code",
      "metadata": {
        "id": "OI0lVbJtp18e"
      },
      "source": [
        "class MyStack:\n",
        "    def __init__(self):\n",
        "        self.q = collections.deque()\n",
        "\n",
        "    def push(self, x):\n",
        "        self.q.append(x)\n",
        "        # 요소 삽입 후 맨 앞에 두는 상태로 재정렬\n",
        "        for _ in range(len(self.q) - 1):\n",
        "            self.q.append(self.q.popleft())\n",
        "\n",
        "    def pop(self):\n",
        "        return self.q.popleft()\n",
        "\n",
        "    def top(self):\n",
        "        return self.q[0]\n",
        "\n",
        "    def empty(self):\n",
        "        return len(self.q) == 0"
      ],
      "execution_count": 1,
      "outputs": []
    },
    {
      "cell_type": "code",
      "metadata": {
        "id": "oyvqBz3OpoZv"
      },
      "source": [
        "class MyStack:\n",
        "\n",
        "    def __init__(self):\n",
        "        self.q = collections.deque()\n",
        "\n",
        "    def push(self, x: int) -> None:\n",
        "        self.q.append(x)\n",
        "        for _ in range(len(self.q) - 1):\n",
        "            self.q.append(self.q.popleft())\n",
        "\n",
        "    def pop(self) -> int:\n",
        "        return self.q1.popleft()\n",
        "\n",
        "    def top(self) -> int:\n",
        "        return self.q1[0]\n",
        "\n",
        "    def empty(self) -> bool:\n",
        "        return len(self.q1)==0"
      ],
      "execution_count": 2,
      "outputs": []
    },
    {
      "cell_type": "code",
      "metadata": {
        "id": "LffiNbyWqK6_"
      },
      "source": [
        "class MyCirculurQueue:\n",
        "    def __init__(self, k):\n",
        "        self.q = [None] * k\n",
        "        self.maxlen = k\n",
        "        self.p1 = 0\n",
        "        self.p2 = 0\n",
        "\n",
        "    # enQueue(): rear 포인터 이동\n",
        "    def enQueue(self, value):\n",
        "        if self.q[self.p2] is None:\n",
        "            self.q[self.p2] = value\n",
        "            self.p2 = (self.p2 + 1) % self.maxlen\n",
        "            return True\n",
        "        else:\n",
        "            return False"
      ],
      "execution_count": null,
      "outputs": []
    }
  ]
}