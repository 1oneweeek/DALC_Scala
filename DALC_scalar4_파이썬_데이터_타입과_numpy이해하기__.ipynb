{
  "nbformat": 4,
  "nbformat_minor": 0,
  "metadata": {
    "colab": {
      "name": "DALC_scalar4_파이썬_데이터_타입과_numpy이해하기__.ipynb",
      "provenance": [],
      "collapsed_sections": [],
      "include_colab_link": true
    },
    "kernelspec": {
      "name": "python3",
      "display_name": "Python 3"
    },
    "language_info": {
      "name": "python"
    }
  },
  "cells": [
    {
      "cell_type": "markdown",
      "metadata": {
        "id": "view-in-github",
        "colab_type": "text"
      },
      "source": [
        "<a href=\"https://colab.research.google.com/github/1oneweeek/DALC_Scala/blob/main/DALC_scalar4_%ED%8C%8C%EC%9D%B4%EC%8D%AC_%EB%8D%B0%EC%9D%B4%ED%84%B0_%ED%83%80%EC%9E%85%EA%B3%BC_numpy%EC%9D%B4%ED%95%B4%ED%95%98%EA%B8%B0__.ipynb\" target=\"_parent\"><img src=\"https://colab.research.google.com/assets/colab-badge.svg\" alt=\"Open In Colab\"/></a>"
      ]
    },
    {
      "cell_type": "markdown",
      "metadata": {
        "id": "giYnypId9JKA"
      },
      "source": [
        "# Numpy 기초"
      ]
    },
    {
      "cell_type": "markdown",
      "metadata": {
        "id": "mMuPNu735nzw"
      },
      "source": [
        "## 넘파이 패키지 불러오기"
      ]
    },
    {
      "cell_type": "code",
      "metadata": {
        "id": "R86NUr6E6IxC"
      },
      "source": [
        "# 넘파이 패키지를 불러오기 np로 줄여쓰기# 넘파이 패키지를 불러오기 np로 줄여쓰기\n",
        "import numpy as np"
      ],
      "execution_count": 1,
      "outputs": []
    },
    {
      "cell_type": "markdown",
      "metadata": {
        "id": "zYd86L6l6LR_"
      },
      "source": [
        "## array 정의 및 생성"
      ]
    },
    {
      "cell_type": "code",
      "metadata": {
        "id": "iYL2w7ZH6OvI",
        "colab": {
          "base_uri": "https://localhost:8080/"
        },
        "outputId": "57d77a19-209b-4c04-bd19-430f8cd32007"
      },
      "source": [
        "# 넘파이 array를 사용하여 a라는 변수에 1부터 10까지의 숫자 리스트 배열을 생성하기\n",
        "a = np.array([1, 2, 3, 4, 5, 6, 7, 8, 9, 10])\n",
        "print(a)"
      ],
      "execution_count": 2,
      "outputs": [
        {
          "output_type": "stream",
          "text": [
            "[ 1  2  3  4  5  6  7  8  9 10]\n"
          ],
          "name": "stdout"
        }
      ]
    },
    {
      "cell_type": "code",
      "metadata": {
        "id": "WUOwTypoBPRC",
        "colab": {
          "base_uri": "https://localhost:8080/"
        },
        "outputId": "de4b6b72-8150-47f9-b6c2-3ef3b6dfb172"
      },
      "source": [
        "#파이썬의 기본 range 함수와 비슷한 넘파이 range 함수를 사용하여 ndarray를 만들 수 있습니다:\n",
        "\n",
        "a = np.arange(1, 11)\n",
        "a"
      ],
      "execution_count": 3,
      "outputs": [
        {
          "output_type": "execute_result",
          "data": {
            "text/plain": [
              "array([ 1,  2,  3,  4,  5,  6,  7,  8,  9, 10])"
            ]
          },
          "metadata": {
            "tags": []
          },
          "execution_count": 3
        }
      ]
    },
    {
      "cell_type": "markdown",
      "metadata": {
        "id": "FOK4pK-I6pDn"
      },
      "source": [
        "## 배열 구성"
      ]
    },
    {
      "cell_type": "code",
      "metadata": {
        "id": "ocsVMvGT6rcJ",
        "colab": {
          "base_uri": "https://localhost:8080/"
        },
        "outputId": "da125686-50b5-4f8f-f027-8b76eb76f5a2"
      },
      "source": [
        "# full 함수를 사용하여 b라는 변수에 2.71 수로 3 X 4 다차원 배열 만들기\n",
        "b = np.full((3, 4), 2.71)\n",
        "b"
      ],
      "execution_count": 4,
      "outputs": [
        {
          "output_type": "execute_result",
          "data": {
            "text/plain": [
              "array([[2.71, 2.71, 2.71, 2.71],\n",
              "       [2.71, 2.71, 2.71, 2.71],\n",
              "       [2.71, 2.71, 2.71, 2.71]])"
            ]
          },
          "metadata": {
            "tags": []
          },
          "execution_count": 4
        }
      ]
    },
    {
      "cell_type": "code",
      "metadata": {
        "id": "ReJJ53HV6_5k",
        "colab": {
          "base_uri": "https://localhost:8080/"
        },
        "outputId": "fcd25382-6da9-4cc8-ec21-ba326ee5cfda"
      },
      "source": [
        "# arrange 함수를 사용하여 c라는 변수에 0부터 10까지 짝수만 있는 배열 구성하기\n",
        "c = np.arange(0, 10, 2)\n",
        "c"
      ],
      "execution_count": 5,
      "outputs": [
        {
          "output_type": "execute_result",
          "data": {
            "text/plain": [
              "array([0, 2, 4, 6, 8])"
            ]
          },
          "metadata": {
            "tags": []
          },
          "execution_count": 5
        }
      ]
    },
    {
      "cell_type": "code",
      "metadata": {
        "id": "UiHHzUCn7ak9",
        "colab": {
          "base_uri": "https://localhost:8080/"
        },
        "outputId": "05744c18-9375-4701-dab4-6722c884ba8c"
      },
      "source": [
        "# linespace 함수를 사용하여 d라는 변수에 0부터 1까지 4개 요소 값을 가진 배열 생성하기\n",
        "d = np.linspace(0, 1, 4)\n",
        "d"
      ],
      "execution_count": 6,
      "outputs": [
        {
          "output_type": "execute_result",
          "data": {
            "text/plain": [
              "array([0.        , 0.33333333, 0.66666667, 1.        ])"
            ]
          },
          "metadata": {
            "tags": []
          },
          "execution_count": 6
        }
      ]
    },
    {
      "cell_type": "code",
      "metadata": {
        "id": "cgqpObYO7m_o",
        "colab": {
          "base_uri": "https://localhost:8080/"
        },
        "outputId": "e9c99925-9730-4d23-9669-12d6a666c866"
      },
      "source": [
        "# randint 함수를 사용하여 0 부터 100까지 수를 2 X 2 배열로 생성하기\n",
        "e = np.random.randint(0, 100, (2, 2))\n",
        "e"
      ],
      "execution_count": 7,
      "outputs": [
        {
          "output_type": "execute_result",
          "data": {
            "text/plain": [
              "array([[63, 40],\n",
              "       [60, 83]])"
            ]
          },
          "metadata": {
            "tags": []
          },
          "execution_count": 7
        }
      ]
    },
    {
      "cell_type": "markdown",
      "metadata": {
        "id": "gmqrBmjV8I_q"
      },
      "source": [
        "## 배열 인덱싱"
      ]
    },
    {
      "cell_type": "code",
      "metadata": {
        "id": "u1YDX-907tCM",
        "colab": {
          "base_uri": "https://localhost:8080/"
        },
        "outputId": "6e74ceef-f5fd-4fa4-c7cb-2a956a2ad29b"
      },
      "source": [
        "# a변수에서 인덱스 2 (앞에서 3번째) 와 인덱스 -3 (뒤에서 3번째)에 해당하는 수 가져오기\n",
        "print(a[2], a[-3])"
      ],
      "execution_count": 8,
      "outputs": [
        {
          "output_type": "stream",
          "text": [
            "3 8\n"
          ],
          "name": "stdout"
        }
      ]
    },
    {
      "cell_type": "code",
      "metadata": {
        "id": "09OUlcP98IFO",
        "colab": {
          "base_uri": "https://localhost:8080/"
        },
        "outputId": "77f86e65-a3fa-414d-9c02-eea130e29e65"
      },
      "source": [
        "# a 변수에서 인덱스 3부터 9 까지 슬라이싱하기\n",
        "print(a[3:9])"
      ],
      "execution_count": 9,
      "outputs": [
        {
          "output_type": "stream",
          "text": [
            "[4 5 6 7 8 9]\n"
          ],
          "name": "stdout"
        }
      ]
    },
    {
      "cell_type": "markdown",
      "metadata": {
        "id": "B7ZsYxD-9BDG"
      },
      "source": [
        "## 배열 재구조화"
      ]
    },
    {
      "cell_type": "code",
      "metadata": {
        "id": "OUDkKScoFwID",
        "colab": {
          "base_uri": "https://localhost:8080/"
        },
        "outputId": "a829ed48-4688-4bbd-9139-5f6de030ead9"
      },
      "source": [
        "#차원의 개수 알아보는 함수\n",
        "x = np.random.randint(10, size = (3, 4, 5))\n",
        "x.ndim"
      ],
      "execution_count": 10,
      "outputs": [
        {
          "output_type": "execute_result",
          "data": {
            "text/plain": [
              "3"
            ]
          },
          "metadata": {
            "tags": []
          },
          "execution_count": 10
        }
      ]
    },
    {
      "cell_type": "code",
      "metadata": {
        "id": "BAXVPoxoFwUD",
        "colab": {
          "base_uri": "https://localhost:8080/"
        },
        "outputId": "485b1219-96c8-4593-cc73-c0c4536e3aa6"
      },
      "source": [
        "#차원의 크기 알아보는 함수\n",
        "x.shape"
      ],
      "execution_count": 11,
      "outputs": [
        {
          "output_type": "execute_result",
          "data": {
            "text/plain": [
              "(3, 4, 5)"
            ]
          },
          "metadata": {
            "tags": []
          },
          "execution_count": 11
        }
      ]
    },
    {
      "cell_type": "code",
      "metadata": {
        "id": "lNaAPxjqGc8f",
        "colab": {
          "base_uri": "https://localhost:8080/"
        },
        "outputId": "00013bae-41f1-4a28-a0b5-4b85e10744ae"
      },
      "source": [
        "#전체 배열크기 알아보는 함수\n",
        "x.size"
      ],
      "execution_count": 12,
      "outputs": [
        {
          "output_type": "execute_result",
          "data": {
            "text/plain": [
              "60"
            ]
          },
          "metadata": {
            "tags": []
          },
          "execution_count": 12
        }
      ]
    },
    {
      "cell_type": "code",
      "metadata": {
        "id": "LpmpluGdGG8T",
        "colab": {
          "base_uri": "https://localhost:8080/"
        },
        "outputId": "c0b7ba52-5dde-4e38-9997-0bb77188d349"
      },
      "source": [
        "#0부터10까지 정수를 가진 x변수에서 4~7까지의 요소를 가진 하위배열생성\n",
        "x = np.arange(10)\n",
        "x[4:7]"
      ],
      "execution_count": 13,
      "outputs": [
        {
          "output_type": "execute_result",
          "data": {
            "text/plain": [
              "array([4, 5, 6])"
            ]
          },
          "metadata": {
            "tags": []
          },
          "execution_count": 13
        }
      ]
    },
    {
      "cell_type": "code",
      "metadata": {
        "id": "vosKsX6-GHD6",
        "colab": {
          "base_uri": "https://localhost:8080/"
        },
        "outputId": "19b62402-ae5a-4fd5-8f6c-5420b0c05c67"
      },
      "source": [
        "#0부터10까지 정수를 가진 x변수에서 첫번째 다섯 요소를 가진 하위 배열 생성\n",
        "x[:5]"
      ],
      "execution_count": 14,
      "outputs": [
        {
          "output_type": "execute_result",
          "data": {
            "text/plain": [
              "array([0, 1, 2, 3, 4])"
            ]
          },
          "metadata": {
            "tags": []
          },
          "execution_count": 14
        }
      ]
    },
    {
      "cell_type": "code",
      "metadata": {
        "id": "mEW2HOOSHBar",
        "colab": {
          "base_uri": "https://localhost:8080/"
        },
        "outputId": "9fd83133-4e96-4fd8-8f91-ce442693ef68"
      },
      "source": [
        "#0부터10까지 정수를 가진 x변수에서 인덱스 5 이후의 요소를 가진 하위 배열을 생성\n",
        "x[5:]"
      ],
      "execution_count": 15,
      "outputs": [
        {
          "output_type": "execute_result",
          "data": {
            "text/plain": [
              "array([5, 6, 7, 8, 9])"
            ]
          },
          "metadata": {
            "tags": []
          },
          "execution_count": 15
        }
      ]
    },
    {
      "cell_type": "code",
      "metadata": {
        "id": "TD0eKXKOHFiq",
        "colab": {
          "base_uri": "https://localhost:8080/"
        },
        "outputId": "f8382cd8-119d-44d0-b3d0-ccd6685ddb2e"
      },
      "source": [
        "# 인덱스 0,1행과 인덱스 0,1,2열 즉 2행3열인 다차원 하위 배열 생성(콤마이용하기)\n",
        "z = np.array([[2, 4, 6, 8, 10], [3, 6, 9, 12, 15]])\n",
        "z[:2, :3]"
      ],
      "execution_count": 16,
      "outputs": [
        {
          "output_type": "execute_result",
          "data": {
            "text/plain": [
              "array([[2, 4, 6],\n",
              "       [3, 6, 9]])"
            ]
          },
          "metadata": {
            "tags": []
          },
          "execution_count": 16
        }
      ]
    },
    {
      "cell_type": "code",
      "metadata": {
        "id": "uqvnK_MqHSjX",
        "colab": {
          "base_uri": "https://localhost:8080/"
        },
        "outputId": "7163c39e-5be0-42c7-c6c6-ffffaebd5088"
      },
      "source": [
        "#1부터 10까지 배열을 3행3열로 재배열하기(reshape사용)\n",
        "z = np.arange(1, 10).reshape(3, 3)\n",
        "z"
      ],
      "execution_count": 17,
      "outputs": [
        {
          "output_type": "execute_result",
          "data": {
            "text/plain": [
              "array([[1, 2, 3],\n",
              "       [4, 5, 6],\n",
              "       [7, 8, 9]])"
            ]
          },
          "metadata": {
            "tags": []
          },
          "execution_count": 17
        }
      ]
    },
    {
      "cell_type": "markdown",
      "metadata": {
        "id": "Fe5b8TCo9CUi"
      },
      "source": [
        "## 배열 결합"
      ]
    },
    {
      "cell_type": "code",
      "metadata": {
        "id": "nkYF1XetHZFA"
      },
      "source": [
        "#두개의 배열 결합하기"
      ],
      "execution_count": 18,
      "outputs": []
    },
    {
      "cell_type": "code",
      "metadata": {
        "id": "NObVaN04Hbt8",
        "colab": {
          "base_uri": "https://localhost:8080/"
        },
        "outputId": "8a1741f5-f586-40da-e6db-a8af436be168"
      },
      "source": [
        "#수직으로 두개의 배열 결합하기\n",
        "x = np.array([1, 2, 3])\n",
        "y = np.array([[4, 5, 6], [7, 8, 9]])\n",
        "v = np.vstack([x, y])\n",
        "v"
      ],
      "execution_count": 19,
      "outputs": [
        {
          "output_type": "execute_result",
          "data": {
            "text/plain": [
              "array([[1, 2, 3],\n",
              "       [4, 5, 6],\n",
              "       [7, 8, 9]])"
            ]
          },
          "metadata": {
            "tags": []
          },
          "execution_count": 19
        }
      ]
    },
    {
      "cell_type": "code",
      "metadata": {
        "id": "NFQ0_cEjHkCy",
        "colab": {
          "base_uri": "https://localhost:8080/"
        },
        "outputId": "60aa59dc-7e90-4aec-f4bc-4d96b4e05dfd"
      },
      "source": [
        "#수평으로 두개의 배열 결합하기\n",
        "k = np.array([[99], [99]])\n",
        "z = np.hstack([y, k])\n",
        "z"
      ],
      "execution_count": 20,
      "outputs": [
        {
          "output_type": "execute_result",
          "data": {
            "text/plain": [
              "array([[ 4,  5,  6, 99],\n",
              "       [ 7,  8,  9, 99]])"
            ]
          },
          "metadata": {
            "tags": []
          },
          "execution_count": 20
        }
      ]
    },
    {
      "cell_type": "markdown",
      "metadata": {
        "id": "vNpmxjef9EiC"
      },
      "source": [
        "## 배열 분할"
      ]
    },
    {
      "cell_type": "code",
      "metadata": {
        "id": "XBu15lZ7Hxzu",
        "colab": {
          "base_uri": "https://localhost:8080/"
        },
        "outputId": "1ee95b60-d10a-45fb-c6e5-b65b6b888622"
      },
      "source": [
        "#7개의 숫자를 가진 리스트 x를 3개의 변수 x1,x2,x3로 분할하기\n",
        "x = [1, 2, 3, 49, 52, 71, 99]\n",
        "x1, x2, x3 = np.split(x, [3, 5])\n",
        "print(x1, x2, x3)"
      ],
      "execution_count": 21,
      "outputs": [
        {
          "output_type": "stream",
          "text": [
            "[1 2 3] [49 52] [71 99]\n"
          ],
          "name": "stdout"
        }
      ]
    },
    {
      "cell_type": "code",
      "metadata": {
        "id": "XdklCHyCHx75",
        "colab": {
          "base_uri": "https://localhost:8080/"
        },
        "outputId": "eb8ba91d-bbbc-43e3-d643-8718c78d4891"
      },
      "source": [
        "#4행4열 차원을 배열이 상하 2개로 나누게 분할\n",
        "u = np.arange(16).reshape((4, 4))\n",
        "upper, lower = np.vsplit(u, [2])\n",
        "print(upper)\n",
        "print(lower)"
      ],
      "execution_count": 22,
      "outputs": [
        {
          "output_type": "stream",
          "text": [
            "[[0 1 2 3]\n",
            " [4 5 6 7]]\n",
            "[[ 8  9 10 11]\n",
            " [12 13 14 15]]\n"
          ],
          "name": "stdout"
        }
      ]
    },
    {
      "cell_type": "markdown",
      "metadata": {
        "id": "dDE6Ap4n9S28"
      },
      "source": [
        "# Numpy 심화"
      ]
    },
    {
      "cell_type": "markdown",
      "metadata": {
        "id": "uH4cKovY9Whm"
      },
      "source": [
        "## 유니버셜함수"
      ]
    },
    {
      "cell_type": "code",
      "metadata": {
        "id": "4GAlLhUiAz13",
        "colab": {
          "base_uri": "https://localhost:8080/"
        },
        "outputId": "575b8ad8-b76a-449d-9a9b-70f162544755"
      },
      "source": [
        "# zeros 함수는 0으로 채워진 배열을 만듭니다:\n",
        "np.zeros(5)"
      ],
      "execution_count": 23,
      "outputs": [
        {
          "output_type": "execute_result",
          "data": {
            "text/plain": [
              "array([0., 0., 0., 0., 0.])"
            ]
          },
          "metadata": {
            "tags": []
          },
          "execution_count": 23
        }
      ]
    },
    {
      "cell_type": "code",
      "metadata": {
        "id": "3vxe2YivA18-",
        "colab": {
          "base_uri": "https://localhost:8080/"
        },
        "outputId": "79724616-ff0d-4520-80e8-34b84e31b6de"
      },
      "source": [
        "#2D 배열(즉, 행렬)을 만들려면 원하는 행과 열의 크기를 튜플로 전달합니다. 예를 들어 다음은 3 \\times 4 크기의 행렬입니다:\n",
        "\n",
        "np.zeros((3,4))"
      ],
      "execution_count": 24,
      "outputs": [
        {
          "output_type": "execute_result",
          "data": {
            "text/plain": [
              "array([[0., 0., 0., 0.],\n",
              "       [0., 0., 0., 0.],\n",
              "       [0., 0., 0., 0.]])"
            ]
          },
          "metadata": {
            "tags": []
          },
          "execution_count": 24
        }
      ]
    },
    {
      "cell_type": "code",
      "metadata": {
        "id": "vUJHEN_FA6By",
        "colab": {
          "base_uri": "https://localhost:8080/"
        },
        "outputId": "1f3f2d20-0c6c-4c5a-de42-576b7842ac61"
      },
      "source": [
        "a = np.zeros((3,4))\n",
        "a"
      ],
      "execution_count": 25,
      "outputs": [
        {
          "output_type": "execute_result",
          "data": {
            "text/plain": [
              "array([[0., 0., 0., 0.],\n",
              "       [0., 0., 0., 0.],\n",
              "       [0., 0., 0., 0.]])"
            ]
          },
          "metadata": {
            "tags": []
          },
          "execution_count": 25
        }
      ]
    },
    {
      "cell_type": "code",
      "metadata": {
        "id": "mzrutOYyA8CS",
        "colab": {
          "base_uri": "https://localhost:8080/"
        },
        "outputId": "a3de0b71-ed55-4684-c829-9f3c301910c8"
      },
      "source": [
        "a.shape"
      ],
      "execution_count": 26,
      "outputs": [
        {
          "output_type": "execute_result",
          "data": {
            "text/plain": [
              "(3, 4)"
            ]
          },
          "metadata": {
            "tags": []
          },
          "execution_count": 26
        }
      ]
    },
    {
      "cell_type": "code",
      "metadata": {
        "id": "Knsc4SCPA9FI",
        "colab": {
          "base_uri": "https://localhost:8080/"
        },
        "outputId": "c2b70631-3a52-4c2e-923b-72d39bc76537"
      },
      "source": [
        "a.ndim # len(a.shape)와 같습니다"
      ],
      "execution_count": 27,
      "outputs": [
        {
          "output_type": "execute_result",
          "data": {
            "text/plain": [
              "2"
            ]
          },
          "metadata": {
            "tags": []
          },
          "execution_count": 27
        }
      ]
    },
    {
      "cell_type": "code",
      "metadata": {
        "id": "sq0vJhlgA-M3",
        "colab": {
          "base_uri": "https://localhost:8080/"
        },
        "outputId": "0ffa1e46-fe45-4ba2-dd5c-2ebefc2a8827"
      },
      "source": [
        "a.size"
      ],
      "execution_count": 28,
      "outputs": [
        {
          "output_type": "execute_result",
          "data": {
            "text/plain": [
              "12"
            ]
          },
          "metadata": {
            "tags": []
          },
          "execution_count": 28
        }
      ]
    },
    {
      "cell_type": "code",
      "metadata": {
        "id": "g_i6UPINA_8o",
        "colab": {
          "base_uri": "https://localhost:8080/"
        },
        "outputId": "7584fded-a1f8-46fb-aeb6-dde39d6e2bcc"
      },
      "source": [
        "# 초기화되지 않은 2 \\times 3 크기의 배열을 만듭니다(배열의 내용은 예측이 불가능하며 메모리 상황에 따라 달라집니다):\n",
        "\n",
        "np.empty((2,3))"
      ],
      "execution_count": 29,
      "outputs": [
        {
          "output_type": "execute_result",
          "data": {
            "text/plain": [
              "array([[4.68764917e-310, 0.00000000e+000, 0.00000000e+000],\n",
              "       [0.00000000e+000, 0.00000000e+000, 0.00000000e+000]])"
            ]
          },
          "metadata": {
            "tags": []
          },
          "execution_count": 29
        }
      ]
    },
    {
      "cell_type": "code",
      "metadata": {
        "id": "PTCzRhCiBAyo",
        "colab": {
          "base_uri": "https://localhost:8080/"
        },
        "outputId": "2068f009-7302-4946-e6e0-63b1bd0d272b"
      },
      "source": [
        "#array 함수는 파이썬 리스트를 사용하여 ndarray를 초기화합니다:\n",
        "\n",
        "np.array([[1,2,3,4], [10, 20, 30, 40]])"
      ],
      "execution_count": 30,
      "outputs": [
        {
          "output_type": "execute_result",
          "data": {
            "text/plain": [
              "array([[ 1,  2,  3,  4],\n",
              "       [10, 20, 30, 40]])"
            ]
          },
          "metadata": {
            "tags": []
          },
          "execution_count": 30
        }
      ]
    },
    {
      "cell_type": "code",
      "metadata": {
        "id": "dAU3-6CV9u3R",
        "colab": {
          "base_uri": "https://localhost:8080/"
        },
        "outputId": "9ebc8f4d-08c1-4c6e-8d51-5fb9f741fe08"
      },
      "source": [
        "# x = np.array([-10, -5, 0, 3, 7])\n",
        "# x에 있는 배열을 모두 양의 정수로 반환하기\n",
        "np.abs(x)"
      ],
      "execution_count": 31,
      "outputs": [
        {
          "output_type": "execute_result",
          "data": {
            "text/plain": [
              "array([ 1,  2,  3, 49, 52, 71, 99])"
            ]
          },
          "metadata": {
            "tags": []
          },
          "execution_count": 31
        }
      ]
    },
    {
      "cell_type": "code",
      "metadata": {
        "id": "xrZfT0dH-J4X",
        "colab": {
          "base_uri": "https://localhost:8080/"
        },
        "outputId": "ff38e076-4221-4480-b165-56d7b9f29432"
      },
      "source": [
        "# 모두 양의 정수가 된 배열 x를 자연로그 배열로 반환하기\n",
        "print(\"ln(x) =\", np.log10(x))"
      ],
      "execution_count": 32,
      "outputs": [
        {
          "output_type": "stream",
          "text": [
            "ln(x) = [0.         0.30103    0.47712125 1.69019608 1.71600334 1.85125835\n",
            " 1.99563519]\n"
          ],
          "name": "stdout"
        }
      ]
    },
    {
      "cell_type": "markdown",
      "metadata": {
        "id": "wQ14Cr7W9ZNP"
      },
      "source": [
        "## 집계함수"
      ]
    },
    {
      "cell_type": "code",
      "metadata": {
        "id": "VQgkBEIDC5er",
        "colab": {
          "base_uri": "https://localhost:8080/"
        },
        "outputId": "d1fa3de7-17a0-41ea-ab31-7c3c1f2ca81f"
      },
      "source": [
        "x=np.array([-2,-1,0,1,2])\n",
        "\"절댓값을 씌우려면?\"\n",
        "힌트: \"np.absolute(x)\"\n",
        "np.abs(x)\n"
      ],
      "execution_count": 33,
      "outputs": [
        {
          "output_type": "execute_result",
          "data": {
            "text/plain": [
              "array([2, 1, 0, 1, 2])"
            ]
          },
          "metadata": {
            "tags": []
          },
          "execution_count": 33
        }
      ]
    },
    {
      "cell_type": "code",
      "metadata": {
        "id": "yGy7cRtmC6AA",
        "colab": {
          "base_uri": "https://localhost:8080/"
        },
        "outputId": "1b30d658-1b76-43a8-cb47-48578bce73dd"
      },
      "source": [
        "#삼각함수\n",
        "theta = np.linspace(0,np.pi,3)\n",
        "print(\"theta=\" , theta)\n",
        "print(\" 코사인 함수 =\", np.cos(theta))\n",
        "print(\"탄젠트 함수= \", np.tan(theta)) \n",
        "\n"
      ],
      "execution_count": 34,
      "outputs": [
        {
          "output_type": "stream",
          "text": [
            "theta= [0.         1.57079633 3.14159265]\n",
            " 코사인 함수 = [ 1.000000e+00  6.123234e-17 -1.000000e+00]\n",
            "탄젠트 함수=  [ 0.00000000e+00  1.63312394e+16 -1.22464680e-16]\n"
          ],
          "name": "stdout"
        }
      ]
    },
    {
      "cell_type": "code",
      "metadata": {
        "id": "XCvqtkfdC6DQ",
        "colab": {
          "base_uri": "https://localhost:8080/"
        },
        "outputId": "d9c43c84-fdde-4f98-8e53-af816dd5a618"
      },
      "source": [
        "#역삼각함수\n",
        "x = [-1, 0, 1]\n",
        "print(\"역 사인함수=\", np.arcsin(x))\n",
        "print(\"역 코사인함수=\", np.arccos(x))\n",
        "print(\"역 탄젠트함수=\", np.arctan(x))"
      ],
      "execution_count": 35,
      "outputs": [
        {
          "output_type": "stream",
          "text": [
            "역 사인함수= [-1.57079633  0.          1.57079633]\n",
            "역 코사인함수= [3.14159265 1.57079633 0.        ]\n",
            "역 탄젠트함수= [-0.78539816  0.          0.78539816]\n"
          ],
          "name": "stdout"
        }
      ]
    },
    {
      "cell_type": "code",
      "metadata": {
        "id": "Bz4GuB0sC6IE",
        "colab": {
          "base_uri": "https://localhost:8080/"
        },
        "outputId": "bebc03f3-ce89-42ed-8409-93159035dcb3"
      },
      "source": [
        "#로그함수\n",
        "x=[1,2,4,10]\n",
        "print(\"자연로그=\",np.log(x))\n",
        "print(\"밑이2인 로그함수=\",np.log2(x))\n",
        "print(\"밑이 10인 로그함수=\", np.log10(x))"
      ],
      "execution_count": 36,
      "outputs": [
        {
          "output_type": "stream",
          "text": [
            "자연로그= [0.         0.69314718 1.38629436 2.30258509]\n",
            "밑이2인 로그함수= [0.         1.         2.         3.32192809]\n",
            "밑이 10인 로그함수= [0.         0.30103    0.60205999 1.        ]\n"
          ],
          "name": "stdout"
        }
      ]
    },
    {
      "cell_type": "code",
      "metadata": {
        "id": "mYPwcUsvC6Ls",
        "colab": {
          "base_uri": "https://localhost:8080/"
        },
        "outputId": "68700f4b-bb4f-4957-a9b6-d73e4db53477"
      },
      "source": [
        "#지수함수\n",
        "x=[1,2,3]\n",
        "print(\"e^x=\", np.exp(x))\n",
        "print(\"2^x\", np.exp2(x))\n",
        "print(\"3^x=\",np.power(3, x))"
      ],
      "execution_count": 37,
      "outputs": [
        {
          "output_type": "stream",
          "text": [
            "e^x= [ 2.71828183  7.3890561  20.08553692]\n",
            "2^x [2. 4. 8.]\n",
            "3^x= [ 3  9 27]\n"
          ],
          "name": "stdout"
        }
      ]
    },
    {
      "cell_type": "code",
      "metadata": {
        "id": "TIhmzJunC6PJ",
        "colab": {
          "base_uri": "https://localhost:8080/"
        },
        "outputId": "296a13d9-4be9-40ac-f721-6c3cb7e29e25"
      },
      "source": [
        "#out 인자 \n",
        "x=np.arange(5)\n",
        "y=np.empty(5)\n",
        "np.multiply(x,10,out=y)\n",
        "print(y)"
      ],
      "execution_count": 38,
      "outputs": [
        {
          "output_type": "stream",
          "text": [
            "[ 0. 10. 20. 30. 40.]\n"
          ],
          "name": "stdout"
        }
      ]
    },
    {
      "cell_type": "code",
      "metadata": {
        "id": "7Xjkz_DiC6SQ",
        "colab": {
          "base_uri": "https://localhost:8080/"
        },
        "outputId": "5a81b12b-9110-4e3e-9c2f-86168576ce32"
      },
      "source": [
        "#out 인자를 활용하여 배열 슬라이싱\n",
        "x=np.arange(5)\n",
        "y=np.empty(10)\n",
        "np.power(2,x,out=y[::2])\n",
        "print(y)"
      ],
      "execution_count": 39,
      "outputs": [
        {
          "output_type": "stream",
          "text": [
            "[ 1.  0.  2.  0.  4.  0.  8.  0. 16.  0.]\n"
          ],
          "name": "stdout"
        }
      ]
    },
    {
      "cell_type": "code",
      "metadata": {
        "id": "iE_xW8KzDBof",
        "colab": {
          "base_uri": "https://localhost:8080/"
        },
        "outputId": "a5f9dcc7-e893-4fd1-fbb6-f168a15b8ea4"
      },
      "source": [
        "#reduce 함수\n",
        "x=np.arange(1,5)\n",
        "np.add.reduce(x)"
      ],
      "execution_count": 40,
      "outputs": [
        {
          "output_type": "execute_result",
          "data": {
            "text/plain": [
              "10"
            ]
          },
          "metadata": {
            "tags": []
          },
          "execution_count": 40
        }
      ]
    },
    {
      "cell_type": "code",
      "metadata": {
        "id": "QfZWyUi1DCJd",
        "colab": {
          "base_uri": "https://localhost:8080/"
        },
        "outputId": "eefaabdb-9d2d-4559-e75b-2100d6a26221"
      },
      "source": [
        "#sum,max,min함수\n",
        "s=np.random.random(1000)\n",
        "print(\"s의최솟값=\",np.min(s))\n",
        "print(\"s의최댓값=\",np.max(s))\n"
      ],
      "execution_count": 41,
      "outputs": [
        {
          "output_type": "stream",
          "text": [
            "s의최솟값= 0.0009204219868518271\n",
            "s의최댓값= 0.9993432009637743\n"
          ],
          "name": "stdout"
        }
      ]
    },
    {
      "cell_type": "code",
      "metadata": {
        "id": "4PzwblvNDCMy",
        "colab": {
          "base_uri": "https://localhost:8080/",
          "height": 35
        },
        "outputId": "e5ffa25c-ab5d-41d5-da18-fb4bbf848a63"
      },
      "source": [
        "#axis 인자\n",
        "\"axis=0: 열기준 집계연산\"\n",
        "\"axis=1: 행기준 집계연산\"\n",
        "\"axis=none: 배열 내 모든 요소의 집계연산axis 인자\""
      ],
      "execution_count": 42,
      "outputs": [
        {
          "output_type": "execute_result",
          "data": {
            "application/vnd.google.colaboratory.intrinsic+json": {
              "type": "string"
            },
            "text/plain": [
              "'axis=none: 배열 내 모든 요소의 집계연산axis 인자'"
            ]
          },
          "metadata": {
            "tags": []
          },
          "execution_count": 42
        }
      ]
    },
    {
      "cell_type": "code",
      "metadata": {
        "id": "K51SaedIDCSr",
        "colab": {
          "base_uri": "https://localhost:8080/"
        },
        "outputId": "8e804d56-4920-465f-a2d3-196f1df6cf10"
      },
      "source": [
        "m= np.random.random((3,4))\n",
        "print(m)"
      ],
      "execution_count": 43,
      "outputs": [
        {
          "output_type": "stream",
          "text": [
            "[[0.21179472 0.78715039 0.52716983 0.17455221]\n",
            " [0.80137006 0.40283985 0.88308687 0.98349678]\n",
            " [0.22037385 0.44964191 0.62764035 0.18392163]]\n"
          ],
          "name": "stdout"
        }
      ]
    },
    {
      "cell_type": "markdown",
      "metadata": {
        "id": "l7VYaxRL9agA"
      },
      "source": [
        "## 브로드캐스팅 연산"
      ]
    },
    {
      "cell_type": "code",
      "metadata": {
        "id": "xHRGT0S7DTYe",
        "colab": {
          "base_uri": "https://localhost:8080/"
        },
        "outputId": "f0738666-6d02-4ad7-b4e3-a88566699fbf"
      },
      "source": [
        "# 크기가 같은 어레이의 연산을 하기\n",
        "x = np.array([0, 1, 2])\n",
        "y = np.array([3, 3, 3])\n",
        "x + y"
      ],
      "execution_count": 44,
      "outputs": [
        {
          "output_type": "execute_result",
          "data": {
            "text/plain": [
              "array([3, 4, 5])"
            ]
          },
          "metadata": {
            "tags": []
          },
          "execution_count": 44
        }
      ]
    },
    {
      "cell_type": "code",
      "metadata": {
        "id": "NVI4DOqKDTgp",
        "colab": {
          "base_uri": "https://localhost:8080/"
        },
        "outputId": "04346f1d-3606-4380-f5ab-bb16693ae3f1"
      },
      "source": [
        "# 배열의 크기를 늘려서 연산하기\n",
        "x = np.array([0, 1, 2])\n",
        "M = np.ones((3, 3))\n",
        "x + M"
      ],
      "execution_count": 45,
      "outputs": [
        {
          "output_type": "execute_result",
          "data": {
            "text/plain": [
              "array([[1., 2., 3.],\n",
              "       [1., 2., 3.],\n",
              "       [1., 2., 3.]])"
            ]
          },
          "metadata": {
            "tags": []
          },
          "execution_count": 45
        }
      ]
    },
    {
      "cell_type": "markdown",
      "metadata": {
        "id": "iwnH05_R9cFv"
      },
      "source": [
        "## 비교연산자"
      ]
    },
    {
      "cell_type": "code",
      "metadata": {
        "id": "wlaHQtWIDTjx",
        "colab": {
          "base_uri": "https://localhost:8080/"
        },
        "outputId": "f1e8bd8e-9824-4ddd-a1bd-dc6f9cd0b52b"
      },
      "source": [
        "# any 함수를 이용하여 하나라도 만족하면 true를 산출하는 코드만들기\n",
        "import numpy as np\n",
        "x = np.arange(10)\n",
        "np.any(x < 5)"
      ],
      "execution_count": 46,
      "outputs": [
        {
          "output_type": "execute_result",
          "data": {
            "text/plain": [
              "True"
            ]
          },
          "metadata": {
            "tags": []
          },
          "execution_count": 46
        }
      ]
    },
    {
      "cell_type": "code",
      "metadata": {
        "id": "D-OgFcn5DSjM",
        "colab": {
          "base_uri": "https://localhost:8080/"
        },
        "outputId": "0930160f-e025-4418-8f4d-d9db5c05076a"
      },
      "source": [
        "# all함수를 이용하여 true산출 코드 만들기\n",
        "import numpy as np\n",
        "x = np.arange(10)\n",
        "np.all(x < 10)"
      ],
      "execution_count": 47,
      "outputs": [
        {
          "output_type": "execute_result",
          "data": {
            "text/plain": [
              "True"
            ]
          },
          "metadata": {
            "tags": []
          },
          "execution_count": 47
        }
      ]
    },
    {
      "cell_type": "code",
      "metadata": {
        "id": "JzbeCfBnDSqm",
        "colab": {
          "base_uri": "https://localhost:8080/"
        },
        "outputId": "1feef8d5-907c-4ec3-8c0c-d8b883ee350e"
      },
      "source": [
        "# 1~5사이의 구간에서 5개 정수를 무작위로 발생시켜 1차원배열 2개변수를 생성하고 이에대한 불리언 값 결과내기\n",
        "a = np.random.randint(1, 5, 5)\n",
        "b = np.random.randint(1, 5, 5)\n",
        "print(a, b)\n",
        "a==b"
      ],
      "execution_count": 48,
      "outputs": [
        {
          "output_type": "stream",
          "text": [
            "[4 2 3 3 1] [1 4 3 1 2]\n"
          ],
          "name": "stdout"
        },
        {
          "output_type": "execute_result",
          "data": {
            "text/plain": [
              "array([False, False,  True, False, False])"
            ]
          },
          "metadata": {
            "tags": []
          },
          "execution_count": 48
        }
      ]
    },
    {
      "cell_type": "markdown",
      "metadata": {
        "id": "cvNr6-5O9fLA"
      },
      "source": [
        "## 팬시 인덱싱"
      ]
    },
    {
      "cell_type": "code",
      "metadata": {
        "id": "t7MWDGDEDSuE",
        "colab": {
          "base_uri": "https://localhost:8080/"
        },
        "outputId": "3e567d58-332d-4f52-aba3-e09eeef4507b"
      },
      "source": [
        "#배열을 생성하여 인덱싱하기\n",
        "a = np.arange(10)\n",
        "a"
      ],
      "execution_count": 49,
      "outputs": [
        {
          "output_type": "execute_result",
          "data": {
            "text/plain": [
              "array([0, 1, 2, 3, 4, 5, 6, 7, 8, 9])"
            ]
          },
          "metadata": {
            "tags": []
          },
          "execution_count": 49
        }
      ]
    },
    {
      "cell_type": "code",
      "metadata": {
        "id": "ipMA6b3uDSxP",
        "colab": {
          "base_uri": "https://localhost:8080/"
        },
        "outputId": "0a068321-bb50-4743-cfa9-ab59edf3c954"
      },
      "source": [
        "#인덱스 값을 가진 2차원 배열(예를 들어 row=np.array([0,1,2]))을 이용하여 인덱싱\n",
        "b = np.array([0, 1, 2])\n",
        "a[b]"
      ],
      "execution_count": 50,
      "outputs": [
        {
          "output_type": "execute_result",
          "data": {
            "text/plain": [
              "array([0, 1, 2])"
            ]
          },
          "metadata": {
            "tags": []
          },
          "execution_count": 50
        }
      ]
    },
    {
      "cell_type": "markdown",
      "metadata": {
        "id": "fIFQzEK89gjy"
      },
      "source": [
        "## 정렬 "
      ]
    },
    {
      "cell_type": "code",
      "metadata": {
        "id": "8-vycEUGE0G2",
        "colab": {
          "base_uri": "https://localhost:8080/"
        },
        "outputId": "fff7faad-a588-4473-f5a2-39e7341e8403"
      },
      "source": [
        "#np.sort함수를 이용하여 복사하기\n",
        "x = np.array([4, 1, 5, 2, 3])\n",
        "print(x, np.sort(x))"
      ],
      "execution_count": 51,
      "outputs": [
        {
          "output_type": "stream",
          "text": [
            "[4 1 5 2 3] [1 2 3 4 5]\n"
          ],
          "name": "stdout"
        }
      ]
    },
    {
      "cell_type": "code",
      "metadata": {
        "id": "WzF6Iw5HE76_",
        "colab": {
          "base_uri": "https://localhost:8080/"
        },
        "outputId": "045c53c4-e54a-4aa5-cfbc-635fe7d49a35"
      },
      "source": [
        "#변수.sort함수를 이용하여 정렬하기\n",
        "x = np.array([4, 1, 5, 2, 3])\n",
        "x.sort()\n",
        "print(x)"
      ],
      "execution_count": 52,
      "outputs": [
        {
          "output_type": "stream",
          "text": [
            "[1 2 3 4 5]\n"
          ],
          "name": "stdout"
        }
      ]
    },
    {
      "cell_type": "code",
      "metadata": {
        "id": "b1regsEqE7-X",
        "colab": {
          "base_uri": "https://localhost:8080/"
        },
        "outputId": "280720db-6883-4339-8f14-11cab9885f7d"
      },
      "source": [
        "#np.arsort함수 이용하여 정렬 요소의 인덱스를 반환하기\n",
        "x = np.array([4, 1, 5, 2, 3])\n",
        "i = np.argsort(x)\n",
        "print(i)"
      ],
      "execution_count": 53,
      "outputs": [
        {
          "output_type": "stream",
          "text": [
            "[1 3 4 0 2]\n"
          ],
          "name": "stdout"
        }
      ]
    },
    {
      "cell_type": "code",
      "metadata": {
        "id": "glpi3sAWE8Bw",
        "colab": {
          "base_uri": "https://localhost:8080/"
        },
        "outputId": "25190e85-0649-49a8-da30-ac73668388cd"
      },
      "source": [
        "#x_reverse를 이용하여 내림차순\n",
        "x = np.array([4, 1, 5, 2, 3])\n",
        "x_reverse = np.sort(x)[::-1]\n",
        "print(x_reverse)"
      ],
      "execution_count": 54,
      "outputs": [
        {
          "output_type": "stream",
          "text": [
            "[5 4 3 2 1]\n"
          ],
          "name": "stdout"
        }
      ]
    },
    {
      "cell_type": "code",
      "metadata": {
        "id": "HBsSfJFyFRai",
        "colab": {
          "base_uri": "https://localhost:8080/"
        },
        "outputId": "cad3d99d-56d6-4cbd-958a-56663e20fd2e"
      },
      "source": [
        "#axis를 이용하여 각 열을 기준으로 정렬하기\n",
        "X = np.array([[2, 0, 6],\n",
        "             [7, 3, 4],\n",
        "             [1, 5, 3]])\n",
        "np.sort(X, axis = 0)"
      ],
      "execution_count": 55,
      "outputs": [
        {
          "output_type": "execute_result",
          "data": {
            "text/plain": [
              "array([[1, 0, 3],\n",
              "       [2, 3, 4],\n",
              "       [7, 5, 6]])"
            ]
          },
          "metadata": {
            "tags": []
          },
          "execution_count": 55
        }
      ]
    },
    {
      "cell_type": "code",
      "metadata": {
        "id": "yav7laqrFWjP",
        "colab": {
          "base_uri": "https://localhost:8080/"
        },
        "outputId": "1bb6b1b9-862c-403b-80fd-19bf69fcf34c"
      },
      "source": [
        "#axis를 이용하여 각 행을 기준으로 정렬하기#axis를 이용하여 각 행을 기준으로 정렬하기\n",
        "X = np.array([[2, 0, 6],\n",
        "             [7, 3, 4],\n",
        "             [1, 5, 3]])\n",
        "np.sort(X, axis = 1)"
      ],
      "execution_count": 56,
      "outputs": [
        {
          "output_type": "execute_result",
          "data": {
            "text/plain": [
              "array([[0, 2, 6],\n",
              "       [3, 4, 7],\n",
              "       [1, 3, 5]])"
            ]
          },
          "metadata": {
            "tags": []
          },
          "execution_count": 56
        }
      ]
    }
  ]
}