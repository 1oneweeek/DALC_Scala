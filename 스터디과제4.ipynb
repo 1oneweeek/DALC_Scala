{
  "nbformat": 4,
  "nbformat_minor": 0,
  "metadata": {
    "colab": {
      "name": "스터디과제4.ipynb",
      "provenance": [],
      "authorship_tag": "ABX9TyN7Z3IMGXMEgCZgy9baThaL",
      "include_colab_link": true
    },
    "kernelspec": {
      "name": "python3",
      "display_name": "Python 3"
    },
    "language_info": {
      "name": "python"
    }
  },
  "cells": [
    {
      "cell_type": "markdown",
      "metadata": {
        "id": "view-in-github",
        "colab_type": "text"
      },
      "source": [
        "<a href=\"https://colab.research.google.com/github/1oneweeek/DALC_Scala/blob/main/%EC%8A%A4%ED%84%B0%EB%94%94%EA%B3%BC%EC%A0%9C4.ipynb\" target=\"_parent\"><img src=\"https://colab.research.google.com/assets/colab-badge.svg\" alt=\"Open In Colab\"/></a>"
      ]
    },
    {
      "cell_type": "code",
      "metadata": {
        "id": "JfkxgTnBAsO_"
      },
      "source": [
        "#13 \n",
        "def isPalindrome(head):\n",
        "    list = []\n",
        "\n",
        "    if not head:\n",
        "        return True\n"
      ],
      "execution_count": null,
      "outputs": []
    },
    {
      "cell_type": "code",
      "metadata": {
        "id": "-S5s-J19Ch_-"
      },
      "source": [
        "def isPalindrome(head):\n",
        "    slow = fast = head\n",
        "\n",
        "    while fast and fast.next:\n",
        "        fast = fast.next.next\n",
        "        reverse, reverse.next, slow = slow, reverse, slow.next\n",
        "\n",
        "    if fast:\n",
        "        slow = slow.next\n",
        "\n",
        "    while reverse and (reverse.val == slow.val):\n",
        "        slow, reverse = slow.next, reverse.next\n",
        "    return not reverse"
      ],
      "execution_count": 1,
      "outputs": []
    },
    {
      "cell_type": "code",
      "metadata": {
        "id": "rbzp3EE-Coqq"
      },
      "source": [
        "#14\n",
        "def mergeTwoLists(self, l1, l2):\n",
        "    # l1이 None면 l1과 l2를 바꾸고 l2가 None면 안바꿈 -> l1, l2 값이 작은 게 l1\n",
        "    if (not l1) or (l2 and l1.val > l2.val):\n",
        "        l1, l2 = l2, l1\n",
        "    # 바꿨을 때 l1이 None면 l2도 None이고 둘 다 None면 더이상 진행x, if문쓰기\n",
        "    if l1:\n",
        "        # l1 존재하면 l1 next를 찾기\n",
        "        l1.next = mergeTwoLists(l1.next, l2)\n",
        "\n",
        "    return l1"
      ],
      "execution_count": 4,
      "outputs": []
    },
    {
      "cell_type": "code",
      "metadata": {
        "id": "iy2sVSbGDxH-"
      },
      "source": [
        "def mergeTwoLists(self, l1, l2):\n",
        "    dummy = cur = ListNode(0)\n",
        "    while l1 and l2:\n",
        "        if l1.val > l2.val:\n",
        "            cur.next = l1\n",
        "            l1 = l1.next\n",
        "        else:\n",
        "            cur.next = l2\n",
        "            l2 = l2.next\n",
        "        cur = cur.next\n",
        "        \n",
        "    cur.next = l1 or l2\n",
        "    return dummy.next"
      ],
      "execution_count": 5,
      "outputs": []
    },
    {
      "cell_type": "code",
      "metadata": {
        "id": "2oOMR4__EJ5Z"
      },
      "source": [
        "#15\n",
        "def reverseList(self, head):\n",
        "    rev, node = None, head\n",
        "    while node:\n",
        "        rev, rev.next, node = node, rev, node.next\n",
        "    return rev"
      ],
      "execution_count": 6,
      "outputs": []
    },
    {
      "cell_type": "code",
      "metadata": {
        "id": "t6Phx3DwEZuL"
      },
      "source": [
        "#16\n",
        "def addTwoNumbers(self, l1, l2):\n",
        "    num1 = 0\n",
        "    num2 = 0\n",
        "\n",
        "    count = 0\n",
        "    while l1:\n",
        "        num1 += l1.val * (10 ** count)\n",
        "        count+=1\n",
        "        l1 = l1.next\n",
        "\n",
        "    count = 0\n",
        "\n",
        "    while l2:\n",
        "        num2 += l2.val * (10 ** count)\n",
        "        count+=1\n",
        "        l2 = l2.next"
      ],
      "execution_count": null,
      "outputs": []
    },
    {
      "cell_type": "code",
      "metadata": {
        "id": "AakMfOM5HZFZ"
      },
      "source": [
        "def addTwoNumbers2(self, l1, l2):\n",
        "    root = head = ListNode(0)\n",
        "\n",
        "    carry = 0\n",
        "    while l1 or l2 or carry:\n",
        "        sum = 0\n",
        "        if l1:\n",
        "            sum += l1.val\n",
        "            l1 = l1.next\n",
        "\n",
        "        if l2:\n",
        "            sum += l2.val\n",
        "            l2 = l2.next\n",
        "\n",
        "        carry, val = divmod(sum + carry, 10)\n",
        "        head.next = ListNode(val)\n",
        "        head = head.next\n",
        "\n",
        "    return root.next"
      ],
      "execution_count": null,
      "outputs": []
    },
    {
      "cell_type": "code",
      "metadata": {
        "id": "1GIMC4_wHcAz"
      },
      "source": [
        "#17 필사만\n",
        "def swapPaires(self, head):\n",
        "    node = head\n",
        "    while node and node.next:\n",
        "        node.val, node.next.val = node.next.val, node.val\n",
        "        node = node.next.next\n",
        "    return head"
      ],
      "execution_count": null,
      "outputs": []
    }
  ]
}