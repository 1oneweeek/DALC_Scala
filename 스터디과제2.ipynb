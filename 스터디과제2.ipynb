{
  "nbformat": 4,
  "nbformat_minor": 0,
  "metadata": {
    "colab": {
      "name": "스터디과제2.ipynb",
      "provenance": [],
      "collapsed_sections": [],
      "authorship_tag": "ABX9TyNo5/0B7UerOnwo/CV9lbcP",
      "include_colab_link": true
    },
    "kernelspec": {
      "name": "python3",
      "display_name": "Python 3"
    },
    "language_info": {
      "name": "python"
    }
  },
  "cells": [
    {
      "cell_type": "markdown",
      "metadata": {
        "id": "view-in-github",
        "colab_type": "text"
      },
      "source": [
        "<a href=\"https://colab.research.google.com/github/1oneweeek/DALC_Scala/blob/main/%EC%8A%A4%ED%84%B0%EB%94%94%EA%B3%BC%EC%A0%9C2.ipynb\" target=\"_parent\"><img src=\"https://colab.research.google.com/assets/colab-badge.svg\" alt=\"Open In Colab\"/></a>"
      ]
    },
    {
      "cell_type": "markdown",
      "metadata": {
        "id": "R-IUY4UquLRt"
      },
      "source": [
        "리스트"
      ]
    },
    {
      "cell_type": "code",
      "metadata": {
        "colab": {
          "base_uri": "https://localhost:8080/"
        },
        "id": "VyTct38UuGcw",
        "outputId": "ccea19ba-99d3-4693-98cc-b9f69b8a13be"
      },
      "source": [
        "# 리스트의 활용 방법\n",
        "\n",
        "a = [1, 2, 3]\n",
        "a.append(4)\n",
        "a.insert(3, 5)\n",
        "a.append('안녕')\n",
        "a.append(True)\n",
        "print(a)\n",
        "\n",
        "a[3]\n",
        "a[1:3]\n",
        "a[:3]\n",
        "a[4:]\n",
        "a[1:4]\n",
        "a[1:4:2]\n",
        "\n",
        "try:\n",
        "  print(a[9])\n",
        "except IndexError:\n",
        "  print('존재하지 않는 인덱스')"
      ],
      "execution_count": null,
      "outputs": [
        {
          "output_type": "stream",
          "text": [
            "[1, 2, 3, 5, 4, '안녕', True]\n",
            "존재하지 않는 인덱스\n"
          ],
          "name": "stdout"
        }
      ]
    },
    {
      "cell_type": "code",
      "metadata": {
        "colab": {
          "base_uri": "https://localhost:8080/"
        },
        "id": "uTmL1gkCv7He",
        "outputId": "ca3db083-3659-4a3e-bca9-537de696bd71"
      },
      "source": [
        "a\n",
        "del a[1]\n",
        "a.remove(3)\n",
        "a"
      ],
      "execution_count": null,
      "outputs": [
        {
          "output_type": "execute_result",
          "data": {
            "text/plain": [
              "[1, 5, 4, '안녕', True]"
            ]
          },
          "metadata": {
            "tags": []
          },
          "execution_count": 42
        }
      ]
    },
    {
      "cell_type": "code",
      "metadata": {
        "colab": {
          "base_uri": "https://localhost:8080/"
        },
        "id": "taMcEemxwbBp",
        "outputId": "50c5ff44-6e62-4333-8ec1-743b950ff603"
      },
      "source": [
        "a.pop(3)\n",
        "a"
      ],
      "execution_count": null,
      "outputs": [
        {
          "output_type": "execute_result",
          "data": {
            "text/plain": [
              "[1, 5, 4, True]"
            ]
          },
          "metadata": {
            "tags": []
          },
          "execution_count": 43
        }
      ]
    },
    {
      "cell_type": "markdown",
      "metadata": {
        "id": "19iIGDSQx56S"
      },
      "source": [
        "딕셔너리"
      ]
    },
    {
      "cell_type": "code",
      "metadata": {
        "colab": {
          "base_uri": "https://localhost:8080/"
        },
        "id": "KGvmNvFwx7Q6",
        "outputId": "5a8ccc4d-d394-44bc-989b-93b0c678a8ba"
      },
      "source": [
        "# 딕셔너리 활용 방법\n",
        "\n",
        "a = {'key1':'value1', 'key2':'value2'}\n",
        "a['key3'] = 'value3'\n",
        "a\n",
        "a['key1']\n",
        "\n",
        "try:\n",
        "  print(a['key4'])\n",
        "except KeyError:\n",
        "  print('존재하지 않는 키')"
      ],
      "execution_count": null,
      "outputs": [
        {
          "output_type": "stream",
          "text": [
            "존재하지 않는 키\n"
          ],
          "name": "stdout"
        }
      ]
    },
    {
      "cell_type": "code",
      "metadata": {
        "colab": {
          "base_uri": "https://localhost:8080/"
        },
        "id": "6CKL2Pbey8Mv",
        "outputId": "a9388f93-ec09-4816-ab45-5bd73d392672"
      },
      "source": [
        "'key4' in a\n",
        "if 'key4' in a:\n",
        "  print('존재하는 키')\n",
        "else:\n",
        "  print('존재하지 않는 키')"
      ],
      "execution_count": null,
      "outputs": [
        {
          "output_type": "stream",
          "text": [
            "존재하지 않는 키\n"
          ],
          "name": "stdout"
        }
      ]
    },
    {
      "cell_type": "code",
      "metadata": {
        "colab": {
          "base_uri": "https://localhost:8080/"
        },
        "id": "LTCr8XazzEZA",
        "outputId": "b1cda95d-e1b8-4aab-995e-05b564e8e6c7"
      },
      "source": [
        "for k,v in a.items():\n",
        "  print(k, v)"
      ],
      "execution_count": null,
      "outputs": [
        {
          "output_type": "stream",
          "text": [
            "key1 value1\n",
            "key2 value2\n",
            "key3 value3\n"
          ],
          "name": "stdout"
        }
      ]
    },
    {
      "cell_type": "code",
      "metadata": {
        "colab": {
          "base_uri": "https://localhost:8080/"
        },
        "id": "2DcNACjGzLoN",
        "outputId": "179ed8ad-364a-47c9-d45c-d1c35f3c2b5c"
      },
      "source": [
        "del a['key1']\n",
        "a"
      ],
      "execution_count": null,
      "outputs": [
        {
          "output_type": "execute_result",
          "data": {
            "text/plain": [
              "{'key2': 'value2', 'key3': 'value3'}"
            ]
          },
          "metadata": {
            "tags": []
          },
          "execution_count": 55
        }
      ]
    },
    {
      "cell_type": "code",
      "metadata": {
        "colab": {
          "base_uri": "https://localhost:8080/"
        },
        "id": "r0OzzSqMzPXI",
        "outputId": "79dd0e50-766c-4d55-b49b-b7e22e463e5a"
      },
      "source": [
        "# 딕셔너리 모듈\n",
        "\n",
        "# defaultdict 객체 , Counter 객체\n",
        "\n",
        "import collections\n",
        "\n",
        "a = collections.defaultdict(int)\n",
        "a['A'] = 5\n",
        "a['B'] = 4\n",
        "a\n",
        "\n",
        "c = [1, 2, 3, 4, 5, 5, 5, 6, 6]\n",
        "b = collections.Counter(c)\n",
        "b.most_common(2)"
      ],
      "execution_count": null,
      "outputs": [
        {
          "output_type": "execute_result",
          "data": {
            "text/plain": [
              "[(5, 3), (6, 2)]"
            ]
          },
          "metadata": {
            "tags": []
          },
          "execution_count": 61
        }
      ]
    },
    {
      "cell_type": "markdown",
      "metadata": {
        "id": "QQLeC9Bj0Z3x"
      },
      "source": [
        "문자열 조작"
      ]
    },
    {
      "cell_type": "code",
      "metadata": {
        "colab": {
          "base_uri": "https://localhost:8080/"
        },
        "id": "xHjNCgWs0b8C",
        "outputId": "01edba87-a49e-4e95-8645-97d98672409c"
      },
      "source": [
        "#1. 유효한 팰린드롬\n",
        "\n",
        "def isPalindrome(word):\n",
        "  list_word = list(word)\n",
        "  for i in range(0, len(list_word) // 2):\n",
        "        if list_word[i] == list_word[len(list_word) - 1 - i]:\n",
        "            continue\n",
        "        else:\n",
        "            return False\n",
        "\n",
        "  return True\n",
        "\n",
        "isPalindrome(\"A man\")"
      ],
      "execution_count": null,
      "outputs": [
        {
          "output_type": "execute_result",
          "data": {
            "text/plain": [
              "False"
            ]
          },
          "metadata": {
            "tags": []
          },
          "execution_count": 75
        }
      ]
    },
    {
      "cell_type": "code",
      "metadata": {
        "colab": {
          "base_uri": "https://localhost:8080/"
        },
        "id": "c49O36vN-bIw",
        "outputId": "71937e21-8a70-411e-8459-bb146a4fa8ba"
      },
      "source": [
        "#2. 문자열 뒤집기\n",
        "\n",
        "def reverseString(word):\n",
        "  list_word = list(word)\n",
        "  list_word.reverse()\n",
        "  print(''.join(list_word))\n",
        "\n",
        "reverseString(\"hannah\")"
      ],
      "execution_count": null,
      "outputs": [
        {
          "output_type": "stream",
          "text": [
            "hannah\n"
          ],
          "name": "stdout"
        }
      ]
    },
    {
      "cell_type": "code",
      "metadata": {
        "id": "sFm6Fr-TQSOb"
      },
      "source": [
        "#3. 로그파일 재정렬\n",
        "def reorderLogFiles(logs):\n",
        "    letters, digits = [], []\n",
        "    for log in logs:\n",
        "        if log.split()[1].isdigit():\n",
        "            digits.append(log)\n",
        "        else:\n",
        "            letters.append(log)\n",
        "\n",
        "    letters.sort(key=lambda x: (x.split()[1:], x.split()[0]))\n",
        "    return letters + digits"
      ],
      "execution_count": 1,
      "outputs": []
    },
    {
      "cell_type": "code",
      "metadata": {
        "id": "ZPC9LUCmhFYZ"
      },
      "source": [
        "#4. 가장 흔한 단어\n",
        "def mostCommon(paragraph, banned):\n",
        "    words = [word for word in re.sub(r'[^\\w]', ' ', paragraph)\n",
        "             .lower().split()\n",
        "             if word not in banned]\n",
        "\n",
        "    counts = collections.Counter(words)\n",
        "    print(counts)\n",
        "    return counts.most_common(1)[0][0]"
      ],
      "execution_count": 2,
      "outputs": []
    },
    {
      "cell_type": "code",
      "metadata": {
        "id": "sxekWECLhs9G"
      },
      "source": [
        "#5. 그룹 애너그램\n",
        "def groupAnagrams(word):\n",
        "  anagrams = collections.defaultdict(list)\n",
        "  \n",
        "  for word in strs:\n",
        "    anagrams[''.join(sorted(word))].append(word)\n",
        "  return anagrams.values() "
      ],
      "execution_count": 4,
      "outputs": []
    },
    {
      "cell_type": "code",
      "metadata": {
        "id": "1A1BphPbijki"
      },
      "source": [
        "#6. 가장 긴 팰린드롬 문자열\n",
        "\n",
        "def isPalindrome(input):\n",
        "    if (input[::-1] == input):\n",
        "        return True\n",
        "    return False\n",
        "\n",
        "\n",
        "def longestPalindrome(input):\n",
        "    length = len(input)\n",
        "    step = length\n",
        "    answer = \"\"\n",
        "    breakpoint = False\n",
        "\n",
        "    while step > 2:\n",
        "        for i in range(length-step+1):\n",
        "            if(isPalindrome(input[i:i+step])):\n",
        "                answer = input[i:i+step]\n",
        "                breakpoint = True\n",
        "                break\n",
        "        if(breakpoint):\n",
        "            break\n",
        "        step -= 1\n",
        "\n",
        "    return answer"
      ],
      "execution_count": 5,
      "outputs": []
    },
    {
      "cell_type": "markdown",
      "metadata": {
        "id": "98BBthjai6qh"
      },
      "source": [
        "배열"
      ]
    },
    {
      "cell_type": "code",
      "metadata": {
        "colab": {
          "base_uri": "https://localhost:8080/"
        },
        "id": "fRvMUANKiu5r",
        "outputId": "29688129-192b-482d-f0f3-982ddcc5cf77"
      },
      "source": [
        "# 두 수의 합\n",
        "\n",
        "def twoSum(nums, target):\n",
        "    for i in range(len(nums)):\n",
        "        for j in range(i + 1, len(nums)):\n",
        "            if nums[i] + nums[j] == target:\n",
        "                return [i, j]\n",
        "\n",
        "twoSum([2, 7, 11, 15], target = 9)"
      ],
      "execution_count": 1,
      "outputs": [
        {
          "output_type": "execute_result",
          "data": {
            "text/plain": [
              "[0, 1]"
            ]
          },
          "metadata": {
            "tags": []
          },
          "execution_count": 1
        }
      ]
    },
    {
      "cell_type": "code",
      "metadata": {
        "colab": {
          "base_uri": "https://localhost:8080/"
        },
        "id": "pp08082YlQjO",
        "outputId": "243d222a-016e-4938-9939-d3f1be6f6e6c"
      },
      "source": [
        "def twoSum(nums, target):\n",
        "  for i, n in enumerate(nums):\n",
        "    complement = target - n\n",
        "\n",
        "    if complement in nums[i + 1:]:\n",
        "      return nums.index(n), nums[i + 1:].index(complement) + (i + 1)\n",
        "\n",
        "twoSum([2, 7, 11, 15], target = 9)"
      ],
      "execution_count": 9,
      "outputs": [
        {
          "output_type": "execute_result",
          "data": {
            "text/plain": [
              "(0, 1)"
            ]
          },
          "metadata": {
            "tags": []
          },
          "execution_count": 9
        }
      ]
    },
    {
      "cell_type": "code",
      "metadata": {
        "id": "gxwYJuqLoRS0"
      },
      "source": [
        "# 빗물 트래핑\n",
        "def rainTrap(heights):\n",
        "    if not heights:  \n",
        "        return 0\n",
        "\n",
        "    volume = 0\n",
        "    left, right = 0, len(heights) - 1\n",
        "    left_max, right_max = heights[left], heights[right]\n",
        "\n",
        "    while left < right:\n",
        "        left_max, right_max = max(heights[left], left_max), max(heights[right], right_max)\n",
        "\n",
        "        if left_max <= right_max:  # 투 포인터가 이동하는 조건을 설정한다.\n",
        "            volume += left_max - heights[left]\n",
        "            left += 1\n",
        "        else:\n",
        "            volume += right_max - heights[right]\n",
        "            right -= 1\n",
        "\n",
        "    return volume"
      ],
      "execution_count": 10,
      "outputs": []
    },
    {
      "cell_type": "code",
      "metadata": {
        "colab": {
          "base_uri": "https://localhost:8080/"
        },
        "id": "bwf-rb1GPDGC",
        "outputId": "c6235709-9bfd-4f6a-ee15-af59d458af54"
      },
      "source": [
        "def rainTrap(heights):\n",
        "    stack = []\n",
        "    volume = 0\n",
        "\n",
        "    for i in range(len(heights)):\n",
        "        # 변곡점을 만나는 경우\n",
        "        while stack and heights[i] > heights[stack[-1]]:\n",
        "            # 스택에서 빼냄\n",
        "            top = stack.pop()\n",
        "\n",
        "            if not len(stack):\n",
        "                break\n",
        "\n",
        "            # 이전과의 차이만큼 물 높이 처리\n",
        "            distance = i - stack[-1] - 1\n",
        "            waters = min(heights[i], heights[stack[-1]]) - heights[top]\n",
        "\n",
        "            volume += distance * waters\n",
        "\n",
        "        stack.append(i)\n",
        "\n",
        "    return volume\n",
        "\n",
        "rainTrap([0, 1, 0, 2, 1, 0, 1, 3, 2, 1, 2, 1])"
      ],
      "execution_count": 5,
      "outputs": [
        {
          "output_type": "execute_result",
          "data": {
            "text/plain": [
              "6"
            ]
          },
          "metadata": {
            "tags": []
          },
          "execution_count": 5
        }
      ]
    },
    {
      "cell_type": "code",
      "metadata": {
        "id": "-lD7EXLSomUT"
      },
      "source": [
        "# 세 수의 합\n",
        "\n",
        "def threeSum(nums):\n",
        "    result = []\n",
        "    nums.sort()\n",
        "    \n",
        "    for i in range(len(nums)-2):\n",
        "        if i > 0 and nums[i] == nums[i-1]:\n",
        "            continue\n",
        "        for j in range(i+1,len(nums)-1):\n",
        "            if j > i+1 and nums[j] == nums[j-1]:\n",
        "                continue\n",
        "            for k in range(j+1,len(nums)):\n",
        "                if k > j+1 and nums[k] == nums[k-1]:\n",
        "                    continue\n",
        "                if nums[i] + nums[j] + nums[k] ==0:\n",
        "                    result.append([nums[i],nums[j],nums[k]])\n",
        "    return result\n",
        "    \n",
        "nums = [-1, 0, 1, 2, -1, -4]\n",
        "threeSum(nums)\n",
        ">>> [[-1, -1, 2], [-1, 0, 1]]"
      ],
      "execution_count": null,
      "outputs": []
    }
  ]
}