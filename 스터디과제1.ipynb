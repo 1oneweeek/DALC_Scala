{
  "nbformat": 4,
  "nbformat_minor": 0,
  "metadata": {
    "colab": {
      "name": "스터디과제1.ipynb",
      "provenance": [],
      "authorship_tag": "ABX9TyPiAYU+7g/jTCcmgqs2sA3z",
      "include_colab_link": true
    },
    "kernelspec": {
      "name": "python3",
      "display_name": "Python 3"
    }
  },
  "cells": [
    {
      "cell_type": "markdown",
      "metadata": {
        "id": "view-in-github",
        "colab_type": "text"
      },
      "source": [
        "<a href=\"https://colab.research.google.com/github/1oneweeek/DALC_Scala/blob/main/%EC%8A%A4%ED%84%B0%EB%94%94%EA%B3%BC%EC%A0%9C1.ipynb\" target=\"_parent\"><img src=\"https://colab.research.google.com/assets/colab-badge.svg\" alt=\"Open In Colab\"/></a>"
      ]
    },
    {
      "cell_type": "code",
      "metadata": {
        "colab": {
          "base_uri": "https://localhost:8080/"
        },
        "id": "FWgNyYLLoMHQ",
        "outputId": "da6134c2-a914-435a-aea1-7ebda14cf9a8"
      },
      "source": [
        "# p.56 루프\r\n",
        "sum1 = 0\r\n",
        "for i in range(1, 10 + 1):\r\n",
        "  sum1 += i\r\n",
        "print(sum1)\r\n",
        "\r\n",
        "sum2 = sum(i for i in range(1, 10 + 1))\r\n",
        "print(sum2)\r\n",
        "\r\n",
        "sum3 = sum(range(1, 10+1))\r\n",
        "print(sum3)"
      ],
      "execution_count": 1,
      "outputs": [
        {
          "output_type": "stream",
          "text": [
            "55\n",
            "55\n",
            "55\n"
          ],
          "name": "stdout"
        }
      ]
    },
    {
      "cell_type": "code",
      "metadata": {
        "colab": {
          "base_uri": "https://localhost:8080/"
        },
        "id": "Vm8M1PXMrTRD",
        "outputId": "4fe856df-b68a-49f1-a378-1098ed90ad64"
      },
      "source": [
        "# p.58 제네릭 프로그래밍\r\n",
        "def are_equal(a, b):\r\n",
        "  return a == b\r\n",
        "\r\n",
        "are_equal(10, 10.0)"
      ],
      "execution_count": 2,
      "outputs": [
        {
          "output_type": "execute_result",
          "data": {
            "text/plain": [
              "True"
            ]
          },
          "metadata": {
            "tags": []
          },
          "execution_count": 2
        }
      ]
    },
    {
      "cell_type": "code",
      "metadata": {
        "colab": {
          "base_uri": "https://localhost:8080/"
        },
        "id": "B25l6qSdsGQb",
        "outputId": "b259713a-5a44-4b6c-c3d9-4aad48bd9de8"
      },
      "source": [
        "# p.60 배열 반복\r\n",
        "foo = ['A', 'B', 'C']\r\n",
        "for f in foo :\r\n",
        "  print(f)"
      ],
      "execution_count": 3,
      "outputs": [
        {
          "output_type": "stream",
          "text": [
            "A\n",
            "B\n",
            "C\n"
          ],
          "name": "stdout"
        }
      ]
    },
    {
      "cell_type": "code",
      "metadata": {
        "id": "lc3aeLmYsXY-"
      },
      "source": [
        "# p.61 구조체\r\n",
        "from dataclasses import dataclass\r\n",
        "\r\n",
        "@dataclass\r\n",
        "class Product :\r\n",
        "    weight: int = None\r\n",
        "    price : float = None\r\n",
        "apple = Product()\r\n",
        "apple.price=10"
      ],
      "execution_count": 4,
      "outputs": []
    },
    {
      "cell_type": "code",
      "metadata": {
        "colab": {
          "base_uri": "https://localhost:8080/"
        },
        "id": "XOkWhXELuKGI",
        "outputId": "fb326b18-ac26-4a20-b2ed-85e8da32cfa5"
      },
      "source": [
        "# p.63 클래스\r\n",
        "from dataclasses import dataclass\r\n",
        "\r\n",
        "@dataclass\r\n",
        "class Rectangle :\r\n",
        "  width: int\r\n",
        "  height : int\r\n",
        "  def area(self):\r\n",
        "    return self.width * self.height\r\n",
        "\r\n",
        "rect = Rectangle(3, 4)\r\n",
        "print(rect.area())"
      ],
      "execution_count": 5,
      "outputs": [
        {
          "output_type": "stream",
          "text": [
            "12\n"
          ],
          "name": "stdout"
        }
      ]
    },
    {
      "cell_type": "code",
      "metadata": {
        "colab": {
          "base_uri": "https://localhost:8080/"
        },
        "id": "24_z_T7YutO0",
        "outputId": "6791179d-0ba0-4dff-fa27-e7cf48c59366"
      },
      "source": [
        "# p.80 리스트 컴프리헨션\r\n",
        "\r\n",
        "list(map(lambda x: x + 10, [1, 2, 3]))\r\n",
        "\r\n",
        "[n * 2 for n in range(1, 10+1) if n % 2 == 1]"
      ],
      "execution_count": 6,
      "outputs": [
        {
          "output_type": "execute_result",
          "data": {
            "text/plain": [
              "[2, 6, 10, 14, 18]"
            ]
          },
          "metadata": {
            "tags": []
          },
          "execution_count": 6
        }
      ]
    },
    {
      "cell_type": "code",
      "metadata": {
        "id": "uXQ0lj_IvNJw",
        "colab": {
          "base_uri": "https://localhost:8080/"
        },
        "outputId": "f76a2060-d177-42d9-d4a1-b7d717cd9690"
      },
      "source": [
        "# p. 81 제너레이터\r\n",
        "\r\n",
        "def generator():\r\n",
        "  yield 1\r\n",
        "  yield 'string'\r\n",
        "  yield True\r\n",
        "\r\n",
        "g = generator()\r\n",
        "g"
      ],
      "execution_count": 9,
      "outputs": [
        {
          "output_type": "execute_result",
          "data": {
            "text/plain": [
              "<generator object generator at 0x7fa5170e56d0>"
            ]
          },
          "metadata": {
            "tags": []
          },
          "execution_count": 9
        }
      ]
    },
    {
      "cell_type": "code",
      "metadata": {
        "colab": {
          "base_uri": "https://localhost:8080/"
        },
        "id": "lI2GqAnrwFMa",
        "outputId": "34dd22e4-fafc-40dd-bd3c-d81ce1745e6c"
      },
      "source": [
        "next(g)"
      ],
      "execution_count": 10,
      "outputs": [
        {
          "output_type": "execute_result",
          "data": {
            "text/plain": [
              "1"
            ]
          },
          "metadata": {
            "tags": []
          },
          "execution_count": 10
        }
      ]
    },
    {
      "cell_type": "code",
      "metadata": {
        "colab": {
          "base_uri": "https://localhost:8080/",
          "height": 35
        },
        "id": "8hg5RmKEwHA8",
        "outputId": "13fbb74f-a9ff-4b04-da25-6b9bd4a4d667"
      },
      "source": [
        "next(g)"
      ],
      "execution_count": 11,
      "outputs": [
        {
          "output_type": "execute_result",
          "data": {
            "application/vnd.google.colaboratory.intrinsic+json": {
              "type": "string"
            },
            "text/plain": [
              "'string'"
            ]
          },
          "metadata": {
            "tags": []
          },
          "execution_count": 11
        }
      ]
    },
    {
      "cell_type": "code",
      "metadata": {
        "colab": {
          "base_uri": "https://localhost:8080/"
        },
        "id": "Gr8yj5VUwIZV",
        "outputId": "407776bc-c2eb-4459-ebac-2fadf3416492"
      },
      "source": [
        "next(g)"
      ],
      "execution_count": 12,
      "outputs": [
        {
          "output_type": "execute_result",
          "data": {
            "text/plain": [
              "True"
            ]
          },
          "metadata": {
            "tags": []
          },
          "execution_count": 12
        }
      ]
    },
    {
      "cell_type": "code",
      "metadata": {
        "colab": {
          "base_uri": "https://localhost:8080/"
        },
        "id": "glvm3VFPwKQG",
        "outputId": "9b173cb7-8906-446b-e095-5b28fb871bc2"
      },
      "source": [
        "# p.83 range\r\n",
        "\r\n",
        "list(range(5))\r\n",
        "range(5)\r\n",
        "type(range(5))\r\n",
        "for i in range(5) :\r\n",
        "  print(i, end=' ')"
      ],
      "execution_count": 18,
      "outputs": [
        {
          "output_type": "stream",
          "text": [
            "0 1 2 3 4 "
          ],
          "name": "stdout"
        }
      ]
    },
    {
      "cell_type": "code",
      "metadata": {
        "id": "uIip6JC-wgWp"
      },
      "source": [
        "a = [n for n in range(1000000)]\r\n",
        "b = range(1000000)"
      ],
      "execution_count": 19,
      "outputs": []
    },
    {
      "cell_type": "code",
      "metadata": {
        "colab": {
          "base_uri": "https://localhost:8080/"
        },
        "id": "aehhqhdWwmrY",
        "outputId": "de9a6539-5f4e-42ed-f1bb-1a5715e5f9c0"
      },
      "source": [
        "len(a)\r\n",
        "len(b)\r\n",
        "len(a) == len(b)"
      ],
      "execution_count": 22,
      "outputs": [
        {
          "output_type": "execute_result",
          "data": {
            "text/plain": [
              "True"
            ]
          },
          "metadata": {
            "tags": []
          },
          "execution_count": 22
        }
      ]
    },
    {
      "cell_type": "code",
      "metadata": {
        "colab": {
          "base_uri": "https://localhost:8080/"
        },
        "id": "kOW92tGPwshe",
        "outputId": "22b72768-462f-4ea2-81e3-208ef5eb5ac3"
      },
      "source": [
        "a\r\n",
        "b\r\n",
        "type(b)"
      ],
      "execution_count": 26,
      "outputs": [
        {
          "output_type": "execute_result",
          "data": {
            "text/plain": [
              "range"
            ]
          },
          "metadata": {
            "tags": []
          },
          "execution_count": 26
        }
      ]
    },
    {
      "cell_type": "code",
      "metadata": {
        "colab": {
          "base_uri": "https://localhost:8080/"
        },
        "id": "auIOxVpMxCSZ",
        "outputId": "50033f17-f8c9-44bf-a1a5-756902e2e214"
      },
      "source": [
        "#p. 85 enumerate\r\n",
        "\r\n",
        "a = ['a1', 'b2', 'c3']\r\n",
        "for i in range(len(a)):\r\n",
        "  print(i, a[i])\r\n",
        "i = 0\r\n",
        "for v in a :\r\n",
        "  print(i, v)\r\n",
        "  i += 1"
      ],
      "execution_count": 28,
      "outputs": [
        {
          "output_type": "stream",
          "text": [
            "0 a1\n",
            "1 b2\n",
            "2 c3\n",
            "0 a1\n",
            "1 b2\n",
            "2 c3\n"
          ],
          "name": "stdout"
        }
      ]
    },
    {
      "cell_type": "code",
      "metadata": {
        "colab": {
          "base_uri": "https://localhost:8080/"
        },
        "id": "iTNlAJihxnLz",
        "outputId": "ff5d2ed6-bf1d-45c2-8df1-0bc01d906bb6"
      },
      "source": [
        "# p. 86 나눗셈 연산자\r\n",
        "\r\n",
        "print(5/3)  \r\n",
        "print(5//3)\r\n",
        "print(5%3)"
      ],
      "execution_count": 31,
      "outputs": [
        {
          "output_type": "stream",
          "text": [
            "1.6666666666666667\n",
            "1\n",
            "2\n"
          ],
          "name": "stdout"
        }
      ]
    },
    {
      "cell_type": "code",
      "metadata": {
        "colab": {
          "base_uri": "https://localhost:8080/"
        },
        "id": "--R0BKJsyIEQ",
        "outputId": "1cc61586-0a09-4d0e-dcbb-1c8f9f48c4cc"
      },
      "source": [
        "# p. 87 print\r\n",
        "\r\n",
        "print('A1', 'B2')\r\n",
        "print('A1', 'B2', sep=',')\r\n",
        "# 줄바꿈 end= ' ' 사용\r\n",
        "print('aa', end=' ')\r\n",
        "print('bb')\r\n",
        "\r\n",
        "a = ['A', 'B']\r\n",
        "print(' '.join(a))\r\n",
        "\r\n",
        "idx = 1\r\n",
        "fruit = 'Apple'\r\n",
        "print('{}: {}'.format(idx + 1, fruit))\r\n",
        "print(f'{idx +1}: {fruit}')\r\n"
      ],
      "execution_count": 38,
      "outputs": [
        {
          "output_type": "stream",
          "text": [
            "A1 B2\n",
            "A1,B2\n",
            "aa bb\n",
            "A B\n",
            "2: Apple\n",
            "2: Apple\n"
          ],
          "name": "stdout"
        }
      ]
    },
    {
      "cell_type": "code",
      "metadata": {
        "colab": {
          "base_uri": "https://localhost:8080/"
        },
        "id": "EkJrCTokyTmA",
        "outputId": "ac8734ab-146e-4c14-d9d6-da99ceab4bf6"
      },
      "source": [
        "# p.89 pass\r\n",
        "\r\n",
        "class MyClass(object):\r\n",
        "  def method_a(self):\r\n",
        "      pass\r\n",
        "\r\n",
        "  def method_b(self):\r\n",
        "      print(\"Method B\")\r\n",
        "\r\n",
        "C = MyClass()\r\n",
        "print(C)"
      ],
      "execution_count": 3,
      "outputs": [
        {
          "output_type": "stream",
          "text": [
            "<__main__.MyClass object at 0x7f34267e9950>\n"
          ],
          "name": "stdout"
        }
      ]
    },
    {
      "cell_type": "code",
      "metadata": {
        "id": "_7zAk8W5FsES"
      },
      "source": [
        "# p.90 locals\r\n",
        "\r\n",
        "import pprint\r\n",
        "pprint.pprint(locals())"
      ],
      "execution_count": null,
      "outputs": []
    },
    {
      "cell_type": "code",
      "metadata": {
        "id": "sKCiEUqLF6B_"
      },
      "source": [
        "# p.93 변수명과 주석\r\n",
        "\r\n",
        "def numMathcingSubseq(self, S: str, words: List[str]) -> int:\r\n",
        "    matched_count = 0\r\n",
        "\r\n",
        "    for word in words:\r\n",
        "      pos = 0\r\n",
        "      for i in range(len(word)):\r\n",
        "        # Find matching position for each character.\r\n",
        "        found_pos = S[pos:].find(word[i])\r\n",
        "        if found_pos<0:\r\n",
        "          matched_count -= 1\r\n",
        "          break\r\n",
        "        else: # If found, take step position forward.\r\n",
        "          pos += found_pos +1\r\n",
        "      matched_count += 1\r\n",
        "\r\n",
        "    return matched_count "
      ],
      "execution_count": null,
      "outputs": []
    },
    {
      "cell_type": "code",
      "metadata": {
        "id": "Kc1WxUsHLV6E"
      },
      "source": [
        "# p.94 리스트 컴프리헨션\r\n",
        "\r\n",
        "strls = []\r\n",
        "str1 = \"hello\"\r\n",
        "for i in range(len(str1)-1):\r\n",
        "  if re.findall('[a-z]{2}', str1[i:i + 2].lower()):\r\n",
        "    strls.append(str1[i:i + 2].lower())"
      ],
      "execution_count": null,
      "outputs": []
    },
    {
      "cell_type": "code",
      "metadata": {
        "id": "tHNws4kAMS13"
      },
      "source": [
        "# p.100 빅오\r\n",
        "\r\n",
        "for n in range(1, 15 +1):\r\n",
        "  print(n, n ** 2, 2 **n)"
      ],
      "execution_count": null,
      "outputs": []
    },
    {
      "cell_type": "code",
      "metadata": {
        "colab": {
          "base_uri": "https://localhost:8080/"
        },
        "id": "2Vzz9iqFON_8",
        "outputId": "1c345796-7d17-4ed2-c821-ff1dd311f82d"
      },
      "source": [
        "# p.108 숫자\r\n",
        "\r\n",
        "True == 1\r\n",
        "False == 0"
      ],
      "execution_count": 12,
      "outputs": [
        {
          "output_type": "execute_result",
          "data": {
            "text/plain": [
              "True"
            ]
          },
          "metadata": {
            "tags": []
          },
          "execution_count": 12
        }
      ]
    },
    {
      "cell_type": "code",
      "metadata": {
        "colab": {
          "base_uri": "https://localhost:8080/"
        },
        "id": "LLS4qSwVOUji",
        "outputId": "a96b178f-61ef-46fd-b7dc-6033d59e2635"
      },
      "source": [
        "# p.110 집합\r\n",
        "\r\n",
        "a = set()\r\n",
        "a\r\n",
        "type(a)"
      ],
      "execution_count": 14,
      "outputs": [
        {
          "output_type": "execute_result",
          "data": {
            "text/plain": [
              "set"
            ]
          },
          "metadata": {
            "tags": []
          },
          "execution_count": 14
        }
      ]
    },
    {
      "cell_type": "code",
      "metadata": {
        "colab": {
          "base_uri": "https://localhost:8080/"
        },
        "id": "maeQu8OFOcZU",
        "outputId": "74d3a7a3-93f3-4a4d-cdda-ccb6ab52c2c7"
      },
      "source": [
        "a = {'a', 'b', 'c'}\r\n",
        "\r\n",
        "b = {'a':'A', 'b':'B', 'c':'C'}\r\n",
        "\r\n",
        "c = {3, 2, 3, 5}\r\n",
        "\r\n",
        "print(type(a))\r\n",
        "print(type(b))\r\n",
        "print(c)"
      ],
      "execution_count": 19,
      "outputs": [
        {
          "output_type": "stream",
          "text": [
            "<class 'set'>\n",
            "<class 'dict'>\n",
            "{2, 3, 5}\n"
          ],
          "name": "stdout"
        }
      ]
    },
    {
      "cell_type": "code",
      "metadata": {
        "colab": {
          "base_uri": "https://localhost:8080/"
        },
        "id": "1by5DDt0Op12",
        "outputId": "9da649e6-e643-4528-8f4d-864096837206"
      },
      "source": [
        "a = 'abc'\r\n",
        "a = 'def'\r\n",
        "type(a)\r\n",
        "\r\n",
        "print(id('abc'))\r\n",
        "print(id(a))"
      ],
      "execution_count": 24,
      "outputs": [
        {
          "output_type": "stream",
          "text": [
            "139862518361136\n",
            "139862517505776\n"
          ],
          "name": "stdout"
        }
      ]
    },
    {
      "cell_type": "code",
      "metadata": {
        "colab": {
          "base_uri": "https://localhost:8080/"
        },
        "id": "C5RYiBnYP1Oz",
        "outputId": "77e4dca7-a023-4522-cd0f-dd03e4a2d6b3"
      },
      "source": [
        "# p.116 객체\r\n",
        "\r\n",
        "a = 10\r\n",
        "b = a\r\n",
        "10\r\n",
        "id(10), id(a), id(b)"
      ],
      "execution_count": 26,
      "outputs": [
        {
          "output_type": "execute_result",
          "data": {
            "text/plain": [
              "(94373157673760, 94373157673760, 94373157673760)"
            ]
          },
          "metadata": {
            "tags": []
          },
          "execution_count": 26
        }
      ]
    },
    {
      "cell_type": "code",
      "metadata": {
        "colab": {
          "base_uri": "https://localhost:8080/"
        },
        "id": "Gxk1makxP9Ov",
        "outputId": "de03bd7e-a9a5-4edb-e54f-2cd17757a9af"
      },
      "source": [
        "a = [1, 2, 3, 4, 5]\r\n",
        "b = a\r\n",
        "print(a[2])\r\n",
        "\r\n",
        "a[2] = 4\r\n",
        "print(a)\r\n",
        "print(b)"
      ],
      "execution_count": 30,
      "outputs": [
        {
          "output_type": "stream",
          "text": [
            "3\n",
            "[1, 2, 4, 4, 5]\n",
            "[1, 2, 4, 4, 5]\n"
          ],
          "name": "stdout"
        }
      ]
    },
    {
      "cell_type": "code",
      "metadata": {
        "colab": {
          "base_uri": "https://localhost:8080/"
        },
        "id": "AYUzkxC3QvYT",
        "outputId": "be2a2f24-c891-4391-9aaf-b02079e1ff1f"
      },
      "source": [
        "# p.118 is와 ==\r\n",
        "\r\n",
        "if a is None :\r\n",
        "  pass\r\n",
        "\r\n",
        "a = [1, 2, 3]\r\n",
        "a == a\r\n",
        "a == list(a)\r\n",
        "a is a\r\n",
        "a is list(a) # 값은 동일하나 list()로 한 번 더 묶어주면, 별도의 객체로 복사 되어 다른 ID를 갖게 됨."
      ],
      "execution_count": 36,
      "outputs": [
        {
          "output_type": "execute_result",
          "data": {
            "text/plain": [
              "False"
            ]
          },
          "metadata": {
            "tags": []
          },
          "execution_count": 36
        }
      ]
    }
  ]
}