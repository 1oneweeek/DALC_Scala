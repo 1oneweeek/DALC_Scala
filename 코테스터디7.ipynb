{
  "nbformat": 4,
  "nbformat_minor": 0,
  "metadata": {
    "colab": {
      "name": "코테스터디7.ipynb",
      "provenance": [],
      "authorship_tag": "ABX9TyOkiqkGMpEijCRnJBPymXFF",
      "include_colab_link": true
    },
    "kernelspec": {
      "name": "python3",
      "display_name": "Python 3"
    },
    "language_info": {
      "name": "python"
    }
  },
  "cells": [
    {
      "cell_type": "markdown",
      "metadata": {
        "id": "view-in-github",
        "colab_type": "text"
      },
      "source": [
        "<a href=\"https://colab.research.google.com/github/1oneweeek/DALC_Scala/blob/main/%EC%BD%94%ED%85%8C%EC%8A%A4%ED%84%B0%EB%94%947.ipynb\" target=\"_parent\"><img src=\"https://colab.research.google.com/assets/colab-badge.svg\" alt=\"Open In Colab\"/></a>"
      ]
    },
    {
      "cell_type": "code",
      "metadata": {
        "id": "FnKY8gC22Zwd"
      },
      "source": [
        "def numJewelsInStones(self, J, S):\n",
        "    return sum(s in J for s in S)"
      ],
      "execution_count": 1,
      "outputs": []
    },
    {
      "cell_type": "code",
      "metadata": {
        "id": "lPBxiiw72xqq"
      },
      "source": [
        "def lengthOfLongestSubstring(self, s):\n",
        "    used = {}\n",
        "    start = max_len = 0\n",
        "    for index, char in enumerate(s):\n",
        "        if char in used and start <= used[char]:\n",
        "            start = used[char] + 1\n",
        "        else:\n",
        "            max_len = max(max_len, index - start + 1)\n",
        "\n",
        "        used[char] = index\n",
        "\n",
        "    return max_len"
      ],
      "execution_count": 2,
      "outputs": []
    },
    {
      "cell_type": "code",
      "metadata": {
        "id": "ICq7LuFB27rj"
      },
      "source": [
        "def topKFrequent(self, nums, k):\n",
        "    freqs = collections.Counter(nums)\n",
        "    heap = []\n",
        "\n",
        "    for f in freqs:\n",
        "        heapq.heappush(heap, (-freqs[f], f))\n",
        "\n",
        "    result = []\n",
        "    for _ in range(k):\n",
        "        result.append(heapq.heappop(heap)[1])\n",
        "\n",
        "    return result"
      ],
      "execution_count": 3,
      "outputs": []
    }
  ]
}