{
  "nbformat": 4,
  "nbformat_minor": 0,
  "metadata": {
    "colab": {
      "name": "스터디numpy1.ipynb",
      "provenance": [],
      "authorship_tag": "ABX9TyOJN0xWSrf4Z+atZKG6QiDN",
      "include_colab_link": true
    },
    "kernelspec": {
      "name": "python3",
      "display_name": "Python 3"
    },
    "language_info": {
      "name": "python"
    }
  },
  "cells": [
    {
      "cell_type": "markdown",
      "metadata": {
        "id": "view-in-github",
        "colab_type": "text"
      },
      "source": [
        "<a href=\"https://colab.research.google.com/github/1oneweeek/DALC_Scala/blob/main/%EC%8A%A4%ED%84%B0%EB%94%94numpy1.ipynb\" target=\"_parent\"><img src=\"https://colab.research.google.com/assets/colab-badge.svg\" alt=\"Open In Colab\"/></a>"
      ]
    },
    {
      "cell_type": "code",
      "metadata": {
        "id": "1D4jVJXOoQJn"
      },
      "source": [
        "import numpy as np"
      ],
      "execution_count": 1,
      "outputs": []
    },
    {
      "cell_type": "code",
      "metadata": {
        "colab": {
          "base_uri": "https://localhost:8080/"
        },
        "id": "u4zqjLQYoY7n",
        "outputId": "e3649c08-0eb6-46d7-efcd-1f4da898d2b1"
      },
      "source": [
        "data1 = [1, 2, 3, 4, 5]\n",
        "data2 = [6, 5, 4, 3, 2, 1]\n",
        "print(data1, data2)"
      ],
      "execution_count": 2,
      "outputs": [
        {
          "output_type": "stream",
          "text": [
            "[1, 2, 3, 4, 5] [6, 5, 4, 3, 2, 1]\n"
          ],
          "name": "stdout"
        }
      ]
    },
    {
      "cell_type": "code",
      "metadata": {
        "colab": {
          "base_uri": "https://localhost:8080/"
        },
        "id": "A0mKlUBCox_a",
        "outputId": "3572ab08-4701-4562-e288-b02af604755a"
      },
      "source": [
        "ar1 = np.array(data1)\n",
        "ar1"
      ],
      "execution_count": 3,
      "outputs": [
        {
          "output_type": "execute_result",
          "data": {
            "text/plain": [
              "array([1, 2, 3, 4, 5])"
            ]
          },
          "metadata": {
            "tags": []
          },
          "execution_count": 3
        }
      ]
    },
    {
      "cell_type": "code",
      "metadata": {
        "colab": {
          "base_uri": "https://localhost:8080/"
        },
        "id": "qCZwPr0zo2-s",
        "outputId": "cd786255-6506-4952-bb67-b8aac7be2249"
      },
      "source": [
        "ar2 = np.array(data1, dtype='float32')\n",
        "ar2"
      ],
      "execution_count": 4,
      "outputs": [
        {
          "output_type": "execute_result",
          "data": {
            "text/plain": [
              "array([1., 2., 3., 4., 5.], dtype=float32)"
            ]
          },
          "metadata": {
            "tags": []
          },
          "execution_count": 4
        }
      ]
    },
    {
      "cell_type": "code",
      "metadata": {
        "colab": {
          "base_uri": "https://localhost:8080/"
        },
        "id": "lLPsf_Rqo8pr",
        "outputId": "aa689678-8b45-47d6-bf13-a7b3b1d38967"
      },
      "source": [
        "ar3 = np.array([range(i, i+3) for i in data1])\n",
        "ar3"
      ],
      "execution_count": 5,
      "outputs": [
        {
          "output_type": "execute_result",
          "data": {
            "text/plain": [
              "array([[1, 2, 3],\n",
              "       [2, 3, 4],\n",
              "       [3, 4, 5],\n",
              "       [4, 5, 6],\n",
              "       [5, 6, 7]])"
            ]
          },
          "metadata": {
            "tags": []
          },
          "execution_count": 5
        }
      ]
    },
    {
      "cell_type": "code",
      "metadata": {
        "colab": {
          "base_uri": "https://localhost:8080/"
        },
        "id": "QqJQQ1UapCiq",
        "outputId": "e43955a2-7538-4f8a-e3be-b969de88f7ab"
      },
      "source": [
        "ar4 = np.full((3, 5), 3.14)\n",
        "ar4"
      ],
      "execution_count": 7,
      "outputs": [
        {
          "output_type": "execute_result",
          "data": {
            "text/plain": [
              "array([[3.14, 3.14, 3.14, 3.14, 3.14],\n",
              "       [3.14, 3.14, 3.14, 3.14, 3.14],\n",
              "       [3.14, 3.14, 3.14, 3.14, 3.14]])"
            ]
          },
          "metadata": {
            "tags": []
          },
          "execution_count": 7
        }
      ]
    },
    {
      "cell_type": "code",
      "metadata": {
        "colab": {
          "base_uri": "https://localhost:8080/"
        },
        "id": "oGeGw66gpJL4",
        "outputId": "4f5fcdde-7aef-4191-c09a-6922d22464ec"
      },
      "source": [
        "ar5 = np.arange(0, 20, 2)\n",
        "ar5"
      ],
      "execution_count": 8,
      "outputs": [
        {
          "output_type": "execute_result",
          "data": {
            "text/plain": [
              "array([ 0,  2,  4,  6,  8, 10, 12, 14, 16, 18])"
            ]
          },
          "metadata": {
            "tags": []
          },
          "execution_count": 8
        }
      ]
    },
    {
      "cell_type": "code",
      "metadata": {
        "colab": {
          "base_uri": "https://localhost:8080/"
        },
        "id": "GDLlAQPKpNGt",
        "outputId": "616e72c9-2dd0-427b-a144-36ca20ecf8eb"
      },
      "source": [
        "ar6 = np.linspace(0, 1, 3)\n",
        "ar6"
      ],
      "execution_count": 9,
      "outputs": [
        {
          "output_type": "execute_result",
          "data": {
            "text/plain": [
              "array([0. , 0.5, 1. ])"
            ]
          },
          "metadata": {
            "tags": []
          },
          "execution_count": 9
        }
      ]
    },
    {
      "cell_type": "code",
      "metadata": {
        "colab": {
          "base_uri": "https://localhost:8080/"
        },
        "id": "AjfQgNUlpQTS",
        "outputId": "a10c941c-b437-4323-a210-6944a8f03127"
      },
      "source": [
        "ar7 = np.random.random((3, 3))\n",
        "ar7"
      ],
      "execution_count": 10,
      "outputs": [
        {
          "output_type": "execute_result",
          "data": {
            "text/plain": [
              "array([[0.39021285, 0.37180408, 0.16385065],\n",
              "       [0.97203879, 0.21851364, 0.54560892],\n",
              "       [0.32372607, 0.24371375, 0.81692424]])"
            ]
          },
          "metadata": {
            "tags": []
          },
          "execution_count": 10
        }
      ]
    },
    {
      "cell_type": "code",
      "metadata": {
        "colab": {
          "base_uri": "https://localhost:8080/"
        },
        "id": "ATP7eonzpT8B",
        "outputId": "dac4bc57-69fa-448e-81b8-b1458c2f4088"
      },
      "source": [
        "ar8 = np.random.randint(0, 100, (3, 3))\n",
        "ar8"
      ],
      "execution_count": 11,
      "outputs": [
        {
          "output_type": "execute_result",
          "data": {
            "text/plain": [
              "array([[ 8, 99, 89],\n",
              "       [84,  7, 43],\n",
              "       [60, 27, 69]])"
            ]
          },
          "metadata": {
            "tags": []
          },
          "execution_count": 11
        }
      ]
    },
    {
      "cell_type": "code",
      "metadata": {
        "colab": {
          "base_uri": "https://localhost:8080/"
        },
        "id": "fmQdHpS4pYWX",
        "outputId": "4a4b445a-ebfe-43e9-b847-b749b6ec1e4b"
      },
      "source": [
        "ar9 = np.eye(3)\n",
        "ar9"
      ],
      "execution_count": 12,
      "outputs": [
        {
          "output_type": "execute_result",
          "data": {
            "text/plain": [
              "array([[1., 0., 0.],\n",
              "       [0., 1., 0.],\n",
              "       [0., 0., 1.]])"
            ]
          },
          "metadata": {
            "tags": []
          },
          "execution_count": 12
        }
      ]
    },
    {
      "cell_type": "code",
      "metadata": {
        "colab": {
          "base_uri": "https://localhost:8080/"
        },
        "id": "U_y0jIjXpedM",
        "outputId": "de662437-7452-48e3-9bc4-314b8feaefbd"
      },
      "source": [
        "x = np.random.randint(10, size = (3, 4, 5))\n",
        "x"
      ],
      "execution_count": 13,
      "outputs": [
        {
          "output_type": "execute_result",
          "data": {
            "text/plain": [
              "array([[[8, 7, 0, 4, 4],\n",
              "        [2, 9, 7, 5, 8],\n",
              "        [4, 6, 5, 4, 7],\n",
              "        [7, 4, 1, 1, 1]],\n",
              "\n",
              "       [[0, 6, 4, 1, 1],\n",
              "        [9, 7, 6, 2, 5],\n",
              "        [4, 4, 7, 4, 2],\n",
              "        [9, 9, 0, 7, 8]],\n",
              "\n",
              "       [[4, 1, 8, 4, 7],\n",
              "        [0, 2, 5, 0, 4],\n",
              "        [0, 9, 4, 0, 8],\n",
              "        [3, 8, 3, 8, 6]]])"
            ]
          },
          "metadata": {
            "tags": []
          },
          "execution_count": 13
        }
      ]
    },
    {
      "cell_type": "code",
      "metadata": {
        "colab": {
          "base_uri": "https://localhost:8080/"
        },
        "id": "1fSml3uTpje9",
        "outputId": "6df75ec2-b7f1-4275-8e40-238030eb96fe"
      },
      "source": [
        "print(\"x ndim:\", x.ndim)\n",
        "print(\"x shape:\", x.shape)\n",
        "print(\"x size:\", x.size)"
      ],
      "execution_count": 15,
      "outputs": [
        {
          "output_type": "stream",
          "text": [
            "x ndim: 3\n",
            "x shape: (3, 4, 5)\n",
            "x size: 60\n"
          ],
          "name": "stdout"
        }
      ]
    },
    {
      "cell_type": "code",
      "metadata": {
        "colab": {
          "base_uri": "https://localhost:8080/"
        },
        "id": "vIzVHEjfps7t",
        "outputId": "6f648eb1-2053-4b3a-8e4f-49ec3c5a0b33"
      },
      "source": [
        "y = np.array([2, 4, 6, 8, 10])\n",
        "print(y[0], y[-2])"
      ],
      "execution_count": 16,
      "outputs": [
        {
          "output_type": "stream",
          "text": [
            "2 8\n"
          ],
          "name": "stdout"
        }
      ]
    },
    {
      "cell_type": "code",
      "metadata": {
        "colab": {
          "base_uri": "https://localhost:8080/"
        },
        "id": "KBfSHywMp2MQ",
        "outputId": "3362b30f-baa1-453a-a65a-31df35239bfc"
      },
      "source": [
        "z = np.array([[2, 4, 6, 8, 10], [3, 6, 9, 12, 15]])\n",
        "print(z[1, 0])"
      ],
      "execution_count": 18,
      "outputs": [
        {
          "output_type": "stream",
          "text": [
            "3\n"
          ],
          "name": "stdout"
        }
      ]
    },
    {
      "cell_type": "code",
      "metadata": {
        "colab": {
          "base_uri": "https://localhost:8080/"
        },
        "id": "MQkEc84-p-1n",
        "outputId": "6e67d30c-8429-4fd4-9a25-f22744c44f07"
      },
      "source": [
        "z[0, 0]=12\n",
        "z"
      ],
      "execution_count": 19,
      "outputs": [
        {
          "output_type": "execute_result",
          "data": {
            "text/plain": [
              "array([[12,  4,  6,  8, 10],\n",
              "       [ 3,  6,  9, 12, 15]])"
            ]
          },
          "metadata": {
            "tags": []
          },
          "execution_count": 19
        }
      ]
    },
    {
      "cell_type": "code",
      "metadata": {
        "colab": {
          "base_uri": "https://localhost:8080/"
        },
        "id": "9vwDdrw9qE5K",
        "outputId": "9e5f68f1-7eba-4a95-a85b-bc387e167092"
      },
      "source": [
        "x = np.arange(10)\n",
        "x[4:8]"
      ],
      "execution_count": 20,
      "outputs": [
        {
          "output_type": "execute_result",
          "data": {
            "text/plain": [
              "array([4, 5, 6, 7])"
            ]
          },
          "metadata": {
            "tags": []
          },
          "execution_count": 20
        }
      ]
    },
    {
      "cell_type": "code",
      "metadata": {
        "colab": {
          "base_uri": "https://localhost:8080/"
        },
        "id": "K4H66Jr_qH5n",
        "outputId": "cecffaf6-cacb-48e3-ed05-f40a4a12229f"
      },
      "source": [
        "x = np.arange(10)\n",
        "x[:5]"
      ],
      "execution_count": 22,
      "outputs": [
        {
          "output_type": "execute_result",
          "data": {
            "text/plain": [
              "array([0, 1, 2, 3, 4])"
            ]
          },
          "metadata": {
            "tags": []
          },
          "execution_count": 22
        }
      ]
    },
    {
      "cell_type": "code",
      "metadata": {
        "colab": {
          "base_uri": "https://localhost:8080/"
        },
        "id": "JKr_C7cnqMU3",
        "outputId": "387fba30-e796-495f-a805-f706037a559f"
      },
      "source": [
        "x = np.arange(10)\n",
        "x[5:]"
      ],
      "execution_count": 23,
      "outputs": [
        {
          "output_type": "execute_result",
          "data": {
            "text/plain": [
              "array([5, 6, 7, 8, 9])"
            ]
          },
          "metadata": {
            "tags": []
          },
          "execution_count": 23
        }
      ]
    },
    {
      "cell_type": "code",
      "metadata": {
        "colab": {
          "base_uri": "https://localhost:8080/"
        },
        "id": "hkyERtjxqUSN",
        "outputId": "03fdaa60-debc-4a68-bf00-170b1d1538e2"
      },
      "source": [
        "z = np.array([[2, 4, 6, 8, 10], [3, 6, 9, 12, 15]])\n",
        "z[:2, :3]"
      ],
      "execution_count": 24,
      "outputs": [
        {
          "output_type": "execute_result",
          "data": {
            "text/plain": [
              "array([[2, 4, 6],\n",
              "       [3, 6, 9]])"
            ]
          },
          "metadata": {
            "tags": []
          },
          "execution_count": 24
        }
      ]
    },
    {
      "cell_type": "code",
      "metadata": {
        "colab": {
          "base_uri": "https://localhost:8080/"
        },
        "id": "Sm3qdR6Kqiuc",
        "outputId": "34b98f74-a0f1-4346-f549-ab3cd69a347d"
      },
      "source": [
        "z = np.array([[2, 4, 6, 8, 10], [3, 6, 9, 12, 15]])\n",
        "z[:3, :2]"
      ],
      "execution_count": 25,
      "outputs": [
        {
          "output_type": "execute_result",
          "data": {
            "text/plain": [
              "array([[2, 4],\n",
              "       [3, 6]])"
            ]
          },
          "metadata": {
            "tags": []
          },
          "execution_count": 25
        }
      ]
    },
    {
      "cell_type": "code",
      "metadata": {
        "colab": {
          "base_uri": "https://localhost:8080/"
        },
        "id": "kt-JxFnKqoLh",
        "outputId": "19b23670-c79d-41f4-8be2-88ae6516ee5c"
      },
      "source": [
        "z = np.arange(1, 10).reshape(3, 3)\n",
        "z"
      ],
      "execution_count": 26,
      "outputs": [
        {
          "output_type": "execute_result",
          "data": {
            "text/plain": [
              "array([[1, 2, 3],\n",
              "       [4, 5, 6],\n",
              "       [7, 8, 9]])"
            ]
          },
          "metadata": {
            "tags": []
          },
          "execution_count": 26
        }
      ]
    },
    {
      "cell_type": "code",
      "metadata": {
        "colab": {
          "base_uri": "https://localhost:8080/"
        },
        "id": "wtkBHVuQqsoM",
        "outputId": "8b8b7fb8-6716-453e-e248-5aa0f3224c88"
      },
      "source": [
        "x = np.array([1, 2, 3])\n",
        "y = np.array([3, 2, 1])\n",
        "z = np.concatenate([x, y])\n",
        "z"
      ],
      "execution_count": 28,
      "outputs": [
        {
          "output_type": "execute_result",
          "data": {
            "text/plain": [
              "array([1, 2, 3, 3, 2, 1])"
            ]
          },
          "metadata": {
            "tags": []
          },
          "execution_count": 28
        }
      ]
    },
    {
      "cell_type": "code",
      "metadata": {
        "colab": {
          "base_uri": "https://localhost:8080/"
        },
        "id": "pIUTgNh0q2ui",
        "outputId": "12baeb6e-00f6-4260-8ce8-9e9a8a4fdedf"
      },
      "source": [
        "x = np.array([1, 2, 3])\n",
        "grid = np.array([[4, 5, 6], [7, 8, 9]])\n",
        "v = np.vstack([x, grid])\n",
        "v"
      ],
      "execution_count": 31,
      "outputs": [
        {
          "output_type": "execute_result",
          "data": {
            "text/plain": [
              "array([[1, 2, 3],\n",
              "       [4, 5, 6],\n",
              "       [7, 8, 9]])"
            ]
          },
          "metadata": {
            "tags": []
          },
          "execution_count": 31
        }
      ]
    },
    {
      "cell_type": "code",
      "metadata": {
        "colab": {
          "base_uri": "https://localhost:8080/"
        },
        "id": "n2hdxJFur1Ro",
        "outputId": "a0e30126-f725-43e8-c53a-86abeb6bc069"
      },
      "source": [
        "y = np.array([[99], [99]])\n",
        "z = np.hstack([grid, y])\n",
        "z"
      ],
      "execution_count": 33,
      "outputs": [
        {
          "output_type": "execute_result",
          "data": {
            "text/plain": [
              "array([[ 4,  5,  6, 99],\n",
              "       [ 7,  8,  9, 99]])"
            ]
          },
          "metadata": {
            "tags": []
          },
          "execution_count": 33
        }
      ]
    },
    {
      "cell_type": "code",
      "metadata": {
        "colab": {
          "base_uri": "https://localhost:8080/"
        },
        "id": "8jLLj5kWsAzn",
        "outputId": "70800bed-b71e-4a2b-9e79-1399d13f9877"
      },
      "source": [
        "x = [1, 2, 3, 77, 77, 3, 2, 1]\n",
        "x1, x2, x3 = np.split(x, [3, 5])\n",
        "print(x1, x2, x3)"
      ],
      "execution_count": 34,
      "outputs": [
        {
          "output_type": "stream",
          "text": [
            "[1 2 3] [77 77] [3 2 1]\n"
          ],
          "name": "stdout"
        }
      ]
    },
    {
      "cell_type": "code",
      "metadata": {
        "colab": {
          "base_uri": "https://localhost:8080/"
        },
        "id": "moFpFViasObW",
        "outputId": "cd81dfaf-3b9c-4a83-c017-8b343b17b055"
      },
      "source": [
        "grid = np.arange(16).reshape((4, 4))\n",
        "upper, lower = np.vsplit(grid, [2])\n",
        "print(upper)\n",
        "print(lower)"
      ],
      "execution_count": 36,
      "outputs": [
        {
          "output_type": "stream",
          "text": [
            "[[0 1 2 3]\n",
            " [4 5 6 7]]\n",
            "[[ 8  9 10 11]\n",
            " [12 13 14 15]]\n"
          ],
          "name": "stdout"
        }
      ]
    },
    {
      "cell_type": "code",
      "metadata": {
        "id": "4jZyLK9HsbiP"
      },
      "source": [
        ""
      ],
      "execution_count": null,
      "outputs": []
    }
  ]
}