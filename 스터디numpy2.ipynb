{
  "nbformat": 4,
  "nbformat_minor": 0,
  "metadata": {
    "colab": {
      "name": "스터디numpy2.ipynb",
      "provenance": [],
      "authorship_tag": "ABX9TyOpyQ3MmbRu4XaDhGUltJ8x",
      "include_colab_link": true
    },
    "kernelspec": {
      "name": "python3",
      "display_name": "Python 3"
    },
    "language_info": {
      "name": "python"
    }
  },
  "cells": [
    {
      "cell_type": "markdown",
      "metadata": {
        "id": "view-in-github",
        "colab_type": "text"
      },
      "source": [
        "<a href=\"https://colab.research.google.com/github/1oneweeek/DALC_Scala/blob/main/%EC%8A%A4%ED%84%B0%EB%94%94numpy2.ipynb\" target=\"_parent\"><img src=\"https://colab.research.google.com/assets/colab-badge.svg\" alt=\"Open In Colab\"/></a>"
      ]
    },
    {
      "cell_type": "code",
      "metadata": {
        "id": "ro7pq9FhtdGG"
      },
      "source": [
        "import numpy as np"
      ],
      "execution_count": 2,
      "outputs": []
    },
    {
      "cell_type": "code",
      "metadata": {
        "colab": {
          "base_uri": "https://localhost:8080/"
        },
        "id": "1-wNElcptGgL",
        "outputId": "1a6bc8f7-5653-4da3-b7d7-64069cf97f8a"
      },
      "source": [
        "x = np.arange(4)\n",
        "print(\"x = \", x)\n",
        "print(\"x + 10 =\", x + 10)\n",
        "print(\"x - 10 =\", x - 10)\n",
        "print(\"x * 2 =\", x * 2)\n",
        "print(\"x / 2 =\", x / 2)\n",
        "print(\"x // 2 =\", x // 2)"
      ],
      "execution_count": 3,
      "outputs": [
        {
          "output_type": "stream",
          "text": [
            "x =  [0 1 2 3]\n",
            "x + 10 = [10 11 12 13]\n",
            "x - 10 = [-10  -9  -8  -7]\n",
            "x * 2 = [0 2 4 6]\n",
            "x / 2 = [0.  0.5 1.  1.5]\n",
            "x // 2 = [0 0 1 1]\n"
          ],
          "name": "stdout"
        }
      ]
    },
    {
      "cell_type": "code",
      "metadata": {
        "colab": {
          "base_uri": "https://localhost:8080/"
        },
        "id": "m2LOKJ9Qth1v",
        "outputId": "68e30382-071e-47f5-f1a2-3c2699fa3668"
      },
      "source": [
        "x = np.arange(4)\n",
        "print(\"x =\", x)\n",
        "print(\"-x =\", -x)\n",
        "print(\"x ** 2 =\", x ** 2)\n",
        "print(\"x % 2 =\", x % 2)"
      ],
      "execution_count": 4,
      "outputs": [
        {
          "output_type": "stream",
          "text": [
            "x = [0 1 2 3]\n",
            "-x = [ 0 -1 -2 -3]\n",
            "x ** 2 = [0 1 4 9]\n",
            "x % 2 = [0 1 0 1]\n"
          ],
          "name": "stdout"
        }
      ]
    },
    {
      "cell_type": "code",
      "metadata": {
        "colab": {
          "base_uri": "https://localhost:8080/"
        },
        "id": "mk4_8j08tsfL",
        "outputId": "56a7000e-ae8a-4d54-aaf7-6fb5df61963c"
      },
      "source": [
        "x = np.array([-2, -1, 0, 1, 2])\n",
        "np.absolute(x)\n",
        "np.abs(x)"
      ],
      "execution_count": 5,
      "outputs": [
        {
          "output_type": "execute_result",
          "data": {
            "text/plain": [
              "array([2, 1, 0, 1, 2])"
            ]
          },
          "metadata": {
            "tags": []
          },
          "execution_count": 5
        }
      ]
    },
    {
      "cell_type": "code",
      "metadata": {
        "colab": {
          "base_uri": "https://localhost:8080/"
        },
        "id": "_44LuLS2t0rd",
        "outputId": "5be22f3a-fa90-4f0c-e840-6248e42af757"
      },
      "source": [
        "theta = np.linspace(0, np.pi, 3)\n",
        "print(\"theta =\", theta)\n",
        "print(\"sin(theta) =\", np.sin(theta))\n",
        "print(\"cos(theta) =\", np.cos(theta))\n",
        "print(\"tn(theta) =\", np.tan(theta))"
      ],
      "execution_count": 7,
      "outputs": [
        {
          "output_type": "stream",
          "text": [
            "theta = [0.         1.57079633 3.14159265]\n",
            "sin(theta) = [0.0000000e+00 1.0000000e+00 1.2246468e-16]\n",
            "cos(theta) = [ 1.000000e+00  6.123234e-17 -1.000000e+00]\n",
            "tn(theta) = [ 0.00000000e+00  1.63312394e+16 -1.22464680e-16]\n"
          ],
          "name": "stdout"
        }
      ]
    },
    {
      "cell_type": "code",
      "metadata": {
        "colab": {
          "base_uri": "https://localhost:8080/"
        },
        "id": "YHR8nztYuIo4",
        "outputId": "372988f2-5fdc-4872-88fc-756df223c18b"
      },
      "source": [
        "x = [-1, 0, 1]\n",
        "print(\"x = \", x)\n",
        "print(\"arcsin(theta) = \", np.arcsin(x))\n",
        "print(\"arccos(theta) = \", np.arccos(x))\n",
        "print(\"arctan(theta) = \", np.arctan(x))"
      ],
      "execution_count": 8,
      "outputs": [
        {
          "output_type": "stream",
          "text": [
            "x =  [-1, 0, 1]\n",
            "arcsin(theta) =  [-1.57079633  0.          1.57079633]\n",
            "arccos(theta) =  [3.14159265 1.57079633 0.        ]\n",
            "arctan(theta) =  [-0.78539816  0.          0.78539816]\n"
          ],
          "name": "stdout"
        }
      ]
    },
    {
      "cell_type": "code",
      "metadata": {
        "colab": {
          "base_uri": "https://localhost:8080/"
        },
        "id": "IpV1yhuguVTV",
        "outputId": "f353d07d-a1f1-4fe9-9fe8-aaf9fbbe53bf"
      },
      "source": [
        "x = [1, 2, 3]\n",
        "print(\"x =\", x)\n",
        "print(\"e^x =\", np.exp(x))\n",
        "print(\"2^x = \", np.exp2(x))\n",
        "print(\"3^x = \", np.power(3,x))"
      ],
      "execution_count": 9,
      "outputs": [
        {
          "output_type": "stream",
          "text": [
            "x = [1, 2, 3]\n",
            "e^x = [ 2.71828183  7.3890561  20.08553692]\n",
            "2^x =  [2. 4. 8.]\n",
            "3^x =  [ 3  9 27]\n"
          ],
          "name": "stdout"
        }
      ]
    },
    {
      "cell_type": "code",
      "metadata": {
        "colab": {
          "base_uri": "https://localhost:8080/"
        },
        "id": "z7FRwXCXuhZr",
        "outputId": "c2446da3-8efe-4a87-a3d5-4e006c164235"
      },
      "source": [
        "x = [1, 2, 4, 10]\n",
        "print(\"x =\", x)\n",
        "print(\"ln(x) =\", np.log(x))\n",
        "print(\"log2(x) =\", np.log2(x))\n",
        "print(\"log10(x) =\", np.log10(x))"
      ],
      "execution_count": 10,
      "outputs": [
        {
          "output_type": "stream",
          "text": [
            "x = [1, 2, 4, 10]\n",
            "ln(x) = [0.         0.69314718 1.38629436 2.30258509]\n",
            "log2(x) = [0.         1.         2.         3.32192809]\n",
            "log10(x) = [0.         0.30103    0.60205999 1.        ]\n"
          ],
          "name": "stdout"
        }
      ]
    },
    {
      "cell_type": "code",
      "metadata": {
        "colab": {
          "base_uri": "https://localhost:8080/"
        },
        "id": "iojHi8xZurNh",
        "outputId": "5da05690-f5ad-40c9-85d5-0070126d7185"
      },
      "source": [
        "x = np.arange(5)\n",
        "y = np.empty(5)\n",
        "np.multiply(x, 10, out=y)\n",
        "print(y)"
      ],
      "execution_count": 14,
      "outputs": [
        {
          "output_type": "stream",
          "text": [
            "[ 0. 10. 20. 30. 40.]\n"
          ],
          "name": "stdout"
        }
      ]
    },
    {
      "cell_type": "code",
      "metadata": {
        "colab": {
          "base_uri": "https://localhost:8080/"
        },
        "id": "qKuwme4Vu5ZL",
        "outputId": "b54850a8-1f4a-4ae0-92d2-1e7262646594"
      },
      "source": [
        "x = np.arange(5)\n",
        "y = np.zeros(10)\n",
        "np.power(2, x, out=y[::2])\n",
        "print(y)"
      ],
      "execution_count": 16,
      "outputs": [
        {
          "output_type": "stream",
          "text": [
            "[ 1.  0.  2.  0.  4.  0.  8.  0. 16.  0.]\n"
          ],
          "name": "stdout"
        }
      ]
    },
    {
      "cell_type": "code",
      "metadata": {
        "colab": {
          "base_uri": "https://localhost:8080/"
        },
        "id": "nAQq0-fnvE8g",
        "outputId": "3057f718-33d5-4919-bd67-19698c00e737"
      },
      "source": [
        "x = np.arange(1, 5)\n",
        "np.add.reduce(x)"
      ],
      "execution_count": 17,
      "outputs": [
        {
          "output_type": "execute_result",
          "data": {
            "text/plain": [
              "10"
            ]
          },
          "metadata": {
            "tags": []
          },
          "execution_count": 17
        }
      ]
    },
    {
      "cell_type": "code",
      "metadata": {
        "colab": {
          "base_uri": "https://localhost:8080/"
        },
        "id": "EZmU8hpHusNx",
        "outputId": "cede05b6-5243-4435-b177-882c625b78fc"
      },
      "source": [
        "s = np.random.random(1000)\n",
        "np.sum(s)"
      ],
      "execution_count": 18,
      "outputs": [
        {
          "output_type": "execute_result",
          "data": {
            "text/plain": [
              "489.2216548960443"
            ]
          },
          "metadata": {
            "tags": []
          },
          "execution_count": 18
        }
      ]
    },
    {
      "cell_type": "code",
      "metadata": {
        "colab": {
          "base_uri": "https://localhost:8080/"
        },
        "id": "0I0oFz2svMUG",
        "outputId": "0081a223-ee38-4484-a835-f41ad7b0e745"
      },
      "source": [
        "s = np.random.random(1000)\n",
        "np.min(s), np.max(s)"
      ],
      "execution_count": 19,
      "outputs": [
        {
          "output_type": "execute_result",
          "data": {
            "text/plain": [
              "(0.0012691229549336436, 0.9980643785709727)"
            ]
          },
          "metadata": {
            "tags": []
          },
          "execution_count": 19
        }
      ]
    },
    {
      "cell_type": "code",
      "metadata": {
        "colab": {
          "base_uri": "https://localhost:8080/"
        },
        "id": "kxSI7SftvPub",
        "outputId": "82d01fc4-7d2c-498b-86d0-2e9ee302506c"
      },
      "source": [
        "x = np.array([0, 1, 2])\n",
        "y = np.array([3, 3, 3])\n",
        "x + y"
      ],
      "execution_count": 21,
      "outputs": [
        {
          "output_type": "execute_result",
          "data": {
            "text/plain": [
              "array([3, 4, 5])"
            ]
          },
          "metadata": {
            "tags": []
          },
          "execution_count": 21
        }
      ]
    },
    {
      "cell_type": "code",
      "metadata": {
        "colab": {
          "base_uri": "https://localhost:8080/"
        },
        "id": "4wzs62lHvbgP",
        "outputId": "6ad37177-7b11-42d3-eb72-33445f0f1c0f"
      },
      "source": [
        "x = np.array([0, 1, 2])\n",
        "x + 10"
      ],
      "execution_count": 22,
      "outputs": [
        {
          "output_type": "execute_result",
          "data": {
            "text/plain": [
              "array([10, 11, 12])"
            ]
          },
          "metadata": {
            "tags": []
          },
          "execution_count": 22
        }
      ]
    },
    {
      "cell_type": "code",
      "metadata": {
        "colab": {
          "base_uri": "https://localhost:8080/"
        },
        "id": "KVUwIcBzvhNv",
        "outputId": "a48ae1dc-d329-42d1-c452-17cb1077e7a3"
      },
      "source": [
        "x = np.array([0, 1, 2])\n",
        "M = np.ones((3, 3))\n",
        "x + M"
      ],
      "execution_count": 23,
      "outputs": [
        {
          "output_type": "execute_result",
          "data": {
            "text/plain": [
              "array([[1., 2., 3.],\n",
              "       [1., 2., 3.],\n",
              "       [1., 2., 3.]])"
            ]
          },
          "metadata": {
            "tags": []
          },
          "execution_count": 23
        }
      ]
    },
    {
      "cell_type": "code",
      "metadata": {
        "colab": {
          "base_uri": "https://localhost:8080/"
        },
        "id": "M7WMq_myvpjE",
        "outputId": "4c99fd9e-041f-4d9b-b717-cac2e599d3f6"
      },
      "source": [
        "a = np.arange(3).reshape((3, 1))\n",
        "b = np.arange(3)\n",
        "a + b"
      ],
      "execution_count": 24,
      "outputs": [
        {
          "output_type": "execute_result",
          "data": {
            "text/plain": [
              "array([[0, 1, 2],\n",
              "       [1, 2, 3],\n",
              "       [2, 3, 4]])"
            ]
          },
          "metadata": {
            "tags": []
          },
          "execution_count": 24
        }
      ]
    },
    {
      "cell_type": "code",
      "metadata": {
        "id": "BdoGd-C7vwNh"
      },
      "source": [
        "x = np.linspace(0 ,5, 50)\n",
        "y = np.linspace(0, 5, 50)[:, np.newaxis]\n",
        "z = np.sin(x) ** 10 + np.cos(10 + y + x) * np.cos(x)\n"
      ],
      "execution_count": 25,
      "outputs": []
    },
    {
      "cell_type": "code",
      "metadata": {
        "colab": {
          "base_uri": "https://localhost:8080/",
          "height": 269
        },
        "id": "YJHFPFlGv-kz",
        "outputId": "777badc4-b53b-4be8-9d82-1a986fe91bf5"
      },
      "source": [
        "import matplotlib.pyplot as plt\n",
        "plt.imshow(z, origin = 'lower', extent = [0, 5, 0, 5], cmap = 'viridis')\n",
        "plt.colorbar();"
      ],
      "execution_count": 28,
      "outputs": [
        {
          "output_type": "display_data",
          "data": {
            "image/png": "[encoded data removed]",
            "text/plain": [
              "<Figure size 432x288 with 2 Axes>"
            ]
          },
          "metadata": {
            "tags": [],
            "needs_background": "light"
          }
        }
      ]
    },
    {
      "cell_type": "code",
      "metadata": {
        "colab": {
          "base_uri": "https://localhost:8080/"
        },
        "id": "_ObAMDPvwZP4",
        "outputId": "bbc1d2e4-1c4c-4a9f-d751-45cd648e4429"
      },
      "source": [
        "import numpy as np\n",
        "x = np.arange(10)\n",
        "np.any(x < 5), np.any(x < 0)"
      ],
      "execution_count": 29,
      "outputs": [
        {
          "output_type": "execute_result",
          "data": {
            "text/plain": [
              "(True, False)"
            ]
          },
          "metadata": {
            "tags": []
          },
          "execution_count": 29
        }
      ]
    },
    {
      "cell_type": "code",
      "metadata": {
        "colab": {
          "base_uri": "https://localhost:8080/"
        },
        "id": "wzmYVmXYwe_g",
        "outputId": "eade5785-d206-4d16-fad5-54554d4a24a0"
      },
      "source": [
        "import numpy as np\n",
        "x = np.arange(10)\n",
        "np.all(x > 5), np.all(x < 10)"
      ],
      "execution_count": 30,
      "outputs": [
        {
          "output_type": "execute_result",
          "data": {
            "text/plain": [
              "(False, True)"
            ]
          },
          "metadata": {
            "tags": []
          },
          "execution_count": 30
        }
      ]
    },
    {
      "cell_type": "code",
      "metadata": {
        "colab": {
          "base_uri": "https://localhost:8080/"
        },
        "id": "5aaYBPwvwkw7",
        "outputId": "1ca9f3fe-e218-495e-bcf3-810d0ea1d7ae"
      },
      "source": [
        "a = np.random.randint(1, 5, 5)\n",
        "b = np.random.randint(1, 5, 5)\n",
        "print(a, b)\n",
        "a==b"
      ],
      "execution_count": 31,
      "outputs": [
        {
          "output_type": "stream",
          "text": [
            "[1 2 4 1 2] [3 1 3 4 1]\n"
          ],
          "name": "stdout"
        },
        {
          "output_type": "execute_result",
          "data": {
            "text/plain": [
              "array([False, False, False, False, False])"
            ]
          },
          "metadata": {
            "tags": []
          },
          "execution_count": 31
        }
      ]
    },
    {
      "cell_type": "code",
      "metadata": {
        "colab": {
          "base_uri": "https://localhost:8080/"
        },
        "id": "QzLsfhuowrrv",
        "outputId": "58a307e5-94e7-4897-9fbe-419280c145c7"
      },
      "source": [
        "x = np.random.randint(10, size = (3, 4))\n",
        "x"
      ],
      "execution_count": 32,
      "outputs": [
        {
          "output_type": "execute_result",
          "data": {
            "text/plain": [
              "array([[6, 3, 1, 8],\n",
              "       [2, 0, 9, 9],\n",
              "       [5, 5, 6, 9]])"
            ]
          },
          "metadata": {
            "tags": []
          },
          "execution_count": 32
        }
      ]
    },
    {
      "cell_type": "code",
      "metadata": {
        "colab": {
          "base_uri": "https://localhost:8080/"
        },
        "id": "ERiYtRYiwvki",
        "outputId": "44a53994-8901-419d-b874-0ee02a1ac1bc"
      },
      "source": [
        "x<5"
      ],
      "execution_count": 33,
      "outputs": [
        {
          "output_type": "execute_result",
          "data": {
            "text/plain": [
              "array([[False,  True,  True, False],\n",
              "       [ True,  True, False, False],\n",
              "       [False, False, False, False]])"
            ]
          },
          "metadata": {
            "tags": []
          },
          "execution_count": 33
        }
      ]
    },
    {
      "cell_type": "code",
      "metadata": {
        "colab": {
          "base_uri": "https://localhost:8080/"
        },
        "id": "zf8yUdNVwxF3",
        "outputId": "160d81cb-508e-4009-9f3d-191db87d7f2e"
      },
      "source": [
        "a = np.arange(10)\n",
        "b = np.array([3, 6, 9])\n",
        "a[b]"
      ],
      "execution_count": 34,
      "outputs": [
        {
          "output_type": "execute_result",
          "data": {
            "text/plain": [
              "array([3, 6, 9])"
            ]
          },
          "metadata": {
            "tags": []
          },
          "execution_count": 34
        }
      ]
    },
    {
      "cell_type": "code",
      "metadata": {
        "colab": {
          "base_uri": "https://localhost:8080/"
        },
        "id": "r5CJYacnw4FO",
        "outputId": "fa5ada77-e971-4e6f-ef6a-a30d183c78bf"
      },
      "source": [
        "x = np.arange(12).reshape((3, 4))\n",
        "x"
      ],
      "execution_count": 35,
      "outputs": [
        {
          "output_type": "execute_result",
          "data": {
            "text/plain": [
              "array([[ 0,  1,  2,  3],\n",
              "       [ 4,  5,  6,  7],\n",
              "       [ 8,  9, 10, 11]])"
            ]
          },
          "metadata": {
            "tags": []
          },
          "execution_count": 35
        }
      ]
    },
    {
      "cell_type": "code",
      "metadata": {
        "colab": {
          "base_uri": "https://localhost:8080/"
        },
        "id": "bsAEtb44w9Yd",
        "outputId": "f5202c78-1ed1-4dd8-8388-ab0a4eea6cae"
      },
      "source": [
        "row = np.array([0, 1, 2])\n",
        "col = np.array([2, 1, 3])\n",
        "x[row, col]"
      ],
      "execution_count": 36,
      "outputs": [
        {
          "output_type": "execute_result",
          "data": {
            "text/plain": [
              "array([ 2,  5, 11])"
            ]
          },
          "metadata": {
            "tags": []
          },
          "execution_count": 36
        }
      ]
    },
    {
      "cell_type": "code",
      "metadata": {
        "colab": {
          "base_uri": "https://localhost:8080/"
        },
        "id": "dNjKNbsExDHM",
        "outputId": "1c8ce088-9d68-4289-9fe2-b09460793108"
      },
      "source": [
        "import numpy as np\n",
        "x = np.array([4, 1, 5, 2, 3])\n",
        "print(x, np.sort(x))"
      ],
      "execution_count": 37,
      "outputs": [
        {
          "output_type": "stream",
          "text": [
            "[4 1 5 2 3] [1 2 3 4 5]\n"
          ],
          "name": "stdout"
        }
      ]
    },
    {
      "cell_type": "code",
      "metadata": {
        "colab": {
          "base_uri": "https://localhost:8080/"
        },
        "id": "VIMcgyOwxI-X",
        "outputId": "4b254118-5b6d-4c66-e212-a39c58cddaa7"
      },
      "source": [
        "x = np.array([4, 1, 5, 2, 3])\n",
        "x.sort()\n",
        "print(x)"
      ],
      "execution_count": 38,
      "outputs": [
        {
          "output_type": "stream",
          "text": [
            "[1 2 3 4 5]\n"
          ],
          "name": "stdout"
        }
      ]
    },
    {
      "cell_type": "code",
      "metadata": {
        "colab": {
          "base_uri": "https://localhost:8080/"
        },
        "id": "3qy4qrJQxNmD",
        "outputId": "620ae0b5-e692-436b-f6ec-8b99b60d1f74"
      },
      "source": [
        "x = np.array([4, 1, 5, 2, 3])\n",
        "i = np.argsort(x)\n",
        "print(i)"
      ],
      "execution_count": 39,
      "outputs": [
        {
          "output_type": "stream",
          "text": [
            "[1 3 4 0 2]\n"
          ],
          "name": "stdout"
        }
      ]
    },
    {
      "cell_type": "code",
      "metadata": {
        "colab": {
          "base_uri": "https://localhost:8080/"
        },
        "id": "t4WzxX_zxRZZ",
        "outputId": "8521e768-622a-423d-cb58-2b94a6e85bdf"
      },
      "source": [
        "x = np.array([4, 1, 5, 2, 3])\n",
        "x_reverse = np.sort(x)[::-1]\n",
        "print(x_reverse)"
      ],
      "execution_count": 40,
      "outputs": [
        {
          "output_type": "stream",
          "text": [
            "[5 4 3 2 1]\n"
          ],
          "name": "stdout"
        }
      ]
    },
    {
      "cell_type": "code",
      "metadata": {
        "colab": {
          "base_uri": "https://localhost:8080/"
        },
        "id": "QgMknsUZxWVu",
        "outputId": "fec5228c-7de4-473d-ea4b-7c3cc3d32a6f"
      },
      "source": [
        "X = np.array([[2, 0, 6],\n",
        "             [7, 3, 4],\n",
        "             [1, 5, 3]])\n",
        "np.sort(X, axis = 0)"
      ],
      "execution_count": 43,
      "outputs": [
        {
          "output_type": "execute_result",
          "data": {
            "text/plain": [
              "array([[1, 0, 3],\n",
              "       [2, 3, 4],\n",
              "       [7, 5, 6]])"
            ]
          },
          "metadata": {
            "tags": []
          },
          "execution_count": 43
        }
      ]
    },
    {
      "cell_type": "code",
      "metadata": {
        "colab": {
          "base_uri": "https://localhost:8080/"
        },
        "id": "IYr4VLHvxljl",
        "outputId": "63c01733-03e3-488e-e586-ff5c2cc4b9bc"
      },
      "source": [
        "X = np.array([[2, 0, 6],\n",
        "             [7, 3, 4],\n",
        "             [1, 5, 3]])\n",
        "np.sort(X, axis = 1)"
      ],
      "execution_count": 44,
      "outputs": [
        {
          "output_type": "execute_result",
          "data": {
            "text/plain": [
              "array([[0, 2, 6],\n",
              "       [3, 4, 7],\n",
              "       [1, 3, 5]])"
            ]
          },
          "metadata": {
            "tags": []
          },
          "execution_count": 44
        }
      ]
    }
  ]
}