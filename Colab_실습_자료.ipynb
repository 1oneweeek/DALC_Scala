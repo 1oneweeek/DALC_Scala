{
  "nbformat": 4,
  "nbformat_minor": 0,
  "metadata": {
    "colab": {
      "name": "Colab_실습_자료.ipynb",
      "provenance": [],
      "collapsed_sections": [],
      "toc_visible": true
    },
    "kernelspec": {
      "name": "python3",
      "display_name": "Python 3"
    }
  },
  "cells": [
    {
      "cell_type": "markdown",
      "metadata": {
        "id": "EWndrTzeEvmT"
      },
      "source": [
        "# Colab 실습 하기\r\n"
      ]
    },
    {
      "cell_type": "markdown",
      "metadata": {
        "id": "f93DYiLJE1Iz"
      },
      "source": [
        "## 1. 마크다운으로 내 깃허브 링크 삽입하기\r\n",
        "\r\n",
        "#https://github.com/1oneweeek\r\n"
      ]
    },
    {
      "cell_type": "markdown",
      "metadata": {
        "id": "wEZnlUbIFVa-"
      },
      "source": [
        "## 2. 마크다운으로 이미지 삽입하기\r\n",
        "\r\n",
        "- 이미지는 인터넷에 있는 이미지 아무거나 또는 내 pc에 저장되어 있는 아무이미지를 삽입해주시면 됩니다. \r\n",
        "\r\n",
        "![](https://www.dongduk.ac.kr/resources/kor/img/ui_img01.png)"
      ]
    },
    {
      "cell_type": "markdown",
      "metadata": {
        "id": "rtnleslqFhT8"
      },
      "source": [
        "## 3. 마크다운으로 수업 배운 것 정리해보기\r\n",
        "- 전공수업, 교양 수업, 오늘 ot내용, 요즘 준비하는 자격증 내용 등등 기타 자기가 최근 배운 것 아무거나 최소 3줄이상 작성해주세요. (이때 단어강조하기, 문장 띄어쓰기, 인용구등 사용하기)\r\n",
        "\r\n",
        "**깃허브와 마크다운** 사용을 처음 해봐서 막막했는데,</br> **짝꿍님의 도움**을 받아 무사히 *해낼 수 있었습니다.*\r\n",
        "> 앞으로도 같이 열심히 공부하면 좋겠습니다!\r\n",
        ">> 그리고 colab 사용법 정리를 참고하였더니 수월했습니다. 감사합니다.\r\n",
        "\r\n"
      ]
    }
  ]
}