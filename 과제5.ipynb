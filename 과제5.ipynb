{
  "nbformat": 4,
  "nbformat_minor": 0,
  "metadata": {
    "colab": {
      "name": "과제5.ipynb",
      "provenance": [],
      "authorship_tag": "ABX9TyPkoqAZGrpXhzRAtZnGvS4K",
      "include_colab_link": true
    },
    "kernelspec": {
      "name": "python3",
      "display_name": "Python 3"
    },
    "language_info": {
      "name": "python"
    }
  },
  "cells": [
    {
      "cell_type": "markdown",
      "metadata": {
        "id": "view-in-github",
        "colab_type": "text"
      },
      "source": [
        "<a href=\"https://colab.research.google.com/github/1oneweeek/DALC_Scala/blob/main/%EA%B3%BC%EC%A0%9C5.ipynb\" target=\"_parent\"><img src=\"https://colab.research.google.com/assets/colab-badge.svg\" alt=\"Open In Colab\"/></a>"
      ]
    },
    {
      "cell_type": "code",
      "metadata": {
        "id": "_-lbop9fKU9h"
      },
      "source": [
        "def reverseList(self, head):\n",
        "    \"\"\"\n",
        "    :type head: ListNode\n",
        "    :rtype: ListNode\n",
        "    \"\"\"\n",
        "    prev = None\n",
        "    while head:\n",
        "\n",
        "        temp = head\n",
        "        head = head. next\n",
        "        temp . next = prev\n",
        "        prev = temp\n",
        "    return prev"
      ],
      "execution_count": 1,
      "outputs": []
    },
    {
      "cell_type": "code",
      "metadata": {
        "id": "JqN0FOKyKXkF"
      },
      "source": [
        "def isValid(self, s):\n",
        "    table = {\n",
        "        ')':'(',\n",
        "        ']':'[',\n",
        "        '}':'{',\n",
        "    }\n",
        "    stack = []\n",
        "    \n",
        "    for char in s:\n",
        "        if char not in table:\n",
        "            stack.append(char)\n",
        "        elif not stack or table[char] != stack.pop():\n",
        "            return False\n",
        "    return len(stack)"
      ],
      "execution_count": 2,
      "outputs": []
    },
    {
      "cell_type": "code",
      "metadata": {
        "id": "babYIU6QKXuh"
      },
      "source": [
        "def removeDuplicateLetters(self, s):\n",
        "    stack,seen,counts = [], set(), collections.Counter(s)\n",
        "\n",
        "    for char in s:\n",
        "        counts[char] -= 1\n",
        "        while stack and char < stack[-1] and counts[stack[-1]] > 0:\n",
        "            seen.remove(stack.pop())\n",
        "        seen.add(char)\n",
        "        stack.append(char)\n",
        "    return ''.join(stack)"
      ],
      "execution_count": null,
      "outputs": []
    }
  ]
}