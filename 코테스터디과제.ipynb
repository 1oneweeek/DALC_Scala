{
  "nbformat": 4,
  "nbformat_minor": 0,
  "metadata": {
    "colab": {
      "name": "코테스터디과제.ipynb",
      "provenance": [],
      "authorship_tag": "ABX9TyP6S590I7DfUHkXGCLy5dhY",
      "include_colab_link": true
    },
    "kernelspec": {
      "name": "python3",
      "display_name": "Python 3"
    },
    "language_info": {
      "name": "python"
    }
  },
  "cells": [
    {
      "cell_type": "markdown",
      "metadata": {
        "id": "view-in-github",
        "colab_type": "text"
      },
      "source": [
        "<a href=\"https://colab.research.google.com/github/1oneweeek/DALC_Scala/blob/main/%EC%BD%94%ED%85%8C%EC%8A%A4%ED%84%B0%EB%94%94%EA%B3%BC%EC%A0%9C.ipynb\" target=\"_parent\"><img src=\"https://colab.research.google.com/assets/colab-badge.svg\" alt=\"Open In Colab\"/></a>"
      ]
    },
    {
      "cell_type": "code",
      "metadata": {
        "id": "kPIdcIq6HXgd"
      },
      "source": [
        "class MyHashMap:\n",
        "    # 초기화\n",
        "    def __init__(self):\n",
        "        self.size = 1000\n",
        "        self.table = collections.defaultdict(ListNode)\n",
        "\n",
        "    # 삽입\n",
        "    def put(self, key, value):\n",
        "        index = key % self.size\n",
        "        # 인덱스에 노드가 없다면 삽입 후 종료\n",
        "        if self.table[index].value is None:\n",
        "            self.table[index] = ListNode(key, value)\n",
        "            return\n",
        "\n",
        "        # 인덱스에 노드가 존재하는 경우 연결 리스트 처리\n",
        "        p = self.table[index]\n",
        "        while p:\n",
        "            if p.key == key:\n",
        "                p.value = value\n",
        "                return\n",
        "            if p.next is None:\n",
        "                break\n",
        "            p = p.next\n",
        "        p.next = ListNode(key, value)\n",
        "\n",
        "    # 조회\n",
        "    def get(self, key):\n",
        "        index = key % self.size\n",
        "        if self.table[index].value is None:\n",
        "            return -1\n",
        "\n",
        "        # 노드가 존재할 때 일치하는 키 탐색\n",
        "        p = self.table[index]\n",
        "        while p:\n",
        "            if p.key == key:\n",
        "                return p.value\n",
        "            p = p.next\n",
        "        return -1\n",
        "\n",
        "    # 삭제\n",
        "    def remove(self, key):\n",
        "        index = key % self.size\n",
        "        if self.table[index].value is None:\n",
        "            return\n",
        "\n",
        "        # 인덱스의 첫 번째 노드일 때 삭제 처리\n",
        "        p = self.table[index]\n",
        "        if p.key == key:\n",
        "            self.table[index] = ListNode() if p.next is None else p.next\n",
        "            return\n",
        "\n",
        "        # 연결 리스트 노드 삭제\n",
        "        prev = p\n",
        "        while p:\n",
        "            if p.key == key:\n",
        "                prev.next = p.next\n",
        "                return\n",
        "            prev, p = p, p.next"
      ],
      "execution_count": 1,
      "outputs": []
    },
    {
      "cell_type": "code",
      "metadata": {
        "id": "hERLSMbsIZ66"
      },
      "source": [
        "def numJewelsInStones(self, J, S):\n",
        "    freqs = collections.Counter(S)\n",
        "    count = 0\n",
        "    for char in J:\n",
        "        count += freqs[char]\n",
        "    return count"
      ],
      "execution_count": 2,
      "outputs": []
    },
    {
      "cell_type": "code",
      "metadata": {
        "id": "JoFe3EkuJAUd"
      },
      "source": [
        "def lengthOfLongestSubstring(self, s):\n",
        "    used = {}\n",
        "    start = max_len = 0\n",
        "    for index, char in enumerate(s):\n",
        "        if char in used and start <= used[char]:\n",
        "            start = used[char] + 1\n",
        "        else:\n",
        "            max_len = max(max_len, index - start + 1)\n",
        "\n",
        "        used[char] = index\n",
        "\n",
        "    return max_len"
      ],
      "execution_count": 3,
      "outputs": []
    }
  ]
}