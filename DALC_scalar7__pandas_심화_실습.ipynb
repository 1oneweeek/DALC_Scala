{
  "nbformat": 4,
  "nbformat_minor": 0,
  "metadata": {
    "colab": {
      "name": "DALC_scalar7__pandas_심화_실습.ipynb",
      "provenance": [],
      "collapsed_sections": [
        "LEpgg6MllqlP",
        "4ktdw0WEO16Y"
      ],
      "include_colab_link": true
    },
    "kernelspec": {
      "name": "python3",
      "display_name": "Python 3"
    },
    "language_info": {
      "name": "python"
    }
  },
  "cells": [
    {
      "cell_type": "markdown",
      "metadata": {
        "id": "view-in-github",
        "colab_type": "text"
      },
      "source": [
        "<a href=\"https://colab.research.google.com/github/1oneweeek/DALC_Scala/blob/main/DALC_scalar7__pandas_%EC%8B%AC%ED%99%94_%EC%8B%A4%EC%8A%B5.ipynb\" target=\"_parent\"><img src=\"https://colab.research.google.com/assets/colab-badge.svg\" alt=\"Open In Colab\"/></a>"
      ]
    },
    {
      "cell_type": "markdown",
      "metadata": {
        "id": "hUQY0a9AmQB1"
      },
      "source": [
        "# 주관식\n",
        "셀을 더블클릭해서  : 다음에 답을 입력하세요."
      ]
    },
    {
      "cell_type": "markdown",
      "metadata": {
        "id": "s0tu8WgkHe9n"
      },
      "source": [
        "* matplotlib 인터페이스에는 어떤 종류가 있나?\n",
        "matlab 스타일, 객체 지향 스타일\n"
      ]
    },
    {
      "cell_type": "markdown",
      "metadata": {
        "id": "6nQsARbhNrvK"
      },
      "source": [
        "* matlab스타일의 장점은 무엇인가\n",
        "단순하고 편리함, Matlab 사용자 친화적"
      ]
    },
    {
      "cell_type": "markdown",
      "metadata": {
        "id": "O7Cz3tPHMFq8"
      },
      "source": [
        "* 객체지향스타일의 장점은 무엇인가\n"
      ]
    },
    {
      "cell_type": "markdown",
      "metadata": {
        "id": "NXgtNDhpxWnh"
      },
      "source": [
        "복잡하고 상세한 설정 가능, 파이썬 프로그램 친화적"
      ]
    },
    {
      "cell_type": "markdown",
      "metadata": {
        "id": "5KnVjMiLWfEO"
      },
      "source": [
        "* 객체지향스타일은 어떨때 사용하는가\n",
        "그림이 좀 더 복잡할 때, 많은 설정이 필요할 때"
      ]
    },
    {
      "cell_type": "markdown",
      "metadata": {
        "id": "LEpgg6MllqlP"
      },
      "source": [
        "# 빅데이터 시각화\n",
        "* matplotlib사용\n",
        "* 선그림과 점그림 \n",
        "* 다중 서브플롯\n",
        "\n",
        "해당 질문 밑에 있는 코드셀에 코드를 입력하세요"
      ]
    },
    {
      "cell_type": "markdown",
      "metadata": {
        "id": "ZPLYsr50N48B"
      },
      "source": [
        "# matplotlib 인터페이스"
      ]
    },
    {
      "cell_type": "markdown",
      "metadata": {
        "id": "pSeljp9aWIsn"
      },
      "source": [
        "### matlab스타일 인터페이스"
      ]
    },
    {
      "cell_type": "markdown",
      "metadata": {
        "id": "H0vQPFbZD9nu"
      },
      "source": [
        "* matplotlib라이브러리 사용"
      ]
    },
    {
      "cell_type": "code",
      "metadata": {
        "id": "E8u2sLMVNsbW"
      },
      "source": [
        "import matplotlib as mpl"
      ],
      "execution_count": 3,
      "outputs": []
    },
    {
      "cell_type": "code",
      "metadata": {
        "id": "8NHb_3yTGXk8"
      },
      "source": [
        "import matplotlib.pyplot as plt"
      ],
      "execution_count": 7,
      "outputs": []
    },
    {
      "cell_type": "code",
      "metadata": {
        "id": "QddBPTEC0HO8"
      },
      "source": [
        "import numpy as np"
      ],
      "execution_count": 14,
      "outputs": []
    },
    {
      "cell_type": "markdown",
      "metadata": {
        "id": "p_5uwi8CHNKW"
      },
      "source": [
        "* 그래프스타일 클래식으로 설정"
      ]
    },
    {
      "cell_type": "code",
      "metadata": {
        "id": "LzpiUzQxz_D6"
      },
      "source": [
        "plt.style.use('classic')"
      ],
      "execution_count": 13,
      "outputs": []
    },
    {
      "cell_type": "code",
      "metadata": {
        "id": "7gRJmswLmrzq",
        "colab": {
          "base_uri": "https://localhost:8080/",
          "height": 35
        },
        "outputId": "d869f655-9e58-4353-a796-3a5adbfabb43"
      },
      "source": [
        "from google.colab import files\n",
        "plt.savefig('my_figure.jpg')"
      ],
      "execution_count": 10,
      "outputs": [
        {
          "output_type": "display_data",
          "data": {
            "text/plain": [
              "<Figure size 432x288 with 0 Axes>"
            ]
          },
          "metadata": {
            "tags": []
          }
        }
      ]
    },
    {
      "cell_type": "code",
      "metadata": {
        "id": "vHp-kJ5vmr-u",
        "colab": {
          "base_uri": "https://localhost:8080/",
          "height": 17
        },
        "outputId": "628691df-fbbd-4937-9ed5-66539923bba2"
      },
      "source": [
        "files.download('my_figure.jpg')"
      ],
      "execution_count": 11,
      "outputs": [
        {
          "output_type": "display_data",
          "data": {
            "application/javascript": [
              "\n",
              "    async function download(id, filename, size) {\n",
              "      if (!google.colab.kernel.accessAllowed) {\n",
              "        return;\n",
              "      }\n",
              "      const div = document.createElement('div');\n",
              "      const label = document.createElement('label');\n",
              "      label.textContent = `Downloading \"${filename}\": `;\n",
              "      div.appendChild(label);\n",
              "      const progress = document.createElement('progress');\n",
              "      progress.max = size;\n",
              "      div.appendChild(progress);\n",
              "      document.body.appendChild(div);\n",
              "\n",
              "      const buffers = [];\n",
              "      let downloaded = 0;\n",
              "\n",
              "      const channel = await google.colab.kernel.comms.open(id);\n",
              "      // Send a message to notify the kernel that we're ready.\n",
              "      channel.send({})\n",
              "\n",
              "      for await (const message of channel.messages) {\n",
              "        // Send a message to notify the kernel that we're ready.\n",
              "        channel.send({})\n",
              "        if (message.buffers) {\n",
              "          for (const buffer of message.buffers) {\n",
              "            buffers.push(buffer);\n",
              "            downloaded += buffer.byteLength;\n",
              "            progress.value = downloaded;\n",
              "          }\n",
              "        }\n",
              "      }\n",
              "      const blob = new Blob(buffers, {type: 'application/binary'});\n",
              "      const a = document.createElement('a');\n",
              "      a.href = window.URL.createObjectURL(blob);\n",
              "      a.download = filename;\n",
              "      div.appendChild(a);\n",
              "      a.click();\n",
              "      div.remove();\n",
              "    }\n",
              "  "
            ],
            "text/plain": [
              "<IPython.core.display.Javascript object>"
            ]
          },
          "metadata": {
            "tags": []
          }
        },
        {
          "output_type": "display_data",
          "data": {
            "application/javascript": [
              "download(\"download_0e228029-52de-49a8-92ee-006ce9cc44ef\", \"my_figure.jpg\", 2571)"
            ],
            "text/plain": [
              "<IPython.core.display.Javascript object>"
            ]
          },
          "metadata": {
            "tags": []
          }
        }
      ]
    },
    {
      "cell_type": "markdown",
      "metadata": {
        "id": "mt_eg4AlI-2s"
      },
      "source": [
        "* 두 개의 패널 중 첫 번째 패널을 생성하고 현재 축을 설정"
      ]
    },
    {
      "cell_type": "code",
      "metadata": {
        "id": "3wcQvP_EI3Yc",
        "colab": {
          "base_uri": "https://localhost:8080/",
          "height": 35
        },
        "outputId": "522d5ea5-f573-4e0e-db4d-8418b4638af6"
      },
      "source": [
        "plt.figure()\n",
        "x = np.linspace(-10, 10, 100)"
      ],
      "execution_count": 15,
      "outputs": [
        {
          "output_type": "display_data",
          "data": {
            "text/plain": [
              "<Figure size 640x480 with 0 Axes>"
            ]
          },
          "metadata": {
            "tags": []
          }
        }
      ]
    },
    {
      "cell_type": "markdown",
      "metadata": {
        "id": "_qM7c0PCJsVB"
      },
      "source": [
        "* 2행 1열 구조 그리드의 첫번째 패널에 사인 그래프 작성"
      ]
    },
    {
      "cell_type": "code",
      "metadata": {
        "id": "Y6IqwzzbpA7K",
        "colab": {
          "base_uri": "https://localhost:8080/",
          "height": 249
        },
        "outputId": "f33d8339-dd55-4352-89b5-661d06b08af4"
      },
      "source": [
        "plt.subplot(2, 1, 1)\n",
        "plt.plot(x, np.sin(x))"
      ],
      "execution_count": 16,
      "outputs": [
        {
          "output_type": "execute_result",
          "data": {
            "text/plain": [
              "[<matplotlib.lines.Line2D at 0x7fe180b0e690>]"
            ]
          },
          "metadata": {
            "tags": []
          },
          "execution_count": 16
        },
        {
          "output_type": "display_data",
          "data": {
            "image/png": "[encoded data removed]",
            "text/plain": [
              "<Figure size 640x480 with 1 Axes>"
            ]
          },
          "metadata": {
            "tags": []
          }
        }
      ]
    },
    {
      "cell_type": "markdown",
      "metadata": {
        "id": "x3-9VHZbSsu5"
      },
      "source": [
        "* 2행 1열 구조 그리드의 두번째 패널에 코사인 그래프 작성"
      ]
    },
    {
      "cell_type": "code",
      "metadata": {
        "id": "ZLB4WiwfSsvC",
        "colab": {
          "base_uri": "https://localhost:8080/",
          "height": 249
        },
        "outputId": "f25859ba-2a2b-4fc7-b544-0e40cf1b7189"
      },
      "source": [
        "plt.subplot(2, 1, 2)\n",
        "plt.plot(x, np.cos(x))"
      ],
      "execution_count": 17,
      "outputs": [
        {
          "output_type": "execute_result",
          "data": {
            "text/plain": [
              "[<matplotlib.lines.Line2D at 0x7fe1809f6e50>]"
            ]
          },
          "metadata": {
            "tags": []
          },
          "execution_count": 17
        },
        {
          "output_type": "display_data",
          "data": {
            "image/png": "[encoded data removed]",
            "text/plain": [
              "<Figure size 640x480 with 1 Axes>"
            ]
          },
          "metadata": {
            "tags": []
          }
        }
      ]
    },
    {
      "cell_type": "markdown",
      "metadata": {
        "id": "zXi9JehJLzzC"
      },
      "source": [
        "* 2행 1열의 축 객체의 배열을 형성하라"
      ]
    },
    {
      "cell_type": "code",
      "metadata": {
        "id": "SDiypRdGpA1r",
        "colab": {
          "base_uri": "https://localhost:8080/",
          "height": 440
        },
        "outputId": "87c92dd4-596f-4b95-d91a-5627daa3d316"
      },
      "source": [
        "fig, ax = plt.subplots(2,1)"
      ],
      "execution_count": 18,
      "outputs": [
        {
          "output_type": "display_data",
          "data": {
            "image/png": "[encoded data removed]",
            "text/plain": [
              "<Figure size 640x480 with 2 Axes>"
            ]
          },
          "metadata": {
            "tags": []
          }
        }
      ]
    },
    {
      "cell_type": "markdown",
      "metadata": {
        "id": "veju4mmRMgmx"
      },
      "source": [
        "* 위의 형성한 객체에 1행에는 넘파이패키지의 sin()함수를 그려라"
      ]
    },
    {
      "cell_type": "code",
      "metadata": {
        "id": "zoC3coUxpApz",
        "colab": {
          "base_uri": "https://localhost:8080/"
        },
        "outputId": "59df6ed8-683a-4036-f55e-228c73cce595"
      },
      "source": [
        "ax[0].plot(x, np.sin(x))"
      ],
      "execution_count": 20,
      "outputs": [
        {
          "output_type": "execute_result",
          "data": {
            "text/plain": [
              "[<matplotlib.lines.Line2D at 0x7fe17c488290>]"
            ]
          },
          "metadata": {
            "tags": []
          },
          "execution_count": 20
        }
      ]
    },
    {
      "cell_type": "markdown",
      "metadata": {
        "id": "KW7fLJ8eMjKZ"
      },
      "source": [
        "* 위의 형성한 객체에 1행에는 넘파이패키지의 sin()함수를 그려라"
      ]
    },
    {
      "cell_type": "code",
      "metadata": {
        "id": "x06fkqr0VtJT",
        "colab": {
          "base_uri": "https://localhost:8080/"
        },
        "outputId": "a60c083f-ff6a-4380-b087-c1e1cead7ca3"
      },
      "source": [
        "ax[1].plot(x, np.sin(x))"
      ],
      "execution_count": 21,
      "outputs": [
        {
          "output_type": "execute_result",
          "data": {
            "text/plain": [
              "[<matplotlib.lines.Line2D at 0x7fe17c4d72d0>]"
            ]
          },
          "metadata": {
            "tags": []
          },
          "execution_count": 21
        }
      ]
    },
    {
      "cell_type": "markdown",
      "metadata": {
        "id": "5cXl2t8QXOM9"
      },
      "source": [
        "### 기본선그림"
      ]
    },
    {
      "cell_type": "markdown",
      "metadata": {
        "id": "U56XiDtTMpCq"
      },
      "source": [
        "### 선그림(lineplot)\n",
        "* 위와 같은 것이 %로 시작하는 것을 jupyter notebook의 magic command라고 한다.\n",
        "* %who는 변수명의 리스트를 보여주고 %magic 은 모든 매직명령어를 보여준다.\n",
        "* 전체적인 magic 명령어에 대해서는 다음 블로그를 참고\n",
        "* http://studymake.tistory.com/601\n",
        "* matplotlib 을 jupyter notebook에서 사용할 때, plot의 이미지를 보여주기 위해 magic command를 사용하는데,\n",
        "* 이때 우리가 사용하는 inline 이외에도 다음과 같은 요소를 사용할 수 있다.\n",
        "* Available matplotlib backends: ['osx', 'qt4', 'qt5', 'gtk3', 'notebook', 'wx', 'qt', 'nbagg','gtk', 'tk', 'inline']\n"
      ]
    },
    {
      "cell_type": "code",
      "metadata": {
        "id": "julPwkbal-5w"
      },
      "source": [
        "%matplotlib inline\n",
        "import matplotlib.pyplot as plt\n",
        "plt.style.use('seaborn-whitegrid')\n",
        "import pandas as pd\n",
        "import numpy as np"
      ],
      "execution_count": 22,
      "outputs": []
    },
    {
      "cell_type": "markdown",
      "metadata": {
        "id": "g5Hetg75aMch"
      },
      "source": [
        "*  Series를 통한 line plot 그리기"
      ]
    },
    {
      "cell_type": "code",
      "metadata": {
        "colab": {
          "base_uri": "https://localhost:8080/"
        },
        "id": "SrVUy7LTZ9wZ",
        "outputId": "412b4e6a-5cb2-4c07-b403-422f7e6b7067"
      },
      "source": [
        "s = pd.Series(np.random.randn(10).cumsum(), index=np.arange(0, 100, 10))\n",
        "s"
      ],
      "execution_count": 23,
      "outputs": [
        {
          "output_type": "execute_result",
          "data": {
            "text/plain": [
              "0    -0.432134\n",
              "10    0.806720\n",
              "20    0.173513\n",
              "30   -0.189671\n",
              "40    1.596347\n",
              "50    2.708419\n",
              "60    3.696577\n",
              "70    1.519337\n",
              "80   -0.097197\n",
              "90    0.651430\n",
              "dtype: float64"
            ]
          },
          "metadata": {
            "tags": []
          },
          "execution_count": 23
        }
      ]
    },
    {
      "cell_type": "markdown",
      "metadata": {
        "id": "alJg_1dZanBU"
      },
      "source": [
        "* 시리즈 s의 선그래프를 그려라"
      ]
    },
    {
      "cell_type": "code",
      "metadata": {
        "id": "37a_XyCFamNX",
        "colab": {
          "base_uri": "https://localhost:8080/",
          "height": 309
        },
        "outputId": "de286934-9e70-4c53-b374-6e9d27f76b10"
      },
      "source": [
        "fig = plt.figure()\n",
        "fig.suptitle(\"Example 1:Line Plot\")\n",
        "ax = plt.axes()\n",
        "plt.plot(s)"
      ],
      "execution_count": 26,
      "outputs": [
        {
          "output_type": "execute_result",
          "data": {
            "text/plain": [
              "[<matplotlib.lines.Line2D at 0x7fe17c469650>]"
            ]
          },
          "metadata": {
            "tags": []
          },
          "execution_count": 26
        },
        {
          "output_type": "display_data",
          "data": {
            "image/png": "[encoded data removed]",
            "text/plain": [
              "<Figure size 432x288 with 1 Axes>"
            ]
          },
          "metadata": {
            "tags": []
          }
        }
      ]
    },
    {
      "cell_type": "markdown",
      "metadata": {
        "id": "qXpe7lBWaY6U"
      },
      "source": [
        "*  DataFrame를 통한 line plot 그리기"
      ]
    },
    {
      "cell_type": "code",
      "metadata": {
        "colab": {
          "base_uri": "https://localhost:8080/",
          "height": 359
        },
        "id": "WRn4_EQNab0M",
        "outputId": "ce9dc6e7-e91a-4b12-e245-7f644bb6972f"
      },
      "source": [
        "df = pd.DataFrame(np.random.randn(10, 4).cumsum(axis=0),\n",
        "                  columns=[\"A\", \"B\", \"C\", \"D\"],\n",
        "                  index=np.arange(0, 100, 10))\n",
        "df"
      ],
      "execution_count": 25,
      "outputs": [
        {
          "output_type": "execute_result",
          "data": {
            "text/html": [
              "<div>\n",
              "<style scoped>\n",
              "    .dataframe tbody tr th:only-of-type {\n",
              "        vertical-align: middle;\n",
              "    }\n",
              "\n",
              "    .dataframe tbody tr th {\n",
              "        vertical-align: top;\n",
              "    }\n",
              "\n",
              "    .dataframe thead th {\n",
              "        text-align: right;\n",
              "    }\n",
              "</style>\n",
              "<table border=\"1\" class=\"dataframe\">\n",
              "  <thead>\n",
              "    <tr style=\"text-align: right;\">\n",
              "      <th></th>\n",
              "      <th>A</th>\n",
              "      <th>B</th>\n",
              "      <th>C</th>\n",
              "      <th>D</th>\n",
              "    </tr>\n",
              "  </thead>\n",
              "  <tbody>\n",
              "    <tr>\n",
              "      <th>0</th>\n",
              "      <td>-0.469927</td>\n",
              "      <td>0.726644</td>\n",
              "      <td>-0.979525</td>\n",
              "      <td>1.004983</td>\n",
              "    </tr>\n",
              "    <tr>\n",
              "      <th>10</th>\n",
              "      <td>0.121472</td>\n",
              "      <td>0.836910</td>\n",
              "      <td>-2.459426</td>\n",
              "      <td>-1.253984</td>\n",
              "    </tr>\n",
              "    <tr>\n",
              "      <th>20</th>\n",
              "      <td>-0.593001</td>\n",
              "      <td>1.437293</td>\n",
              "      <td>-2.722111</td>\n",
              "      <td>-1.818149</td>\n",
              "    </tr>\n",
              "    <tr>\n",
              "      <th>30</th>\n",
              "      <td>-1.094827</td>\n",
              "      <td>1.163561</td>\n",
              "      <td>-1.165421</td>\n",
              "      <td>-1.816004</td>\n",
              "    </tr>\n",
              "    <tr>\n",
              "      <th>40</th>\n",
              "      <td>-2.152499</td>\n",
              "      <td>1.641974</td>\n",
              "      <td>-0.035283</td>\n",
              "      <td>-2.536574</td>\n",
              "    </tr>\n",
              "    <tr>\n",
              "      <th>50</th>\n",
              "      <td>-0.720297</td>\n",
              "      <td>0.686562</td>\n",
              "      <td>0.770332</td>\n",
              "      <td>-2.268337</td>\n",
              "    </tr>\n",
              "    <tr>\n",
              "      <th>60</th>\n",
              "      <td>0.496178</td>\n",
              "      <td>0.251792</td>\n",
              "      <td>-2.076406</td>\n",
              "      <td>-4.119987</td>\n",
              "    </tr>\n",
              "    <tr>\n",
              "      <th>70</th>\n",
              "      <td>0.033478</td>\n",
              "      <td>0.271516</td>\n",
              "      <td>-2.564988</td>\n",
              "      <td>-3.809636</td>\n",
              "    </tr>\n",
              "    <tr>\n",
              "      <th>80</th>\n",
              "      <td>-0.623624</td>\n",
              "      <td>0.577533</td>\n",
              "      <td>-2.460562</td>\n",
              "      <td>-4.427450</td>\n",
              "    </tr>\n",
              "    <tr>\n",
              "      <th>90</th>\n",
              "      <td>0.664155</td>\n",
              "      <td>-0.642573</td>\n",
              "      <td>-3.342272</td>\n",
              "      <td>-3.601652</td>\n",
              "    </tr>\n",
              "  </tbody>\n",
              "</table>\n",
              "</div>"
            ],
            "text/plain": [
              "           A         B         C         D\n",
              "0  -0.469927  0.726644 -0.979525  1.004983\n",
              "10  0.121472  0.836910 -2.459426 -1.253984\n",
              "20 -0.593001  1.437293 -2.722111 -1.818149\n",
              "30 -1.094827  1.163561 -1.165421 -1.816004\n",
              "40 -2.152499  1.641974 -0.035283 -2.536574\n",
              "50 -0.720297  0.686562  0.770332 -2.268337\n",
              "60  0.496178  0.251792 -2.076406 -4.119987\n",
              "70  0.033478  0.271516 -2.564988 -3.809636\n",
              "80 -0.623624  0.577533 -2.460562 -4.427450\n",
              "90  0.664155 -0.642573 -3.342272 -3.601652"
            ]
          },
          "metadata": {
            "tags": []
          },
          "execution_count": 25
        }
      ]
    },
    {
      "cell_type": "markdown",
      "metadata": {
        "id": "DY8egKYQavl3"
      },
      "source": [
        "* 데이터프레임 df의 선그래프를 그려라"
      ]
    },
    {
      "cell_type": "code",
      "metadata": {
        "id": "MiXr_ycxamDZ",
        "colab": {
          "base_uri": "https://localhost:8080/",
          "height": 345
        },
        "outputId": "276f042b-f074-4caa-a185-c61a59ad04fd"
      },
      "source": [
        "plt.plot(df)"
      ],
      "execution_count": 27,
      "outputs": [
        {
          "output_type": "execute_result",
          "data": {
            "text/plain": [
              "[<matplotlib.lines.Line2D at 0x7fe17c35dc50>,\n",
              " <matplotlib.lines.Line2D at 0x7fe17c355e90>,\n",
              " <matplotlib.lines.Line2D at 0x7fe17c355990>,\n",
              " <matplotlib.lines.Line2D at 0x7fe17c355bd0>]"
            ]
          },
          "metadata": {
            "tags": []
          },
          "execution_count": 27
        },
        {
          "output_type": "display_data",
          "data": {
            "image/png": "[encoded data removed]",
            "text/plain": [
              "<Figure size 432x288 with 1 Axes>"
            ]
          },
          "metadata": {
            "tags": []
          }
        }
      ]
    },
    {
      "cell_type": "markdown",
      "metadata": {
        "id": "_hFLRAXVa2Xp"
      },
      "source": [
        "* 데이터프레임 df의 B열에 대해서만 선그래프를 그려라"
      ]
    },
    {
      "cell_type": "code",
      "metadata": {
        "id": "IYNO2wWaakKH"
      },
      "source": [
        ""
      ],
      "execution_count": null,
      "outputs": []
    },
    {
      "cell_type": "code",
      "metadata": {
        "colab": {
          "base_uri": "https://localhost:8080/"
        },
        "id": "aub_wxpJbEG2",
        "outputId": "3f826cda-b6b1-492e-bcfa-a9e75f02f81a"
      },
      "source": [
        "s2 = pd.Series(np.random.rand(16), index=list(\"abcdefghijklmnop\"))\n",
        "s2"
      ],
      "execution_count": 28,
      "outputs": [
        {
          "output_type": "execute_result",
          "data": {
            "text/plain": [
              "a    0.534738\n",
              "b    0.937836\n",
              "c    0.671330\n",
              "d    0.640275\n",
              "e    0.360298\n",
              "f    0.080963\n",
              "g    0.063953\n",
              "h    0.284488\n",
              "i    0.862290\n",
              "j    0.473364\n",
              "k    0.090614\n",
              "l    0.458131\n",
              "m    0.477207\n",
              "n    0.301706\n",
              "o    0.988933\n",
              "p    0.071139\n",
              "dtype: float64"
            ]
          },
          "metadata": {
            "tags": []
          },
          "execution_count": 28
        }
      ]
    },
    {
      "cell_type": "markdown",
      "metadata": {
        "id": "xharyGBsOEqC"
      },
      "source": [
        "## 막대그래프그리기"
      ]
    },
    {
      "cell_type": "markdown",
      "metadata": {
        "id": "_t3jDNz2a9l-"
      },
      "source": [
        "* s2열에 대해서 막대그래프를 그려라"
      ]
    },
    {
      "cell_type": "code",
      "metadata": {
        "id": "Qm1HkVEIa9l_"
      },
      "source": [
        ""
      ],
      "execution_count": null,
      "outputs": []
    },
    {
      "cell_type": "markdown",
      "metadata": {
        "id": "hW7KURw4bRkl"
      },
      "source": [
        "s2열에 대해서 가로방향의 막대그래프를 그려라"
      ]
    },
    {
      "cell_type": "code",
      "metadata": {
        "id": "LzKYe1TsbRkn"
      },
      "source": [
        ""
      ],
      "execution_count": null,
      "outputs": []
    },
    {
      "cell_type": "code",
      "metadata": {
        "colab": {
          "base_uri": "https://localhost:8080/",
          "height": 223
        },
        "id": "ZojuOg-9blaB",
        "outputId": "71a6aa33-f875-432b-d2ed-a98bf249947e"
      },
      "source": [
        "df2 = pd.DataFrame(np.random.rand(6, 4), \n",
        "                   index=[\"one\", \"two\", \"three\", \"four\", \"five\", \"six\"],\n",
        "                   columns=pd.Index([\"A\", \"B\", \"C\", \"D\"], name=\"Genus\"))\n",
        "df2"
      ],
      "execution_count": null,
      "outputs": [
        {
          "output_type": "execute_result",
          "data": {
            "text/html": [
              "<div>\n",
              "<style scoped>\n",
              "    .dataframe tbody tr th:only-of-type {\n",
              "        vertical-align: middle;\n",
              "    }\n",
              "\n",
              "    .dataframe tbody tr th {\n",
              "        vertical-align: top;\n",
              "    }\n",
              "\n",
              "    .dataframe thead th {\n",
              "        text-align: right;\n",
              "    }\n",
              "</style>\n",
              "<table border=\"1\" class=\"dataframe\">\n",
              "  <thead>\n",
              "    <tr style=\"text-align: right;\">\n",
              "      <th>Genus</th>\n",
              "      <th>A</th>\n",
              "      <th>B</th>\n",
              "      <th>C</th>\n",
              "      <th>D</th>\n",
              "    </tr>\n",
              "  </thead>\n",
              "  <tbody>\n",
              "    <tr>\n",
              "      <th>one</th>\n",
              "      <td>0.083735</td>\n",
              "      <td>0.847909</td>\n",
              "      <td>0.585040</td>\n",
              "      <td>0.390977</td>\n",
              "    </tr>\n",
              "    <tr>\n",
              "      <th>two</th>\n",
              "      <td>0.805151</td>\n",
              "      <td>0.235877</td>\n",
              "      <td>0.598541</td>\n",
              "      <td>0.445850</td>\n",
              "    </tr>\n",
              "    <tr>\n",
              "      <th>three</th>\n",
              "      <td>0.801534</td>\n",
              "      <td>0.230440</td>\n",
              "      <td>0.233273</td>\n",
              "      <td>0.405946</td>\n",
              "    </tr>\n",
              "    <tr>\n",
              "      <th>four</th>\n",
              "      <td>0.598182</td>\n",
              "      <td>0.341477</td>\n",
              "      <td>0.862277</td>\n",
              "      <td>0.502810</td>\n",
              "    </tr>\n",
              "    <tr>\n",
              "      <th>five</th>\n",
              "      <td>0.180827</td>\n",
              "      <td>0.436529</td>\n",
              "      <td>0.748408</td>\n",
              "      <td>0.755155</td>\n",
              "    </tr>\n",
              "    <tr>\n",
              "      <th>six</th>\n",
              "      <td>0.420061</td>\n",
              "      <td>0.189484</td>\n",
              "      <td>0.028853</td>\n",
              "      <td>0.826930</td>\n",
              "    </tr>\n",
              "  </tbody>\n",
              "</table>\n",
              "</div>"
            ],
            "text/plain": [
              "Genus         A         B         C         D\n",
              "one    0.083735  0.847909  0.585040  0.390977\n",
              "two    0.805151  0.235877  0.598541  0.445850\n",
              "three  0.801534  0.230440  0.233273  0.405946\n",
              "four   0.598182  0.341477  0.862277  0.502810\n",
              "five   0.180827  0.436529  0.748408  0.755155\n",
              "six    0.420061  0.189484  0.028853  0.826930"
            ]
          },
          "metadata": {
            "tags": []
          },
          "execution_count": 5
        }
      ]
    },
    {
      "cell_type": "markdown",
      "metadata": {
        "id": "EepLT6U2boT3"
      },
      "source": [
        "* 데이터프레임 df2의 누적막대그래프를 그려라"
      ]
    },
    {
      "cell_type": "code",
      "metadata": {
        "id": "hlWHHtdSbn7-"
      },
      "source": [
        ""
      ],
      "execution_count": null,
      "outputs": []
    },
    {
      "cell_type": "markdown",
      "metadata": {
        "id": "a3cbcWn5b6R8"
      },
      "source": [
        "* 데이터프레임 df2의 가로방향의 누적막대그래프를 그려라"
      ]
    },
    {
      "cell_type": "code",
      "metadata": {
        "id": "Bt37000Yb6SZ"
      },
      "source": [
        ""
      ],
      "execution_count": null,
      "outputs": []
    },
    {
      "cell_type": "markdown",
      "metadata": {
        "id": "uzHCk1PuPF8K"
      },
      "source": [
        "* s3의 히스토그램을 그려라\n",
        "(히스토그램은 인덱스가 필요없다.)"
      ]
    },
    {
      "cell_type": "code",
      "metadata": {
        "id": "ewQeK3lXtTUH"
      },
      "source": [
        ""
      ],
      "execution_count": null,
      "outputs": []
    },
    {
      "cell_type": "code",
      "metadata": {
        "id": "EIUdDehpmrhn"
      },
      "source": [
        ""
      ],
      "execution_count": null,
      "outputs": []
    },
    {
      "cell_type": "markdown",
      "metadata": {
        "id": "FLrkrDZSSHSE"
      },
      "source": [
        "* x축의 구간개수를50개로 설정하여 s3를 히스토그램으로그려라"
      ]
    },
    {
      "cell_type": "code",
      "metadata": {
        "id": "LGghPWtIt3SD"
      },
      "source": [
        ""
      ],
      "execution_count": null,
      "outputs": []
    },
    {
      "cell_type": "markdown",
      "metadata": {
        "id": "PzaPAWphMqEo"
      },
      "source": [
        "## 산점도 그리기"
      ]
    },
    {
      "cell_type": "code",
      "metadata": {
        "id": "4b-MSmvSMqFL",
        "colab": {
          "base_uri": "https://localhost:8080/",
          "height": 399
        },
        "outputId": "f9395df0-a49e-47a8-bce5-9048c970da9c"
      },
      "source": [
        "x1 = np.random.normal(1, 1, size=(100, 1))\n",
        "x2 = np.random.normal(-2, 4, size=(100, 1))\n",
        "X = np.concatenate((x1, x2), axis=1)\n",
        "df3 = pd.DataFrame(X, columns=[\"x1\", \"x2\"])\n",
        "df3"
      ],
      "execution_count": null,
      "outputs": [
        {
          "output_type": "execute_result",
          "data": {
            "text/html": [
              "<div>\n",
              "<style scoped>\n",
              "    .dataframe tbody tr th:only-of-type {\n",
              "        vertical-align: middle;\n",
              "    }\n",
              "\n",
              "    .dataframe tbody tr th {\n",
              "        vertical-align: top;\n",
              "    }\n",
              "\n",
              "    .dataframe thead th {\n",
              "        text-align: right;\n",
              "    }\n",
              "</style>\n",
              "<table border=\"1\" class=\"dataframe\">\n",
              "  <thead>\n",
              "    <tr style=\"text-align: right;\">\n",
              "      <th></th>\n",
              "      <th>x1</th>\n",
              "      <th>x2</th>\n",
              "    </tr>\n",
              "  </thead>\n",
              "  <tbody>\n",
              "    <tr>\n",
              "      <th>0</th>\n",
              "      <td>2.164951</td>\n",
              "      <td>-6.132267</td>\n",
              "    </tr>\n",
              "    <tr>\n",
              "      <th>1</th>\n",
              "      <td>1.615138</td>\n",
              "      <td>3.221931</td>\n",
              "    </tr>\n",
              "    <tr>\n",
              "      <th>2</th>\n",
              "      <td>1.213518</td>\n",
              "      <td>-0.539978</td>\n",
              "    </tr>\n",
              "    <tr>\n",
              "      <th>3</th>\n",
              "      <td>3.171097</td>\n",
              "      <td>-3.248257</td>\n",
              "    </tr>\n",
              "    <tr>\n",
              "      <th>4</th>\n",
              "      <td>1.938202</td>\n",
              "      <td>-2.150673</td>\n",
              "    </tr>\n",
              "    <tr>\n",
              "      <th>...</th>\n",
              "      <td>...</td>\n",
              "      <td>...</td>\n",
              "    </tr>\n",
              "    <tr>\n",
              "      <th>95</th>\n",
              "      <td>2.202578</td>\n",
              "      <td>-5.027287</td>\n",
              "    </tr>\n",
              "    <tr>\n",
              "      <th>96</th>\n",
              "      <td>0.698536</td>\n",
              "      <td>-8.378725</td>\n",
              "    </tr>\n",
              "    <tr>\n",
              "      <th>97</th>\n",
              "      <td>0.496533</td>\n",
              "      <td>-5.162093</td>\n",
              "    </tr>\n",
              "    <tr>\n",
              "      <th>98</th>\n",
              "      <td>-0.158065</td>\n",
              "      <td>-5.936603</td>\n",
              "    </tr>\n",
              "    <tr>\n",
              "      <th>99</th>\n",
              "      <td>2.335152</td>\n",
              "      <td>-5.155524</td>\n",
              "    </tr>\n",
              "  </tbody>\n",
              "</table>\n",
              "<p>100 rows × 2 columns</p>\n",
              "</div>"
            ],
            "text/plain": [
              "          x1        x2\n",
              "0   2.164951 -6.132267\n",
              "1   1.615138  3.221931\n",
              "2   1.213518 -0.539978\n",
              "3   3.171097 -3.248257\n",
              "4   1.938202 -2.150673\n",
              "..       ...       ...\n",
              "95  2.202578 -5.027287\n",
              "96  0.698536 -8.378725\n",
              "97  0.496533 -5.162093\n",
              "98 -0.158065 -5.936603\n",
              "99  2.335152 -5.155524\n",
              "\n",
              "[100 rows x 2 columns]"
            ]
          },
          "metadata": {
            "tags": []
          },
          "execution_count": 6
        }
      ]
    },
    {
      "cell_type": "markdown",
      "metadata": {
        "id": "vhu60hvjSLeb"
      },
      "source": [
        "* df3의 x1열을 x축으로 x2열을 y축으로 산점도를 그려라"
      ]
    },
    {
      "cell_type": "code",
      "metadata": {
        "id": "q4ykGVibMWSi"
      },
      "source": [
        ""
      ],
      "execution_count": null,
      "outputs": []
    },
    {
      "cell_type": "markdown",
      "metadata": {
        "id": "fV6uu19zMvX0"
      },
      "source": [
        "##  플롯 조정\n",
        "* color\n",
        "\n",
        "값 색상\n",
        "\n",
        "\"b\" blue\n",
        "\n",
        "\"g\" green\n",
        "\n",
        "\"r\" red\n",
        "\n",
        "\"c\" cyan\n",
        "\n",
        "\"m\" magenta\n",
        "\n",
        "\"y\" yellow\n",
        "\n",
        "\"k\" black\n",
        "\n",
        "\"w\" white\n",
        "\n",
        "* marker\n",
        "\n",
        "값 마킹\n",
        "\n",
        "\".\" point\n",
        "\n",
        "\",\" pixel\n",
        "\n",
        "\"o\" circle\n",
        "\n",
        "\"v\" triangle_down\n",
        "\n",
        "\"^\" triangle_up\n",
        "\n",
        "\"<\" triangle_left\n",
        "\n",
        "\">\" triangle_right\n",
        "\n",
        "\"8\" octagon\n",
        "\n",
        "\"s\" square\n",
        "\n",
        "\"p\" pentagon\n",
        "\n",
        "\"*\" star\n",
        "\n",
        "\"h\" hexagon\n",
        "\n",
        "\"+\" plus\n",
        "\n",
        "\"x\" x\n",
        "\n",
        "\"D\" diamond\n",
        "\n",
        "* line style\n",
        "\n",
        "값 라인 스타일\n",
        "\n",
        "\"-\" solid line\n",
        "\n",
        "\"--\" dashed line\n",
        "\n",
        "\"-.\" dash-dotted line\n",
        "\n",
        "\":\" dotted line\n",
        "\n",
        "\"None\" draw nothing\n"
      ]
    },
    {
      "cell_type": "markdown",
      "metadata": {
        "id": "kyBDJFiGMX3h"
      },
      "source": [
        "* plt.plot(np.random.randn(50)에서 색상은 초록, 마킹모양은 원으로 선스타일은 dashed line으로 그려라"
      ]
    },
    {
      "cell_type": "code",
      "metadata": {
        "id": "KWRSFv_DMvX2"
      },
      "source": [
        ""
      ],
      "execution_count": null,
      "outputs": []
    },
    {
      "cell_type": "markdown",
      "metadata": {
        "id": "1H0Z-LfjMzNK"
      },
      "source": [
        "* y=x그래프를 solid green 옵션으로 그려라"
      ]
    },
    {
      "cell_type": "code",
      "metadata": {
        "id": "SFi6-Ut8MzNN"
      },
      "source": [
        ""
      ],
      "execution_count": null,
      "outputs": []
    },
    {
      "cell_type": "markdown",
      "metadata": {
        "id": "p-2CkyUXM8he"
      },
      "source": [
        "* y=x+1그래프를 dashed cyan 옵션으로 그려라"
      ]
    },
    {
      "cell_type": "code",
      "metadata": {
        "id": "qVc87VZMM8hg"
      },
      "source": [
        ""
      ],
      "execution_count": null,
      "outputs": []
    },
    {
      "cell_type": "markdown",
      "metadata": {
        "id": "QZj4OZD_NEQ5"
      },
      "source": [
        "* y=x+2 그래프를 dashdot black 옵션으로 그려라"
      ]
    },
    {
      "cell_type": "code",
      "metadata": {
        "id": "RW646EeRNEQ6"
      },
      "source": [
        ""
      ],
      "execution_count": null,
      "outputs": []
    },
    {
      "cell_type": "markdown",
      "metadata": {
        "id": "UxETcM-fNl-w"
      },
      "source": [
        "* y=x+3그래프를 dotted red 옵션으로 그려라"
      ]
    },
    {
      "cell_type": "code",
      "metadata": {
        "id": "ZQMrrvhbNJ5Q"
      },
      "source": [
        ""
      ],
      "execution_count": null,
      "outputs": []
    },
    {
      "cell_type": "markdown",
      "metadata": {
        "id": "4ezZWnu4O_yG"
      },
      "source": [
        "* 코사인 그래프를 그리고 x축의 범위를 (-1,11)로 y축의 범위를 (1.5,1.5)으로 설정해라"
      ]
    },
    {
      "cell_type": "code",
      "metadata": {
        "id": "TNNVxVlRPACn"
      },
      "source": [
        ""
      ],
      "execution_count": null,
      "outputs": []
    },
    {
      "cell_type": "markdown",
      "metadata": {
        "id": "Wv7UR8SlPAOi"
      },
      "source": [
        "* 자연상수 그래프(np.exp(x)그래프를 그리고 y축의 스케일을 로그로 설정해라"
      ]
    },
    {
      "cell_type": "code",
      "metadata": {
        "id": "oo5xRwzXPAOj"
      },
      "source": [
        ""
      ],
      "execution_count": null,
      "outputs": []
    },
    {
      "cell_type": "markdown",
      "metadata": {
        "id": "K_du-yBjh8Gz"
      },
      "source": [
        "* 사인그래프를 그리고 축의 레이블를 a sine curve로 지정하고 x축의 레이블을 x, y축의 레이블을 sin(x)라 설정해라"
      ]
    },
    {
      "cell_type": "code",
      "metadata": {
        "id": "60clgNFPj_XN"
      },
      "source": [
        ""
      ],
      "execution_count": null,
      "outputs": []
    },
    {
      "cell_type": "markdown",
      "metadata": {
        "id": "XtjJ_JSBPAg8"
      },
      "source": [
        "* 사인그래프를 그리고 옵션을 dash green , 레이블을 'sin(x)'로 \n",
        "* 사인그래프를 그리고 옵션을 dott blue , 레이블을 'cos(x)'로\n",
        "* 두그래프의 x축의 범위를 동기화\n",
        "* 그래프의 제목을 'curves of sine and cosine'\n",
        "* x레이블을 'x'로\n",
        "* 범례표시해라"
      ]
    },
    {
      "cell_type": "code",
      "metadata": {
        "id": "aJST_ZDnPAg_"
      },
      "source": [
        ""
      ],
      "execution_count": null,
      "outputs": []
    }
  ]
}