{
  "nbformat": 4,
  "nbformat_minor": 0,
  "metadata": {
    "colab": {
      "name": "기초반과제1.ipynb",
      "provenance": [],
      "authorship_tag": "ABX9TyPEfFFPlBYHoLWyYMjJSIRJ",
      "include_colab_link": true
    },
    "kernelspec": {
      "name": "python3",
      "display_name": "Python 3"
    },
    "language_info": {
      "name": "python"
    }
  },
  "cells": [
    {
      "cell_type": "markdown",
      "metadata": {
        "id": "view-in-github",
        "colab_type": "text"
      },
      "source": [
        "<a href=\"https://colab.research.google.com/github/1oneweeek/DALC_Scala/blob/main/%EA%B8%B0%EC%B4%88%EB%B0%98%EA%B3%BC%EC%A0%9C1.ipynb\" target=\"_parent\"><img src=\"https://colab.research.google.com/assets/colab-badge.svg\" alt=\"Open In Colab\"/></a>"
      ]
    },
    {
      "cell_type": "markdown",
      "metadata": {
        "id": "8d6DgDG7rBo0"
      },
      "source": [
        "변수"
      ]
    },
    {
      "cell_type": "code",
      "metadata": {
        "colab": {
          "base_uri": "https://localhost:8080/"
        },
        "id": "07vM1hw_qrfv",
        "outputId": "c5f3ef7b-2331-4079-e52f-93b50315e453"
      },
      "source": [
        "name = \"(이름을 적어주세요)\"\n",
        "print(name)"
      ],
      "execution_count": 1,
      "outputs": [
        {
          "output_type": "stream",
          "text": [
            "(이름을 적어주세요)\n"
          ],
          "name": "stdout"
        }
      ]
    },
    {
      "cell_type": "code",
      "metadata": {
        "colab": {
          "base_uri": "https://localhost:8080/"
        },
        "id": "BNuZBBNDq9Le",
        "outputId": "07f40bd1-38b5-4290-a22a-300e473e1913"
      },
      "source": [
        "abc = \"abc\"\n",
        "abc_123 = 123\n",
        "Abc_123 = 321\n",
        "print(abc)\n",
        "print(abc_123)\n",
        "print(Abc_123)"
      ],
      "execution_count": 2,
      "outputs": [
        {
          "output_type": "stream",
          "text": [
            "abc\n",
            "123\n",
            "321\n"
          ],
          "name": "stdout"
        }
      ]
    },
    {
      "cell_type": "markdown",
      "metadata": {
        "id": "1hiH9stCrLHB"
      },
      "source": [
        "자료형"
      ]
    },
    {
      "cell_type": "code",
      "metadata": {
        "colab": {
          "base_uri": "https://localhost:8080/"
        },
        "id": "N7rdIE2HrI3J",
        "outputId": "58dbd55c-09b8-4706-82b2-779713e645c4"
      },
      "source": [
        "# 불리언형 자료형\n",
        "\n",
        "b = True\n",
        "print(b)\n",
        "print(type(b))"
      ],
      "execution_count": 3,
      "outputs": [
        {
          "output_type": "stream",
          "text": [
            "True\n",
            "<class 'bool'>\n"
          ],
          "name": "stdout"
        }
      ]
    },
    {
      "cell_type": "code",
      "metadata": {
        "colab": {
          "base_uri": "https://localhost:8080/"
        },
        "id": "6UnLmFSrrTBP",
        "outputId": "65f1257a-f718-44f4-a1a7-f9834e75809e"
      },
      "source": [
        "# 정수형 자료형\n",
        "\n",
        "# 10진수\n",
        "i = 10\n",
        "print(i)\n",
        "print(type(i))\n",
        "\n",
        "# 2진수\n",
        "b =0b010\n",
        "print(b)\n",
        "\n",
        "# 8진수\n",
        "o = 0o130\n",
        "print(o)\n",
        "\n",
        "# 16진수\n",
        "h = 0xABC\n",
        "print(h)"
      ],
      "execution_count": 7,
      "outputs": [
        {
          "output_type": "stream",
          "text": [
            "10\n",
            "<class 'int'>\n",
            "2\n",
            "88\n",
            "2748\n"
          ],
          "name": "stdout"
        }
      ]
    },
    {
      "cell_type": "code",
      "metadata": {
        "colab": {
          "base_uri": "https://localhost:8080/"
        },
        "id": "yX-Xu2djruRZ",
        "outputId": "270ac8ac-1599-4c7c-bdfa-acb5d1708e92"
      },
      "source": [
        "# 실수형 자료형\n",
        "\n",
        "# 고정소수점\n",
        "f = 12.34\n",
        "print(type(f))\n",
        "\n",
        "f1 = 0.123\n",
        "f2 = .123\n",
        "\n",
        "# 부동소수점\n",
        "e = 1234e-2\n",
        "print(e)\n",
        "e1 = 123e-3\n",
        "print(e1)"
      ],
      "execution_count": 13,
      "outputs": [
        {
          "output_type": "stream",
          "text": [
            "<class 'float'>\n",
            "12.34\n",
            "0.123\n"
          ],
          "name": "stdout"
        }
      ]
    },
    {
      "cell_type": "code",
      "metadata": {
        "colab": {
          "base_uri": "https://localhost:8080/"
        },
        "id": "vrkIGLOEsRq9",
        "outputId": "9e467d58-84cb-4005-870d-e8544424d934"
      },
      "source": [
        "# 복소수형 자료형\n",
        "c = 1 +23j\n",
        "print(c)"
      ],
      "execution_count": 14,
      "outputs": [
        {
          "output_type": "stream",
          "text": [
            "(1+23j)\n"
          ],
          "name": "stdout"
        }
      ]
    },
    {
      "cell_type": "code",
      "metadata": {
        "colab": {
          "base_uri": "https://localhost:8080/"
        },
        "id": "3ySd5byNscD5",
        "outputId": "ea8109cd-eec4-4088-db3b-fe5e6cf64aea"
      },
      "source": [
        "# 문자열 자료형\n",
        "\n",
        "string = \"(이름을 적어주세요)\"\n",
        "print(type(string))"
      ],
      "execution_count": 15,
      "outputs": [
        {
          "output_type": "stream",
          "text": [
            "<class 'str'>\n"
          ],
          "name": "stdout"
        }
      ]
    },
    {
      "cell_type": "code",
      "metadata": {
        "colab": {
          "base_uri": "https://localhost:8080/"
        },
        "id": "Vim2J08Eskb3",
        "outputId": "2459d75b-6a4b-4151-c8a6-913e4c2b90aa"
      },
      "source": [
        "# 리스트 자료형\n",
        "\n",
        "I = [1, 2, 3]\n",
        "print(type(I))\n",
        "\n",
        "L123 = [1, \"one\", 2, \"two\"]\n",
        "print(L123)"
      ],
      "execution_count": 17,
      "outputs": [
        {
          "output_type": "stream",
          "text": [
            "<class 'list'>\n",
            "[1, 'one', 2, 'two']\n"
          ],
          "name": "stdout"
        }
      ]
    },
    {
      "cell_type": "code",
      "metadata": {
        "colab": {
          "base_uri": "https://localhost:8080/"
        },
        "id": "xtFuGWtstN9z",
        "outputId": "def5da7a-6ab5-4b51-ee6c-70d5f3fd10cd"
      },
      "source": [
        "# 튜플 자료형\n",
        "\n",
        "t = (1, 2, 3)\n",
        "print(t)\n",
        "print(type(t))"
      ],
      "execution_count": 18,
      "outputs": [
        {
          "output_type": "stream",
          "text": [
            "(1, 2, 3)\n",
            "<class 'tuple'>\n"
          ],
          "name": "stdout"
        }
      ]
    },
    {
      "cell_type": "code",
      "metadata": {
        "colab": {
          "base_uri": "https://localhost:8080/"
        },
        "id": "jDH8l09KtWNK",
        "outputId": "ff9cd07b-24b3-4a5e-bec4-e41a7eafdb3b"
      },
      "source": [
        "# 범위 자료형\n",
        "r = range(10)\n",
        "print(type(r))"
      ],
      "execution_count": 19,
      "outputs": [
        {
          "output_type": "stream",
          "text": [
            "<class 'range'>\n"
          ],
          "name": "stdout"
        }
      ]
    },
    {
      "cell_type": "code",
      "metadata": {
        "colab": {
          "base_uri": "https://localhost:8080/"
        },
        "id": "5BfJ7P88taUJ",
        "outputId": "abaa47fa-507e-4789-eda1-d2b5c0648662"
      },
      "source": [
        "# 집합 자료형\n",
        "s = {2, 3, 1}\n",
        "print(type(s))"
      ],
      "execution_count": 20,
      "outputs": [
        {
          "output_type": "stream",
          "text": [
            "<class 'set'>\n"
          ],
          "name": "stdout"
        }
      ]
    },
    {
      "cell_type": "code",
      "metadata": {
        "colab": {
          "base_uri": "https://localhost:8080/"
        },
        "id": "yZ8yx5O5thql",
        "outputId": "931c5540-57ee-4823-82a4-f934371a8438"
      },
      "source": [
        "# 딕셔너리 자료형\n",
        "d = { 1: 'One', 2: 'Two'}\n",
        "print(d)\n",
        "print(type(d))"
      ],
      "execution_count": 21,
      "outputs": [
        {
          "output_type": "stream",
          "text": [
            "{1: 'One', 2: 'Two'}\n",
            "<class 'dict'>\n"
          ],
          "name": "stdout"
        }
      ]
    },
    {
      "cell_type": "code",
      "metadata": {
        "colab": {
          "base_uri": "https://localhost:8080/"
        },
        "id": "5bpw59y5tuVR",
        "outputId": "f9485b9c-6b44-4f39-9837-48e4e0b6d222"
      },
      "source": [
        "# 바이트 시퀀스형\n",
        "byte = b'\\x00'\n",
        "print(byte)\n",
        "print(type(byte))\n",
        "\n",
        "byte1 = b\"hello\"\n",
        "print(byte1)\n",
        "print(type(byte1))\n",
        "\n",
        "ba = bytearray(byte)\n",
        "print(ba)\n",
        "print(type(ba))\n",
        "\n",
        "#자료에 대한 메모리값 보기\n",
        "mv = memoryview(ba)\n",
        "print(mv)\n",
        "print(type(mv))"
      ],
      "execution_count": 22,
      "outputs": [
        {
          "output_type": "stream",
          "text": [
            "b'\\x00'\n",
            "<class 'bytes'>\n",
            "b'hello'\n",
            "<class 'bytes'>\n",
            "bytearray(b'\\x00')\n",
            "<class 'bytearray'>\n",
            "<memory at 0x7f4e8e0a4a10>\n",
            "<class 'memoryview'>\n"
          ],
          "name": "stdout"
        }
      ]
    },
    {
      "cell_type": "markdown",
      "metadata": {
        "id": "gUw7frzQuSz4"
      },
      "source": [
        "자료형 변환"
      ]
    },
    {
      "cell_type": "code",
      "metadata": {
        "colab": {
          "base_uri": "https://localhost:8080/"
        },
        "id": "9wPdQTu9uQoT",
        "outputId": "2f9f58e0-ff69-47aa-da76-6fb87adf4891"
      },
      "source": [
        "# bool\n",
        "\n",
        "print(bool(True))\n",
        "print(bool(False))\n",
        "print(bool(\"메롱\"))\n",
        "print(bool((1, 2, 3)))\n",
        "print(bool({4, 5}))\n",
        "print(bool({1 : 'One'}))"
      ],
      "execution_count": 24,
      "outputs": [
        {
          "output_type": "stream",
          "text": [
            "True\n",
            "False\n",
            "True\n",
            "True\n",
            "True\n",
            "True\n"
          ],
          "name": "stdout"
        }
      ]
    },
    {
      "cell_type": "code",
      "metadata": {
        "colab": {
          "base_uri": "https://localhost:8080/"
        },
        "id": "axhEIGSsust-",
        "outputId": "0e6a44fb-f6d8-4d2c-8e18-25d1520632d2"
      },
      "source": [
        "# int\n",
        "a1 = \"10\"\n",
        "int(a1)\n",
        "b = int(a1)\n",
        "print(type(b))"
      ],
      "execution_count": 26,
      "outputs": [
        {
          "output_type": "stream",
          "text": [
            "<class 'int'>\n"
          ],
          "name": "stdout"
        }
      ]
    },
    {
      "cell_type": "code",
      "metadata": {
        "colab": {
          "base_uri": "https://localhost:8080/"
        },
        "id": "2s--1Xsru8bz",
        "outputId": "dc9738ff-0d33-4dbe-e3f4-e1f39eb76154"
      },
      "source": [
        "# float\n",
        "a2 = 1\n",
        "print(type(a2))\n",
        "c = float(a2)\n",
        "print(type(c))"
      ],
      "execution_count": 28,
      "outputs": [
        {
          "output_type": "stream",
          "text": [
            "<class 'int'>\n",
            "<class 'float'>\n"
          ],
          "name": "stdout"
        }
      ]
    },
    {
      "cell_type": "code",
      "metadata": {
        "colab": {
          "base_uri": "https://localhost:8080/"
        },
        "id": "cAI0aWh4vF3B",
        "outputId": "b2f8d4c9-d8a7-4970-fcef-3c33c7f1a294"
      },
      "source": [
        "# complex\n",
        "print(complex(True))\n",
        "print(complex(False))\n",
        "print(complex(10))\n",
        "print(complex(0b010))\n",
        "print(complex(12.34))\n",
        "print(complex(1234e-2))\n",
        "print(complex(\"10\"))"
      ],
      "execution_count": 29,
      "outputs": [
        {
          "output_type": "stream",
          "text": [
            "(1+0j)\n",
            "0j\n",
            "(10+0j)\n",
            "(2+0j)\n",
            "(12.34+0j)\n",
            "(12.34+0j)\n",
            "(10+0j)\n"
          ],
          "name": "stdout"
        }
      ]
    },
    {
      "cell_type": "code",
      "metadata": {
        "colab": {
          "base_uri": "https://localhost:8080/",
          "height": 35
        },
        "id": "0Zx98ZXIvMr9",
        "outputId": "fe14c523-4ce1-498f-8bef-fd99d805f7bb"
      },
      "source": [
        "# str\n",
        "a3 = 111\n",
        "d = str(a3)\n",
        "d"
      ],
      "execution_count": 31,
      "outputs": [
        {
          "output_type": "execute_result",
          "data": {
            "application/vnd.google.colaboratory.intrinsic+json": {
              "type": "string"
            },
            "text/plain": [
              "'111'"
            ]
          },
          "metadata": {
            "tags": []
          },
          "execution_count": 31
        }
      ]
    },
    {
      "cell_type": "code",
      "metadata": {
        "colab": {
          "base_uri": "https://localhost:8080/"
        },
        "id": "tUbDSec8vZZE",
        "outputId": "26cd6371-dbf0-4ac9-ceff-783d5b8a363b"
      },
      "source": [
        "# eval\n",
        "print(\"1+2\")\n",
        "print(eval(\"1+2\")) "
      ],
      "execution_count": 32,
      "outputs": [
        {
          "output_type": "stream",
          "text": [
            "1+2\n",
            "3\n"
          ],
          "name": "stdout"
        }
      ]
    },
    {
      "cell_type": "code",
      "metadata": {
        "colab": {
          "base_uri": "https://localhost:8080/"
        },
        "id": "XS8_76UVvfjI",
        "outputId": "4c08fd7d-76de-4c31-d401-0181d258f7fb"
      },
      "source": [
        "# tuple\n",
        "e = \"DALC\"\n",
        "f = tuple(e)\n",
        "print(f)\n",
        "print(type(f))\n",
        "print(tuple([1,2,3]))\n",
        "print(tuple((1,2,3)))"
      ],
      "execution_count": 36,
      "outputs": [
        {
          "output_type": "stream",
          "text": [
            "('D', 'A', 'L', 'C')\n",
            "<class 'tuple'>\n",
            "(1, 2, 3)\n",
            "(1, 2, 3)\n"
          ],
          "name": "stdout"
        }
      ]
    },
    {
      "cell_type": "code",
      "metadata": {
        "colab": {
          "base_uri": "https://localhost:8080/"
        },
        "id": "dUo0J90UvxLy",
        "outputId": "19e1076d-abc2-4416-ba76-7bab6186e181"
      },
      "source": [
        "# list\n",
        "e = \"DALC\"\n",
        "g = list(e)\n",
        "print(g)\n",
        "print(type(g))\n",
        "print(list([1,2,3]))\n",
        "print(list((1,2,3)))"
      ],
      "execution_count": 39,
      "outputs": [
        {
          "output_type": "stream",
          "text": [
            "['D', 'A', 'L', 'C']\n",
            "<class 'list'>\n",
            "[1, 2, 3]\n",
            "[1, 2, 3]\n"
          ],
          "name": "stdout"
        }
      ]
    },
    {
      "cell_type": "code",
      "metadata": {
        "colab": {
          "base_uri": "https://localhost:8080/"
        },
        "id": "W2HTL1E9wGhX",
        "outputId": "4b79d21c-c318-4ccb-a745-416eeb68d67a"
      },
      "source": [
        "# set\n",
        "print(set({1,2,3}))\n",
        "print(set({1:'one', 2: 'two'}))"
      ],
      "execution_count": 40,
      "outputs": [
        {
          "output_type": "stream",
          "text": [
            "{1, 2, 3}\n",
            "{1, 2}\n"
          ],
          "name": "stdout"
        }
      ]
    },
    {
      "cell_type": "code",
      "metadata": {
        "colab": {
          "base_uri": "https://localhost:8080/"
        },
        "id": "Z8qCNfW6wO6I",
        "outputId": "f11a31c2-80dd-4863-b3de-64c0f728ca86"
      },
      "source": [
        "# frozenset()\n",
        "print(frozenset('DALC'))\n",
        "print(frozenset([1,2,3]))"
      ],
      "execution_count": 41,
      "outputs": [
        {
          "output_type": "stream",
          "text": [
            "frozenset({'C', 'D', 'L', 'A'})\n",
            "frozenset({1, 2, 3})\n"
          ],
          "name": "stdout"
        }
      ]
    },
    {
      "cell_type": "code",
      "metadata": {
        "colab": {
          "base_uri": "https://localhost:8080/"
        },
        "id": "OH2VTkiDwtEK",
        "outputId": "4a87198f-8044-4d0d-fdd5-bb536627e220"
      },
      "source": [
        "# dict()\n",
        "print(dict({1:'one', 2: 'two'}))"
      ],
      "execution_count": 42,
      "outputs": [
        {
          "output_type": "stream",
          "text": [
            "{1: 'one', 2: 'two'}\n"
          ],
          "name": "stdout"
        }
      ]
    },
    {
      "cell_type": "code",
      "metadata": {
        "colab": {
          "base_uri": "https://localhost:8080/"
        },
        "id": "qHRnnkuEwxRz",
        "outputId": "eef0b3b4-3d60-475f-d510-fa2d83b8007d"
      },
      "source": [
        "# chr 정수 -> ASCII로\n",
        "print(chr(97))\n",
        "print(chr(65))\n",
        "print(chr(122))\n",
        "print(chr(90))"
      ],
      "execution_count": 43,
      "outputs": [
        {
          "output_type": "stream",
          "text": [
            "a\n",
            "A\n",
            "z\n",
            "Z\n"
          ],
          "name": "stdout"
        }
      ]
    },
    {
      "cell_type": "code",
      "metadata": {
        "colab": {
          "base_uri": "https://localhost:8080/"
        },
        "id": "hGI6zDqawzCZ",
        "outputId": "2fe37bf8-5e4f-44fe-ce27-dedee5f4754e"
      },
      "source": [
        "# ord ASCII -> 정수로\n",
        "print(ord('a'))\n",
        "print(ord('A'))\n",
        "print(ord('z'))\n",
        "print(ord('Z'))"
      ],
      "execution_count": 45,
      "outputs": [
        {
          "output_type": "stream",
          "text": [
            "97\n",
            "65\n",
            "122\n",
            "90\n"
          ],
          "name": "stdout"
        }
      ]
    },
    {
      "cell_type": "code",
      "metadata": {
        "colab": {
          "base_uri": "https://localhost:8080/"
        },
        "id": "G9qV_MqAw5Mk",
        "outputId": "e7458509-02e4-4258-aeeb-9b10096b7f1c"
      },
      "source": [
        "# bin 2진수로\n",
        "print(bin(True))\n",
        "print(bin(False))\n",
        "print(bin(10))\n",
        "print(bin(0b010))"
      ],
      "execution_count": 46,
      "outputs": [
        {
          "output_type": "stream",
          "text": [
            "0b1\n",
            "0b0\n",
            "0b1010\n",
            "0b10\n"
          ],
          "name": "stdout"
        }
      ]
    },
    {
      "cell_type": "code",
      "metadata": {
        "colab": {
          "base_uri": "https://localhost:8080/"
        },
        "id": "iSDrK237w_OC",
        "outputId": "f663a86d-f7ee-4c0f-ed24-1ea65cca4c68"
      },
      "source": [
        "# oct 8진수로\n",
        "print(oct(True))\n",
        "print(oct(False))\n",
        "print(oct(10))\n",
        "print(oct(0b010))"
      ],
      "execution_count": 47,
      "outputs": [
        {
          "output_type": "stream",
          "text": [
            "0o1\n",
            "0o0\n",
            "0o12\n",
            "0o2\n"
          ],
          "name": "stdout"
        }
      ]
    },
    {
      "cell_type": "code",
      "metadata": {
        "colab": {
          "base_uri": "https://localhost:8080/"
        },
        "id": "ulacDLhexPMp",
        "outputId": "f6c10e99-148a-4ef5-da25-ca18ed44a72b"
      },
      "source": [
        "# hex 16진수로\n",
        "print(hex(True))\n",
        "print(hex(False))\n",
        "print(hex(10))\n",
        "print(hex(0b010))"
      ],
      "execution_count": 48,
      "outputs": [
        {
          "output_type": "stream",
          "text": [
            "0x1\n",
            "0x0\n",
            "0xa\n",
            "0x2\n"
          ],
          "name": "stdout"
        }
      ]
    },
    {
      "cell_type": "code",
      "metadata": {
        "colab": {
          "base_uri": "https://localhost:8080/"
        },
        "id": "GiBsmvl1xZcI",
        "outputId": "27fce0b8-3a7e-489d-a149-e5ae1f56ad36"
      },
      "source": [
        "# bytes 바이트로\n",
        "print(bytes(True))\n",
        "print(bytes([1,2,3]))"
      ],
      "execution_count": 49,
      "outputs": [
        {
          "output_type": "stream",
          "text": [
            "b'\\x00'\n",
            "b'\\x01\\x02\\x03'\n"
          ],
          "name": "stdout"
        }
      ]
    },
    {
      "cell_type": "code",
      "metadata": {
        "colab": {
          "base_uri": "https://localhost:8080/"
        },
        "id": "bn2P2zbIxepl",
        "outputId": "40724fe6-f1fa-4386-c19a-c844d326cd19"
      },
      "source": [
        "# bytearray\n",
        "\n",
        "ba = bytearray(b'hello')\n",
        "ba[0] = ord('H')\n",
        "print(ba)\n",
        "\n",
        "ba1 = bytearray([1,2,3])\n",
        "print(ba)\n",
        "ba1[0] = 4\n",
        "print(ba1)\n",
        "print(type(ba1))"
      ],
      "execution_count": 50,
      "outputs": [
        {
          "output_type": "stream",
          "text": [
            "bytearray(b'Hello')\n",
            "bytearray(b'Hello')\n",
            "bytearray(b'\\x04\\x02\\x03')\n",
            "<class 'bytearray'>\n"
          ],
          "name": "stdout"
        }
      ]
    },
    {
      "cell_type": "code",
      "metadata": {
        "colab": {
          "base_uri": "https://localhost:8080/"
        },
        "id": "3rb94ROSxoIv",
        "outputId": "95997b99-fb33-4df0-f0c7-d77ba2321aa2"
      },
      "source": [
        "# memoryview\n",
        "\n",
        "ba = bytearray(b'hello')\n",
        "mv = memoryview(ba)\n",
        "ba[0] = 72\n",
        "print(ba)"
      ],
      "execution_count": 53,
      "outputs": [
        {
          "output_type": "stream",
          "text": [
            "bytearray(b'Hello')\n"
          ],
          "name": "stdout"
        }
      ]
    },
    {
      "cell_type": "markdown",
      "metadata": {
        "id": "4vBWy9XSx3GB"
      },
      "source": [
        "자료형 계산"
      ]
    },
    {
      "cell_type": "code",
      "metadata": {
        "colab": {
          "base_uri": "https://localhost:8080/"
        },
        "id": "5FBPYa6vx4Xq",
        "outputId": "45786622-887e-4783-b7a1-451c8836a72e"
      },
      "source": [
        "# min\n",
        "print(min(1, 2, 3))\n",
        "print(min([3, 4, 5]))"
      ],
      "execution_count": 55,
      "outputs": [
        {
          "output_type": "stream",
          "text": [
            "1\n",
            "3\n"
          ],
          "name": "stdout"
        }
      ]
    },
    {
      "cell_type": "code",
      "metadata": {
        "colab": {
          "base_uri": "https://localhost:8080/"
        },
        "id": "sqJR1pq1x_-L",
        "outputId": "897c4cc8-6b2c-44e7-dafa-fc32488cb514"
      },
      "source": [
        "# max\n",
        "print(max(1, 2, 3))\n",
        "print(max([3, 4, 5]))"
      ],
      "execution_count": 59,
      "outputs": [
        {
          "output_type": "stream",
          "text": [
            "3\n",
            "5\n"
          ],
          "name": "stdout"
        }
      ]
    },
    {
      "cell_type": "code",
      "metadata": {
        "colab": {
          "base_uri": "https://localhost:8080/"
        },
        "id": "75qUa9TgyLTD",
        "outputId": "78e4b0c4-e2af-4984-a85e-e802f5f608bb"
      },
      "source": [
        "# sum\n",
        "print(sum((1, 2, 3)))\n",
        "print(sum([3, 4, 5]))"
      ],
      "execution_count": 65,
      "outputs": [
        {
          "output_type": "stream",
          "text": [
            "6\n",
            "12\n"
          ],
          "name": "stdout"
        }
      ]
    },
    {
      "cell_type": "code",
      "metadata": {
        "colab": {
          "base_uri": "https://localhost:8080/"
        },
        "id": "c_NREbSqyhIa",
        "outputId": "23073d33-2f60-41aa-8479-0679aa882660"
      },
      "source": [
        "# divmod\n",
        "print(divmod(10, 5))\n",
        "print(divmod(3, 5))"
      ],
      "execution_count": 67,
      "outputs": [
        {
          "output_type": "stream",
          "text": [
            "(2, 0)\n",
            "(0, 3)\n"
          ],
          "name": "stdout"
        }
      ]
    },
    {
      "cell_type": "code",
      "metadata": {
        "colab": {
          "base_uri": "https://localhost:8080/"
        },
        "id": "CUVbh95pyoBI",
        "outputId": "27a5e56c-e412-49a6-baa0-47e6cbd76591"
      },
      "source": [
        "# abs\n",
        "abs(-4)"
      ],
      "execution_count": 68,
      "outputs": [
        {
          "output_type": "execute_result",
          "data": {
            "text/plain": [
              "4"
            ]
          },
          "metadata": {
            "tags": []
          },
          "execution_count": 68
        }
      ]
    },
    {
      "cell_type": "code",
      "metadata": {
        "colab": {
          "base_uri": "https://localhost:8080/"
        },
        "id": "ybL6GlSVyqgU",
        "outputId": "e76ee27f-641d-4a27-e464-bac15a4f7b8a"
      },
      "source": [
        "# pow\n",
        "print(pow(2, 3))\n",
        "print(pow(10, 4))"
      ],
      "execution_count": 69,
      "outputs": [
        {
          "output_type": "stream",
          "text": [
            "8\n",
            "10000\n"
          ],
          "name": "stdout"
        }
      ]
    },
    {
      "cell_type": "code",
      "metadata": {
        "colab": {
          "base_uri": "https://localhost:8080/"
        },
        "id": "syGVKoU3y6oW",
        "outputId": "a7eac762-494e-4808-d2dc-ac62a9a601f0"
      },
      "source": [
        "# len\n",
        "len(\"안녕하세요\")\n",
        "len(range(0, 10))\n",
        "len(range(1, 11))"
      ],
      "execution_count": 71,
      "outputs": [
        {
          "output_type": "execute_result",
          "data": {
            "text/plain": [
              "10"
            ]
          },
          "metadata": {
            "tags": []
          },
          "execution_count": 71
        }
      ]
    },
    {
      "cell_type": "code",
      "metadata": {
        "colab": {
          "base_uri": "https://localhost:8080/"
        },
        "id": "gFBaGnapzJpP",
        "outputId": "262fc148-f9f8-46da-895b-37dbe56303f4"
      },
      "source": [
        "# round\n",
        "\n",
        "round(3.14)\n",
        "round(3.141527, 2)"
      ],
      "execution_count": 79,
      "outputs": [
        {
          "output_type": "execute_result",
          "data": {
            "text/plain": [
              "3.14"
            ]
          },
          "metadata": {
            "tags": []
          },
          "execution_count": 79
        }
      ]
    },
    {
      "cell_type": "code",
      "metadata": {
        "colab": {
          "base_uri": "https://localhost:8080/"
        },
        "id": "Wm2ArSRNzci6",
        "outputId": "1a73f800-46fa-4245-983c-ece3540097ad"
      },
      "source": [
        "# all\n",
        "\n",
        "print(all((1,2,3)))\n",
        "print(all(()))\n",
        "\n",
        "print(all((False, True, False)))\n",
        "print(all((True, True, True)))\n",
        "print(all((False, False, False)))"
      ],
      "execution_count": 78,
      "outputs": [
        {
          "output_type": "stream",
          "text": [
            "True\n",
            "True\n",
            "False\n",
            "True\n",
            "False\n"
          ],
          "name": "stdout"
        }
      ]
    },
    {
      "cell_type": "code",
      "metadata": {
        "colab": {
          "base_uri": "https://localhost:8080/"
        },
        "id": "tYGhK3h_zur4",
        "outputId": "8306ffb5-95bc-4b8f-8fad-fd8d67550de0"
      },
      "source": [
        "# any\n",
        "print(any((1,2,3)))\n",
        "print(any(()))\n",
        "\n",
        "print(any((False, True, False))) # true가 하나라도 있으니 true로 반환되었음.\n",
        "print(any((False, False, False)))"
      ],
      "execution_count": 80,
      "outputs": [
        {
          "output_type": "stream",
          "text": [
            "True\n",
            "False\n",
            "True\n",
            "False\n"
          ],
          "name": "stdout"
        }
      ]
    },
    {
      "cell_type": "markdown",
      "metadata": {
        "id": "1FlH8lR60Rc8"
      },
      "source": [
        "연산자"
      ]
    },
    {
      "cell_type": "code",
      "metadata": {
        "colab": {
          "base_uri": "https://localhost:8080/"
        },
        "id": "xRwxj2k-02ld",
        "outputId": "eba52538-b734-4588-f50f-378601fe26df"
      },
      "source": [
        "# 산술 연산자\n",
        "cal1 = 3\n",
        "cal2 = 5\n",
        "print(cal1 + cal2)\n",
        "print(cal1 - cal2)\n",
        "print(cal1 * cal2)\n",
        "print(cal1 ** cal2)\n",
        "print(cal1 / cal2)\n",
        "print(cal1 // cal2)\n",
        "print(cal1 % cal2)"
      ],
      "execution_count": 84,
      "outputs": [
        {
          "output_type": "stream",
          "text": [
            "8\n",
            "-2\n",
            "15\n",
            "243\n",
            "0.6\n",
            "0\n",
            "3\n"
          ],
          "name": "stdout"
        }
      ]
    },
    {
      "cell_type": "code",
      "metadata": {
        "colab": {
          "base_uri": "https://localhost:8080/"
        },
        "id": "q6PiWPth0Jno",
        "outputId": "cd5d0c16-f5bc-47f4-9f64-8a9c37643c0b"
      },
      "source": [
        "# 비교 연산자\n",
        "cal1 = 3\n",
        "cal2 = 5\n",
        "\n",
        "print(cal1 == cal2)\n",
        "print(cal1 != cal2)\n",
        "print(cal1 > cal2)\n",
        "print(cal1 < cal2)\n",
        "print(cal1 >= cal2)\n",
        "print(cal1 <= cal2)"
      ],
      "execution_count": 83,
      "outputs": [
        {
          "output_type": "stream",
          "text": [
            "False\n",
            "True\n",
            "False\n",
            "True\n",
            "False\n",
            "True\n"
          ],
          "name": "stdout"
        }
      ]
    },
    {
      "cell_type": "code",
      "metadata": {
        "colab": {
          "base_uri": "https://localhost:8080/"
        },
        "id": "fRhDNjnr1ZxF",
        "outputId": "6919f538-911b-4b8d-db36-e8322183b42d"
      },
      "source": [
        "# 할당 연산자\n",
        "cal1 = 3\n",
        "cal2 = 5\n",
        "cal3 = 7\n",
        "\n",
        "cal3 = cal1 + cal2\n",
        "cal3 += cal1\n",
        "cal3 -= cal1\n",
        "cal3 *= cal1\n",
        "cal3 /= cal1\n",
        "cal3 %= cal1\n",
        "cal3 **= cal1\n",
        "cal3 //= cal1\n",
        "\n",
        "print(cal1, cal2, cal3)"
      ],
      "execution_count": 89,
      "outputs": [
        {
          "output_type": "stream",
          "text": [
            "3 5 2.0\n"
          ],
          "name": "stdout"
        }
      ]
    },
    {
      "cell_type": "code",
      "metadata": {
        "colab": {
          "base_uri": "https://localhost:8080/"
        },
        "id": "QoYV0DbO2pAu",
        "outputId": "b5799fd0-5707-424b-f49e-6714295e684e"
      },
      "source": [
        "# 비트 연산자\n",
        "cal1 = 3\n",
        "cal2 = 5\n",
        "cal3 = 7\n",
        "\n",
        "print(cal1 & cal2)\n",
        "print(cal1 | cal2)\n",
        "print(cal1 ^ cal2)\n",
        "print(cal1 << cal3)\n",
        "print(cal1 >> cal3)\n"
      ],
      "execution_count": 92,
      "outputs": [
        {
          "output_type": "stream",
          "text": [
            "1\n",
            "7\n",
            "6\n",
            "384\n",
            "0\n"
          ],
          "name": "stdout"
        }
      ]
    },
    {
      "cell_type": "code",
      "metadata": {
        "colab": {
          "base_uri": "https://localhost:8080/"
        },
        "id": "5zog2EUK27te",
        "outputId": "27057bb6-f221-4a0f-d9a0-3b41aa0a230f"
      },
      "source": [
        "# 논리 연산자\n",
        "cal1 = 3\n",
        "cal2 = 5\n",
        "cal3 = 7\n",
        "\n",
        "print(cal1 is 3 and cal2 is 5)\n",
        "print(cal1 is 3 or cal2 is 4)\n",
        "print(cal1 is 2 or cal2 is 3)\n",
        "print(cal3 is not 7)"
      ],
      "execution_count": 97,
      "outputs": [
        {
          "output_type": "stream",
          "text": [
            "True\n",
            "True\n",
            "False\n",
            "False\n"
          ],
          "name": "stdout"
        }
      ]
    },
    {
      "cell_type": "code",
      "metadata": {
        "colab": {
          "base_uri": "https://localhost:8080/"
        },
        "id": "BdWNBUZr3lmc",
        "outputId": "79a4295b-5bd5-4f1b-ea4f-f5be30f2cbdf"
      },
      "source": [
        "# 멤버 연산자\n",
        "cal1 = 3\n",
        "cal2 = 5\n",
        "l_1 = [3, 4, 8]\n",
        "print(cal1 in l_1)\n",
        "print(cal2 not in I_1)"
      ],
      "execution_count": 99,
      "outputs": [
        {
          "output_type": "stream",
          "text": [
            "True\n",
            "True\n"
          ],
          "name": "stdout"
        }
      ]
    },
    {
      "cell_type": "code",
      "metadata": {
        "colab": {
          "base_uri": "https://localhost:8080/"
        },
        "id": "_-x47pAm3zqP",
        "outputId": "be21fb2c-8c39-47d1-db8a-62dcdf948c82"
      },
      "source": [
        "# 식별 연산자\n",
        "cal1 = 3\n",
        "cal2 = 5\n",
        "print(type(cal1) is int)\n",
        "print(cal2 is not int)"
      ],
      "execution_count": 105,
      "outputs": [
        {
          "output_type": "stream",
          "text": [
            "True\n",
            "True\n"
          ],
          "name": "stdout"
        }
      ]
    },
    {
      "cell_type": "markdown",
      "metadata": {
        "id": "uZHyNkB44iCD"
      },
      "source": [
        "문제 풀기"
      ]
    },
    {
      "cell_type": "code",
      "metadata": {
        "colab": {
          "base_uri": "https://localhost:8080/"
        },
        "id": "Yl2ejQmn4ksn",
        "outputId": "30611c6e-2ec5-4ca9-a723-17044849b44d"
      },
      "source": [
        "# 다음 과목 점수의 평균을 구해서 출력하기, 조건 : 산술연산자 이용\n",
        "\n",
        "linear_algebra = 88\n",
        "statistics = 91\n",
        "basic_programming = 89\n",
        "science = 83\n",
        "\n",
        "c = linear_algebra + statistics + basic_programming + science\n",
        "average = c/4\n",
        "print(average)"
      ],
      "execution_count": 108,
      "outputs": [
        {
          "output_type": "stream",
          "text": [
            "87.75\n"
          ],
          "name": "stdout"
        }
      ]
    }
  ]
}